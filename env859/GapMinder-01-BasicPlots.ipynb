{
 "cells": [
  {
   "cell_type": "markdown",
   "metadata": {},
   "source": [
    "# GapMinder project \n",
    "https://demo.bokehplots.com/apps/gapminder\n",
    "https://www.youtube.com/watch?v=9FlUFLmaWvY"
   ]
  },
  {
   "cell_type": "markdown",
   "metadata": {},
   "source": [
    "### Import the data into a Pandas dataframe"
   ]
  },
  {
   "cell_type": "code",
   "execution_count": 1,
   "metadata": {},
   "outputs": [],
   "source": [
    "import pandas as pd"
   ]
  },
  {
   "cell_type": "code",
   "execution_count": 2,
   "metadata": {},
   "outputs": [],
   "source": [
    "data = pd.read_csv('./data/gapminder.csv',thousands=',',index_col='Year')"
   ]
  },
  {
   "cell_type": "code",
   "execution_count": 3,
   "metadata": {},
   "outputs": [
    {
     "data": {
      "text/html": [
       "<div>\n",
       "<style scoped>\n",
       "    .dataframe tbody tr th:only-of-type {\n",
       "        vertical-align: middle;\n",
       "    }\n",
       "\n",
       "    .dataframe tbody tr th {\n",
       "        vertical-align: top;\n",
       "    }\n",
       "\n",
       "    .dataframe thead th {\n",
       "        text-align: right;\n",
       "    }\n",
       "</style>\n",
       "<table border=\"1\" class=\"dataframe\">\n",
       "  <thead>\n",
       "    <tr style=\"text-align: right;\">\n",
       "      <th></th>\n",
       "      <th>Country</th>\n",
       "      <th>life</th>\n",
       "      <th>population</th>\n",
       "      <th>income</th>\n",
       "      <th>region</th>\n",
       "    </tr>\n",
       "    <tr>\n",
       "      <th>Year</th>\n",
       "      <th></th>\n",
       "      <th></th>\n",
       "      <th></th>\n",
       "      <th></th>\n",
       "      <th></th>\n",
       "    </tr>\n",
       "  </thead>\n",
       "  <tbody>\n",
       "    <tr>\n",
       "      <th>1800</th>\n",
       "      <td>Afghanistan</td>\n",
       "      <td>28.211000</td>\n",
       "      <td>3280000.0</td>\n",
       "      <td>603.0</td>\n",
       "      <td>South Asia</td>\n",
       "    </tr>\n",
       "    <tr>\n",
       "      <th>1801</th>\n",
       "      <td>Afghanistan</td>\n",
       "      <td>28.200753</td>\n",
       "      <td>NaN</td>\n",
       "      <td>603.0</td>\n",
       "      <td>South Asia</td>\n",
       "    </tr>\n",
       "    <tr>\n",
       "      <th>1802</th>\n",
       "      <td>Afghanistan</td>\n",
       "      <td>28.190507</td>\n",
       "      <td>NaN</td>\n",
       "      <td>603.0</td>\n",
       "      <td>South Asia</td>\n",
       "    </tr>\n",
       "    <tr>\n",
       "      <th>1803</th>\n",
       "      <td>Afghanistan</td>\n",
       "      <td>28.180260</td>\n",
       "      <td>NaN</td>\n",
       "      <td>603.0</td>\n",
       "      <td>South Asia</td>\n",
       "    </tr>\n",
       "    <tr>\n",
       "      <th>1804</th>\n",
       "      <td>Afghanistan</td>\n",
       "      <td>28.170013</td>\n",
       "      <td>NaN</td>\n",
       "      <td>603.0</td>\n",
       "      <td>South Asia</td>\n",
       "    </tr>\n",
       "  </tbody>\n",
       "</table>\n",
       "</div>"
      ],
      "text/plain": [
       "          Country       life  population  income      region\n",
       "Year                                                        \n",
       "1800  Afghanistan  28.211000   3280000.0   603.0  South Asia\n",
       "1801  Afghanistan  28.200753         NaN   603.0  South Asia\n",
       "1802  Afghanistan  28.190507         NaN   603.0  South Asia\n",
       "1803  Afghanistan  28.180260         NaN   603.0  South Asia\n",
       "1804  Afghanistan  28.170013         NaN   603.0  South Asia"
      ]
     },
     "execution_count": 3,
     "metadata": {},
     "output_type": "execute_result"
    }
   ],
   "source": [
    "data.head()"
   ]
  },
  {
   "cell_type": "markdown",
   "metadata": {},
   "source": [
    "### Add Bokeh objects to our environment"
   ]
  },
  {
   "cell_type": "code",
   "execution_count": 4,
   "metadata": {},
   "outputs": [
    {
     "data": {
      "text/html": [
       "\n",
       "    <div class=\"bk-root\">\n",
       "        <a href=\"https://bokeh.pydata.org\" target=\"_blank\" class=\"bk-logo bk-logo-small bk-logo-notebook\"></a>\n",
       "        <span id=\"1001\">Loading BokehJS ...</span>\n",
       "    </div>"
      ]
     },
     "metadata": {},
     "output_type": "display_data"
    },
    {
     "data": {
      "application/javascript": [
       "\n",
       "(function(root) {\n",
       "  function now() {\n",
       "    return new Date();\n",
       "  }\n",
       "\n",
       "  var force = true;\n",
       "\n",
       "  if (typeof (root._bokeh_onload_callbacks) === \"undefined\" || force === true) {\n",
       "    root._bokeh_onload_callbacks = [];\n",
       "    root._bokeh_is_loading = undefined;\n",
       "  }\n",
       "\n",
       "  var JS_MIME_TYPE = 'application/javascript';\n",
       "  var HTML_MIME_TYPE = 'text/html';\n",
       "  var EXEC_MIME_TYPE = 'application/vnd.bokehjs_exec.v0+json';\n",
       "  var CLASS_NAME = 'output_bokeh rendered_html';\n",
       "\n",
       "  /**\n",
       "   * Render data to the DOM node\n",
       "   */\n",
       "  function render(props, node) {\n",
       "    var script = document.createElement(\"script\");\n",
       "    node.appendChild(script);\n",
       "  }\n",
       "\n",
       "  /**\n",
       "   * Handle when an output is cleared or removed\n",
       "   */\n",
       "  function handleClearOutput(event, handle) {\n",
       "    var cell = handle.cell;\n",
       "\n",
       "    var id = cell.output_area._bokeh_element_id;\n",
       "    var server_id = cell.output_area._bokeh_server_id;\n",
       "    // Clean up Bokeh references\n",
       "    if (id != null && id in Bokeh.index) {\n",
       "      Bokeh.index[id].model.document.clear();\n",
       "      delete Bokeh.index[id];\n",
       "    }\n",
       "\n",
       "    if (server_id !== undefined) {\n",
       "      // Clean up Bokeh references\n",
       "      var cmd = \"from bokeh.io.state import curstate; print(curstate().uuid_to_server['\" + server_id + \"'].get_sessions()[0].document.roots[0]._id)\";\n",
       "      cell.notebook.kernel.execute(cmd, {\n",
       "        iopub: {\n",
       "          output: function(msg) {\n",
       "            var id = msg.content.text.trim();\n",
       "            if (id in Bokeh.index) {\n",
       "              Bokeh.index[id].model.document.clear();\n",
       "              delete Bokeh.index[id];\n",
       "            }\n",
       "          }\n",
       "        }\n",
       "      });\n",
       "      // Destroy server and session\n",
       "      var cmd = \"import bokeh.io.notebook as ion; ion.destroy_server('\" + server_id + \"')\";\n",
       "      cell.notebook.kernel.execute(cmd);\n",
       "    }\n",
       "  }\n",
       "\n",
       "  /**\n",
       "   * Handle when a new output is added\n",
       "   */\n",
       "  function handleAddOutput(event, handle) {\n",
       "    var output_area = handle.output_area;\n",
       "    var output = handle.output;\n",
       "\n",
       "    // limit handleAddOutput to display_data with EXEC_MIME_TYPE content only\n",
       "    if ((output.output_type != \"display_data\") || (!output.data.hasOwnProperty(EXEC_MIME_TYPE))) {\n",
       "      return\n",
       "    }\n",
       "\n",
       "    var toinsert = output_area.element.find(\".\" + CLASS_NAME.split(' ')[0]);\n",
       "\n",
       "    if (output.metadata[EXEC_MIME_TYPE][\"id\"] !== undefined) {\n",
       "      toinsert[toinsert.length - 1].firstChild.textContent = output.data[JS_MIME_TYPE];\n",
       "      // store reference to embed id on output_area\n",
       "      output_area._bokeh_element_id = output.metadata[EXEC_MIME_TYPE][\"id\"];\n",
       "    }\n",
       "    if (output.metadata[EXEC_MIME_TYPE][\"server_id\"] !== undefined) {\n",
       "      var bk_div = document.createElement(\"div\");\n",
       "      bk_div.innerHTML = output.data[HTML_MIME_TYPE];\n",
       "      var script_attrs = bk_div.children[0].attributes;\n",
       "      for (var i = 0; i < script_attrs.length; i++) {\n",
       "        toinsert[toinsert.length - 1].firstChild.setAttribute(script_attrs[i].name, script_attrs[i].value);\n",
       "      }\n",
       "      // store reference to server id on output_area\n",
       "      output_area._bokeh_server_id = output.metadata[EXEC_MIME_TYPE][\"server_id\"];\n",
       "    }\n",
       "  }\n",
       "\n",
       "  function register_renderer(events, OutputArea) {\n",
       "\n",
       "    function append_mime(data, metadata, element) {\n",
       "      // create a DOM node to render to\n",
       "      var toinsert = this.create_output_subarea(\n",
       "        metadata,\n",
       "        CLASS_NAME,\n",
       "        EXEC_MIME_TYPE\n",
       "      );\n",
       "      this.keyboard_manager.register_events(toinsert);\n",
       "      // Render to node\n",
       "      var props = {data: data, metadata: metadata[EXEC_MIME_TYPE]};\n",
       "      render(props, toinsert[toinsert.length - 1]);\n",
       "      element.append(toinsert);\n",
       "      return toinsert\n",
       "    }\n",
       "\n",
       "    /* Handle when an output is cleared or removed */\n",
       "    events.on('clear_output.CodeCell', handleClearOutput);\n",
       "    events.on('delete.Cell', handleClearOutput);\n",
       "\n",
       "    /* Handle when a new output is added */\n",
       "    events.on('output_added.OutputArea', handleAddOutput);\n",
       "\n",
       "    /**\n",
       "     * Register the mime type and append_mime function with output_area\n",
       "     */\n",
       "    OutputArea.prototype.register_mime_type(EXEC_MIME_TYPE, append_mime, {\n",
       "      /* Is output safe? */\n",
       "      safe: true,\n",
       "      /* Index of renderer in `output_area.display_order` */\n",
       "      index: 0\n",
       "    });\n",
       "  }\n",
       "\n",
       "  // register the mime type if in Jupyter Notebook environment and previously unregistered\n",
       "  if (root.Jupyter !== undefined) {\n",
       "    var events = require('base/js/events');\n",
       "    var OutputArea = require('notebook/js/outputarea').OutputArea;\n",
       "\n",
       "    if (OutputArea.prototype.mime_types().indexOf(EXEC_MIME_TYPE) == -1) {\n",
       "      register_renderer(events, OutputArea);\n",
       "    }\n",
       "  }\n",
       "\n",
       "  \n",
       "  if (typeof (root._bokeh_timeout) === \"undefined\" || force === true) {\n",
       "    root._bokeh_timeout = Date.now() + 5000;\n",
       "    root._bokeh_failed_load = false;\n",
       "  }\n",
       "\n",
       "  var NB_LOAD_WARNING = {'data': {'text/html':\n",
       "     \"<div style='background-color: #fdd'>\\n\"+\n",
       "     \"<p>\\n\"+\n",
       "     \"BokehJS does not appear to have successfully loaded. If loading BokehJS from CDN, this \\n\"+\n",
       "     \"may be due to a slow or bad network connection. Possible fixes:\\n\"+\n",
       "     \"</p>\\n\"+\n",
       "     \"<ul>\\n\"+\n",
       "     \"<li>re-rerun `output_notebook()` to attempt to load from CDN again, or</li>\\n\"+\n",
       "     \"<li>use INLINE resources instead, as so:</li>\\n\"+\n",
       "     \"</ul>\\n\"+\n",
       "     \"<code>\\n\"+\n",
       "     \"from bokeh.resources import INLINE\\n\"+\n",
       "     \"output_notebook(resources=INLINE)\\n\"+\n",
       "     \"</code>\\n\"+\n",
       "     \"</div>\"}};\n",
       "\n",
       "  function display_loaded() {\n",
       "    var el = document.getElementById(\"1001\");\n",
       "    if (el != null) {\n",
       "      el.textContent = \"BokehJS is loading...\";\n",
       "    }\n",
       "    if (root.Bokeh !== undefined) {\n",
       "      if (el != null) {\n",
       "        el.textContent = \"BokehJS \" + root.Bokeh.version + \" successfully loaded.\";\n",
       "      }\n",
       "    } else if (Date.now() < root._bokeh_timeout) {\n",
       "      setTimeout(display_loaded, 100)\n",
       "    }\n",
       "  }\n",
       "\n",
       "\n",
       "  function run_callbacks() {\n",
       "    try {\n",
       "      root._bokeh_onload_callbacks.forEach(function(callback) { callback() });\n",
       "    }\n",
       "    finally {\n",
       "      delete root._bokeh_onload_callbacks\n",
       "    }\n",
       "    console.info(\"Bokeh: all callbacks have finished\");\n",
       "  }\n",
       "\n",
       "  function load_libs(js_urls, callback) {\n",
       "    root._bokeh_onload_callbacks.push(callback);\n",
       "    if (root._bokeh_is_loading > 0) {\n",
       "      console.log(\"Bokeh: BokehJS is being loaded, scheduling callback at\", now());\n",
       "      return null;\n",
       "    }\n",
       "    if (js_urls == null || js_urls.length === 0) {\n",
       "      run_callbacks();\n",
       "      return null;\n",
       "    }\n",
       "    console.log(\"Bokeh: BokehJS not loaded, scheduling load and callback at\", now());\n",
       "    root._bokeh_is_loading = js_urls.length;\n",
       "    for (var i = 0; i < js_urls.length; i++) {\n",
       "      var url = js_urls[i];\n",
       "      var s = document.createElement('script');\n",
       "      s.src = url;\n",
       "      s.async = false;\n",
       "      s.onreadystatechange = s.onload = function() {\n",
       "        root._bokeh_is_loading--;\n",
       "        if (root._bokeh_is_loading === 0) {\n",
       "          console.log(\"Bokeh: all BokehJS libraries loaded\");\n",
       "          run_callbacks()\n",
       "        }\n",
       "      };\n",
       "      s.onerror = function() {\n",
       "        console.warn(\"failed to load library \" + url);\n",
       "      };\n",
       "      console.log(\"Bokeh: injecting script tag for BokehJS library: \", url);\n",
       "      document.getElementsByTagName(\"head\")[0].appendChild(s);\n",
       "    }\n",
       "  };var element = document.getElementById(\"1001\");\n",
       "  if (element == null) {\n",
       "    console.log(\"Bokeh: ERROR: autoload.js configured with elementid '1001' but no matching script tag was found. \")\n",
       "    return false;\n",
       "  }\n",
       "\n",
       "  var js_urls = [\"https://cdn.pydata.org/bokeh/release/bokeh-1.0.1.min.js\", \"https://cdn.pydata.org/bokeh/release/bokeh-widgets-1.0.1.min.js\", \"https://cdn.pydata.org/bokeh/release/bokeh-tables-1.0.1.min.js\", \"https://cdn.pydata.org/bokeh/release/bokeh-gl-1.0.1.min.js\"];\n",
       "\n",
       "  var inline_js = [\n",
       "    function(Bokeh) {\n",
       "      Bokeh.set_log_level(\"info\");\n",
       "    },\n",
       "    \n",
       "    function(Bokeh) {\n",
       "      \n",
       "    },\n",
       "    function(Bokeh) {\n",
       "      console.log(\"Bokeh: injecting CSS: https://cdn.pydata.org/bokeh/release/bokeh-1.0.1.min.css\");\n",
       "      Bokeh.embed.inject_css(\"https://cdn.pydata.org/bokeh/release/bokeh-1.0.1.min.css\");\n",
       "      console.log(\"Bokeh: injecting CSS: https://cdn.pydata.org/bokeh/release/bokeh-widgets-1.0.1.min.css\");\n",
       "      Bokeh.embed.inject_css(\"https://cdn.pydata.org/bokeh/release/bokeh-widgets-1.0.1.min.css\");\n",
       "      console.log(\"Bokeh: injecting CSS: https://cdn.pydata.org/bokeh/release/bokeh-tables-1.0.1.min.css\");\n",
       "      Bokeh.embed.inject_css(\"https://cdn.pydata.org/bokeh/release/bokeh-tables-1.0.1.min.css\");\n",
       "    }\n",
       "  ];\n",
       "\n",
       "  function run_inline_js() {\n",
       "    \n",
       "    if ((root.Bokeh !== undefined) || (force === true)) {\n",
       "      for (var i = 0; i < inline_js.length; i++) {\n",
       "        inline_js[i].call(root, root.Bokeh);\n",
       "      }if (force === true) {\n",
       "        display_loaded();\n",
       "      }} else if (Date.now() < root._bokeh_timeout) {\n",
       "      setTimeout(run_inline_js, 100);\n",
       "    } else if (!root._bokeh_failed_load) {\n",
       "      console.log(\"Bokeh: BokehJS failed to load within specified timeout.\");\n",
       "      root._bokeh_failed_load = true;\n",
       "    } else if (force !== true) {\n",
       "      var cell = $(document.getElementById(\"1001\")).parents('.cell').data().cell;\n",
       "      cell.output_area.append_execute_result(NB_LOAD_WARNING)\n",
       "    }\n",
       "\n",
       "  }\n",
       "\n",
       "  if (root._bokeh_is_loading === 0) {\n",
       "    console.log(\"Bokeh: BokehJS loaded, going straight to plotting\");\n",
       "    run_inline_js();\n",
       "  } else {\n",
       "    load_libs(js_urls, function() {\n",
       "      console.log(\"Bokeh: BokehJS plotting callback run at\", now());\n",
       "      run_inline_js();\n",
       "    });\n",
       "  }\n",
       "}(window));"
      ],
      "application/vnd.bokehjs_load.v0+json": "\n(function(root) {\n  function now() {\n    return new Date();\n  }\n\n  var force = true;\n\n  if (typeof (root._bokeh_onload_callbacks) === \"undefined\" || force === true) {\n    root._bokeh_onload_callbacks = [];\n    root._bokeh_is_loading = undefined;\n  }\n\n  \n\n  \n  if (typeof (root._bokeh_timeout) === \"undefined\" || force === true) {\n    root._bokeh_timeout = Date.now() + 5000;\n    root._bokeh_failed_load = false;\n  }\n\n  var NB_LOAD_WARNING = {'data': {'text/html':\n     \"<div style='background-color: #fdd'>\\n\"+\n     \"<p>\\n\"+\n     \"BokehJS does not appear to have successfully loaded. If loading BokehJS from CDN, this \\n\"+\n     \"may be due to a slow or bad network connection. Possible fixes:\\n\"+\n     \"</p>\\n\"+\n     \"<ul>\\n\"+\n     \"<li>re-rerun `output_notebook()` to attempt to load from CDN again, or</li>\\n\"+\n     \"<li>use INLINE resources instead, as so:</li>\\n\"+\n     \"</ul>\\n\"+\n     \"<code>\\n\"+\n     \"from bokeh.resources import INLINE\\n\"+\n     \"output_notebook(resources=INLINE)\\n\"+\n     \"</code>\\n\"+\n     \"</div>\"}};\n\n  function display_loaded() {\n    var el = document.getElementById(\"1001\");\n    if (el != null) {\n      el.textContent = \"BokehJS is loading...\";\n    }\n    if (root.Bokeh !== undefined) {\n      if (el != null) {\n        el.textContent = \"BokehJS \" + root.Bokeh.version + \" successfully loaded.\";\n      }\n    } else if (Date.now() < root._bokeh_timeout) {\n      setTimeout(display_loaded, 100)\n    }\n  }\n\n\n  function run_callbacks() {\n    try {\n      root._bokeh_onload_callbacks.forEach(function(callback) { callback() });\n    }\n    finally {\n      delete root._bokeh_onload_callbacks\n    }\n    console.info(\"Bokeh: all callbacks have finished\");\n  }\n\n  function load_libs(js_urls, callback) {\n    root._bokeh_onload_callbacks.push(callback);\n    if (root._bokeh_is_loading > 0) {\n      console.log(\"Bokeh: BokehJS is being loaded, scheduling callback at\", now());\n      return null;\n    }\n    if (js_urls == null || js_urls.length === 0) {\n      run_callbacks();\n      return null;\n    }\n    console.log(\"Bokeh: BokehJS not loaded, scheduling load and callback at\", now());\n    root._bokeh_is_loading = js_urls.length;\n    for (var i = 0; i < js_urls.length; i++) {\n      var url = js_urls[i];\n      var s = document.createElement('script');\n      s.src = url;\n      s.async = false;\n      s.onreadystatechange = s.onload = function() {\n        root._bokeh_is_loading--;\n        if (root._bokeh_is_loading === 0) {\n          console.log(\"Bokeh: all BokehJS libraries loaded\");\n          run_callbacks()\n        }\n      };\n      s.onerror = function() {\n        console.warn(\"failed to load library \" + url);\n      };\n      console.log(\"Bokeh: injecting script tag for BokehJS library: \", url);\n      document.getElementsByTagName(\"head\")[0].appendChild(s);\n    }\n  };var element = document.getElementById(\"1001\");\n  if (element == null) {\n    console.log(\"Bokeh: ERROR: autoload.js configured with elementid '1001' but no matching script tag was found. \")\n    return false;\n  }\n\n  var js_urls = [\"https://cdn.pydata.org/bokeh/release/bokeh-1.0.1.min.js\", \"https://cdn.pydata.org/bokeh/release/bokeh-widgets-1.0.1.min.js\", \"https://cdn.pydata.org/bokeh/release/bokeh-tables-1.0.1.min.js\", \"https://cdn.pydata.org/bokeh/release/bokeh-gl-1.0.1.min.js\"];\n\n  var inline_js = [\n    function(Bokeh) {\n      Bokeh.set_log_level(\"info\");\n    },\n    \n    function(Bokeh) {\n      \n    },\n    function(Bokeh) {\n      console.log(\"Bokeh: injecting CSS: https://cdn.pydata.org/bokeh/release/bokeh-1.0.1.min.css\");\n      Bokeh.embed.inject_css(\"https://cdn.pydata.org/bokeh/release/bokeh-1.0.1.min.css\");\n      console.log(\"Bokeh: injecting CSS: https://cdn.pydata.org/bokeh/release/bokeh-widgets-1.0.1.min.css\");\n      Bokeh.embed.inject_css(\"https://cdn.pydata.org/bokeh/release/bokeh-widgets-1.0.1.min.css\");\n      console.log(\"Bokeh: injecting CSS: https://cdn.pydata.org/bokeh/release/bokeh-tables-1.0.1.min.css\");\n      Bokeh.embed.inject_css(\"https://cdn.pydata.org/bokeh/release/bokeh-tables-1.0.1.min.css\");\n    }\n  ];\n\n  function run_inline_js() {\n    \n    if ((root.Bokeh !== undefined) || (force === true)) {\n      for (var i = 0; i < inline_js.length; i++) {\n        inline_js[i].call(root, root.Bokeh);\n      }if (force === true) {\n        display_loaded();\n      }} else if (Date.now() < root._bokeh_timeout) {\n      setTimeout(run_inline_js, 100);\n    } else if (!root._bokeh_failed_load) {\n      console.log(\"Bokeh: BokehJS failed to load within specified timeout.\");\n      root._bokeh_failed_load = true;\n    } else if (force !== true) {\n      var cell = $(document.getElementById(\"1001\")).parents('.cell').data().cell;\n      cell.output_area.append_execute_result(NB_LOAD_WARNING)\n    }\n\n  }\n\n  if (root._bokeh_is_loading === 0) {\n    console.log(\"Bokeh: BokehJS loaded, going straight to plotting\");\n    run_inline_js();\n  } else {\n    load_libs(js_urls, function() {\n      console.log(\"Bokeh: BokehJS plotting callback run at\", now());\n      run_inline_js();\n    });\n  }\n}(window));"
     },
     "metadata": {},
     "output_type": "display_data"
    }
   ],
   "source": [
    "# Load Bokeh JavaScript to our current notebook\n",
    "from bokeh.io import output_notebook\n",
    "output_notebook()"
   ]
  },
  {
   "cell_type": "code",
   "execution_count": 5,
   "metadata": {},
   "outputs": [],
   "source": [
    "#Import the function to show our bokeh objects\n",
    "from bokeh.io import show"
   ]
  },
  {
   "cell_type": "code",
   "execution_count": 6,
   "metadata": {},
   "outputs": [],
   "source": [
    "#Import the object used to construct visualizations\n",
    "from bokeh.plotting import figure"
   ]
  },
  {
   "cell_type": "markdown",
   "metadata": {},
   "source": [
    "### Construct our first figure...\n",
    "#### First, wrangle the data for easy plotting\n",
    "We are going to subset our data to just get a list of population in 2010, which we can do using Pandas `loc[2010]` to grab rows where the index = 2010, and then from that just grab the column labelled `Population`. The `head()` a the end displays the first 5 records."
   ]
  },
  {
   "cell_type": "code",
   "execution_count": 7,
   "metadata": {},
   "outputs": [
    {
     "data": {
      "text/plain": [
       "Year\n",
       "2010    27962207.0\n",
       "2010     2901883.0\n",
       "2010    36036159.0\n",
       "2010       84419.0\n",
       "2010    21219954.0\n",
       "Name: population, dtype: float64"
      ]
     },
     "execution_count": 7,
     "metadata": {},
     "output_type": "execute_result"
    }
   ],
   "source": [
    "#See how we grab just the 2010 population data\n",
    "data.loc[2010]['population'].head()"
   ]
  },
  {
   "cell_type": "markdown",
   "metadata": {},
   "source": [
    "Now we construct a Bokeh figure from the data. Here we'll plot life expectancey (the `life` column) against income. We'll extract the data we want (as Pandas series) using the method above, again using just 2010 data."
   ]
  },
  {
   "cell_type": "code",
   "execution_count": 8,
   "metadata": {},
   "outputs": [
    {
     "data": {
      "text/html": [
       "\n",
       "\n",
       "\n",
       "\n",
       "\n",
       "\n",
       "  <div class=\"bk-root\" id=\"ff337adf-8e4a-46a6-9b66-4e623ae446df\"></div>\n"
      ]
     },
     "metadata": {},
     "output_type": "display_data"
    },
    {
     "data": {
      "application/javascript": [
       "(function(root) {\n",
       "  function embed_document(root) {\n",
       "    \n",
       "  var docs_json = {\"aa7536f3-1810-4133-b57e-72200fe36c8b\":{\"roots\":{\"references\":[{\"attributes\":{\"below\":[{\"id\":\"1011\",\"type\":\"LinearAxis\"}],\"left\":[{\"id\":\"1016\",\"type\":\"LinearAxis\"}],\"renderers\":[{\"id\":\"1011\",\"type\":\"LinearAxis\"},{\"id\":\"1015\",\"type\":\"Grid\"},{\"id\":\"1016\",\"type\":\"LinearAxis\"},{\"id\":\"1020\",\"type\":\"Grid\"},{\"id\":\"1029\",\"type\":\"BoxAnnotation\"},{\"id\":\"1039\",\"type\":\"GlyphRenderer\"}],\"title\":{\"id\":\"1041\",\"type\":\"Title\"},\"toolbar\":{\"id\":\"1027\",\"type\":\"Toolbar\"},\"x_range\":{\"id\":\"1003\",\"type\":\"DataRange1d\"},\"x_scale\":{\"id\":\"1007\",\"type\":\"LinearScale\"},\"y_range\":{\"id\":\"1005\",\"type\":\"DataRange1d\"},\"y_scale\":{\"id\":\"1009\",\"type\":\"LinearScale\"}},\"id\":\"1002\",\"subtype\":\"Figure\",\"type\":\"Plot\"},{\"attributes\":{\"fill_alpha\":{\"value\":0.1},\"fill_color\":{\"value\":\"#1f77b4\"},\"line_alpha\":{\"value\":0.1},\"line_color\":{\"value\":\"#1f77b4\"},\"x\":{\"field\":\"x\"},\"y\":{\"field\":\"y\"}},\"id\":\"1038\",\"type\":\"Circle\"},{\"attributes\":{},\"id\":\"1012\",\"type\":\"BasicTicker\"},{\"attributes\":{\"data_source\":{\"id\":\"1036\",\"type\":\"ColumnDataSource\"},\"glyph\":{\"id\":\"1037\",\"type\":\"Circle\"},\"hover_glyph\":null,\"muted_glyph\":null,\"nonselection_glyph\":{\"id\":\"1038\",\"type\":\"Circle\"},\"selection_glyph\":null,\"view\":{\"id\":\"1040\",\"type\":\"CDSView\"}},\"id\":\"1039\",\"type\":\"GlyphRenderer\"},{\"attributes\":{\"plot\":{\"id\":\"1002\",\"subtype\":\"Figure\",\"type\":\"Plot\"},\"ticker\":{\"id\":\"1012\",\"type\":\"BasicTicker\"}},\"id\":\"1015\",\"type\":\"Grid\"},{\"attributes\":{\"source\":{\"id\":\"1036\",\"type\":\"ColumnDataSource\"}},\"id\":\"1040\",\"type\":\"CDSView\"},{\"attributes\":{\"formatter\":{\"id\":\"1046\",\"type\":\"BasicTickFormatter\"},\"plot\":{\"id\":\"1002\",\"subtype\":\"Figure\",\"type\":\"Plot\"},\"ticker\":{\"id\":\"1017\",\"type\":\"BasicTicker\"}},\"id\":\"1016\",\"type\":\"LinearAxis\"},{\"attributes\":{},\"id\":\"1017\",\"type\":\"BasicTicker\"},{\"attributes\":{\"plot\":null,\"text\":\"\"},\"id\":\"1041\",\"type\":\"Title\"},{\"attributes\":{\"dimension\":1,\"plot\":{\"id\":\"1002\",\"subtype\":\"Figure\",\"type\":\"Plot\"},\"ticker\":{\"id\":\"1017\",\"type\":\"BasicTicker\"}},\"id\":\"1020\",\"type\":\"Grid\"},{\"attributes\":{},\"id\":\"1044\",\"type\":\"BasicTickFormatter\"},{\"attributes\":{\"active_drag\":\"auto\",\"active_inspect\":\"auto\",\"active_multi\":null,\"active_scroll\":\"auto\",\"active_tap\":\"auto\",\"tools\":[{\"id\":\"1021\",\"type\":\"PanTool\"},{\"id\":\"1022\",\"type\":\"WheelZoomTool\"},{\"id\":\"1023\",\"type\":\"BoxZoomTool\"},{\"id\":\"1024\",\"type\":\"SaveTool\"},{\"id\":\"1025\",\"type\":\"ResetTool\"},{\"id\":\"1026\",\"type\":\"HelpTool\"}]},\"id\":\"1027\",\"type\":\"Toolbar\"},{\"attributes\":{},\"id\":\"1046\",\"type\":\"BasicTickFormatter\"},{\"attributes\":{},\"id\":\"1048\",\"type\":\"UnionRenderers\"},{\"attributes\":{},\"id\":\"1049\",\"type\":\"Selection\"},{\"attributes\":{},\"id\":\"1021\",\"type\":\"PanTool\"},{\"attributes\":{},\"id\":\"1022\",\"type\":\"WheelZoomTool\"},{\"attributes\":{\"overlay\":{\"id\":\"1029\",\"type\":\"BoxAnnotation\"}},\"id\":\"1023\",\"type\":\"BoxZoomTool\"},{\"attributes\":{},\"id\":\"1024\",\"type\":\"SaveTool\"},{\"attributes\":{},\"id\":\"1025\",\"type\":\"ResetTool\"},{\"attributes\":{},\"id\":\"1026\",\"type\":\"HelpTool\"},{\"attributes\":{\"callback\":null},\"id\":\"1003\",\"type\":\"DataRange1d\"},{\"attributes\":{\"callback\":null,\"data\":{\"x\":{\"__ndarray__\":\"AAAAAACUmUAAAAAAAE/CQAAAAAAAZ8hAAAAAAMAI40AAAAAAAIe7QAAAAADAFdRAAAAAAIDKzkAAAAAAAGy5QAAAAABALuRAAAAAAKDt5EAAAAAAACfPQAAAAADAYNZAAAAAACDN40AAAAAAADajQAAAAACA4M1AAAAAAICrzkAAAAAAgOfjQAAAAACACMBAAAAAAACUmUAAAAAAAHS5QAAAAAAAn7RAAAAAAIDcwUAAAAAAAKXKQAAAAAAAosxAAAAAAMA+8UAAAAAAABPNQAAAAAAAXJZAAAAAAACohkAAAAAAAKKjQAAAAAAAFqRAAAAAAKDo40AAAAAAAHW3QAAAAAAAhJ5AAAAAAADB0kAAAAAAAGvCQAAAAACADMVAAAAAAABIlkAAAAAAAMCDQAAAAAAAnbVAAAAAAAARyEAAAAAAAJimQAAAAABAhdNAAAAAAEAL0kAAAAAAYHrgQAAAAACg/uRAAAAAAADSpEAAAAAAgEPEQAAAAACAL8JAAAAAAIC7xEAAAAAAAEW8QAAAAADgz+BAAAAAAADskEAAAAAAgDPVQAAAAAAA5JBAAAAAAAC6u0AAAAAAIEDjQAAAAAAg8eFAAAAAAAA3z0AAAAAAAAyaQAAAAAAAMrdAAAAAAADX40AAAAAAACaoQAAAAACAgdxAAAAAAADVxUAAAAAAAMG6QAAAAAAAhJJAAAAAAABglUAAAAAAAKa1QAAAAAAAuJdAAAAAAACusEAAAAAAgIvVQAAAAAAg8+JAAAAAAADDsUAAAAAAAJnAQAAAAAAAldBAAAAAAAAVyEAAAAAAgGrlQAAAAABA0dxAAAAAACB14UAAAAAAAFnAQAAAAACAzOBAAAAAAAD8xUAAAAAAQCTTQAAAAAAAjqNAAAAAAAAEm0AAAAAAUGbyQAAAAAAAudFAAAAAAIDDz0AAAAAAAHahQAAAAAAAiIVAAAAAAECN3UAAAAAAgEXUQAAAAACwQPZAAAAAAIDVxUAAAAAAALiVQAAAAAAACIdAAAAAAIDr00AAAAAAAM3GQAAAAAAAAJpAAAAAAIBA20AAAAAAAHSrQAAAAAAAxqlAAAAAAIB3zkAAAAAAADLOQAAAAAAAEqpAAAAAAACqrkAAAAAAABy+QAAAAAAArMpAAAAAAABCuUAAAAAAABCNQAAAAAAACqhAAAAAAIB4wEAAAAAAADyfQAAAAABgYuZAAAAAAAAU30AAAAAAAPyuQAAAAAAASIpAAAAAAAD6s0AAAAAAQLzuQAAAAACABOhAAAAAAAB8sEAAAAAAgCTNQAAAAAAA5qBAAAAAAABgu0AAAAAAgF3DQAAAAAAA7rVAAAAAAADU1EAAAAAAQMDaQAAAAAAAP/9AAAAAAAB+0EAAAAAAACjVQAAAAAAAuJNAAAAAAAAdtUAAAAAAAG6lQAAAAADAQ+ZAAAAAAAAMoUAAAAAAgAbIQAAAAAAA49NAAAAAAAAMlUAAAAAAgJfxQAAAAACA3ddAAAAAAEC220AAAAAAAOybQAAAAAAAMINAAAAAAICbx0AAAAAAAPytQAAAAABAHOBAAAAAAACUvUAAAAAAAKSpQAAAAACA+stAAAAAAADmtkAAAAAAQPLkQAAAAADgdOpAAAAAAADLuUAAAAAAoBXjQAAAAAAAfKBAAAAAAAC+oEAAAAAAAAvJQAAAAAAAxJtAAAAAAAB4k0AAAAAAAFGzQAAAAABAotxAAAAAAIBVxEAAAAAAgEjQQAAAAAAAmMNAAAAAAACsl0AAAAAAAKS+QAAAAACAqOtAAAAAAACy4UAAAAAAoBvoQAAAAADAsdBAAAAAAABZsEAAAAAAAAinQAAAAAAAJtBAAAAAAACGsUAAAAAAAEOwQAAAAAAA9qpAAAAAAAAwl0A=\",\"dtype\":\"float64\",\"shape\":[178]},\"y\":{\"__ndarray__\":\"ZmZmZmZmS0DNzMzMzMxSQJqZmZmZ+VJAzczMzMzsVEAzMzMzM7NNQM3MzMzMzFJAMzMzMzPzUkCamZmZmTlSQM3MzMzMbFRAAAAAAAAgVECamZmZmdlRQJqZmZmZGVJAzczMzMyMU0BmZmZmZiZRQJqZmZmZ2VJAzczMzMyMUUAzMzMzM/NTQGZmZmZmhlFAAAAAAAAAUEAzMzMzMxNRQDMzMzMz01FAAAAAAAAgU0AAAAAAACBQQM3MzMzMjFJAAAAAAACgU0BmZmZmZmZSQJqZmZmZWU5AmpmZmZlZTUCamZmZmblQQAAAAAAAwExAZmZmZmZGVECamZmZmVlSQJqZmZmZGUxAMzMzMzOzU0CamZmZmflSQDMzMzMz01JAAAAAAACAT0BmZmZmZiZMQGZmZmZmJk5AZmZmZmbmU0CamZmZmZlMQM3MzMzMTFNAAAAAAACAU0BmZmZmZmZUQDMzMzMz01NAZmZmZmbmTkCamZmZmZlSQM3MzMzMjFJAMzMzMzOTUUAzMzMzM3NSQJqZmZmZmUxAAAAAAACATkAzMzMzM/NSQAAAAAAAgE5AmpmZmZl5UEAAAAAAAABUQM3MzMzMTFRAAAAAAADATEAAAAAAAIBPQJqZmZmZGVJAzczMzMwMVEAAAAAAAMBPQGZmZmZm5lNAzczMzMzMUUAzMzMzM7NRQM3MzMzMjE1AAAAAAAAASkBmZmZmZqZPQAAAAAAAgEJAMzMzMzPTUUDNzMzMzKxSQAAAAAAAoFRAZmZmZmZGUEAzMzMzM3NRQJqZmZmZeVNAMzMzMzMTUUCamZmZmflTQAAAAAAAYFRAmpmZmZl5VEAAAAAAAOBSQAAAAAAAwFRAZmZmZmZmU0BmZmZmZsZQQM3MzMzMjE9AAAAAAADATkBmZmZmZsZTQAAAAAAAgFJAAAAAAACAU0AzMzMzM7NHQJqZmZmZ2U5AZmZmZmbmUkCamZmZmXlSQAAAAAAAQFRAMzMzMzPzUkBmZmZmZuZPQGZmZmZm5kpAMzMzMzOTUkCamZmZmblTQAAAAAAAQExAMzMzMzNzVEBmZmZmZgZQQM3MzMzMDFBAmpmZmZkZUkDNzMzMzOxSQJqZmZmZmVBAzczMzMyMUUBmZmZmZuZPQM3MzMzMzFJAzczMzMxsUkCamZmZmdlLQAAAAAAAgFBAAAAAAADATUAAAAAAAGBRQAAAAAAAIFRAAAAAAAAgVEAzMzMzM/NSQJqZmZmZWU5AZmZmZmZmTUCamZmZmTlUQAAAAAAAwFJAzczMzMwsUEDNzMzMzExTQJqZmZmZWU1AmpmZmZlZUkAzMzMzMzNTQM3MzMzMbFFAZmZmZmYGU0AAAAAAAOBTQDMzMzMzU1RAAAAAAACAUkDNzMzMzCxRQJqZmZmZ2U9AZmZmZmbmUUBmZmZmZuZQQM3MzMzMbFNAAAAAAABAUEAAAAAAAEBTQDMzMzMzM1JAAAAAAABATEAAAAAAAGBUQAAAAAAA4FJAAAAAAADgU0AAAAAAAIBPQDMzMzMzc0xAmpmZmZlZTEAAAAAAAEBMQGZmZmZmZlRAzczMzMzsUkAAAAAAAABRQAAAAAAAYFFAZmZmZmbmR0AAAAAAAGBUQDMzMzMzk1RAzczMzMwsU0AzMzMzM7NTQJqZmZmZeVFAMzMzMzNzTkBmZmZmZqZSQDMzMzMzc1FAAAAAAACATkBmZmZmZoZRQGZmZmZmxlFAMzMzMzMzU0DNzMzMzOxSQGZmZmZmplBAMzMzMzMzTUCamZmZmZlRQM3MzMzMDFNAAAAAAAAAVEAAAAAAAKBTQAAAAAAAIFNAZmZmZmZGUUAAAAAAAABQQM3MzMzMrFJAMzMzMzPzUkAAAAAAAIBSQM3MzMzMDEtAMzMzMzMzSUA=\",\"dtype\":\"float64\",\"shape\":[178]}},\"selected\":{\"id\":\"1049\",\"type\":\"Selection\"},\"selection_policy\":{\"id\":\"1048\",\"type\":\"UnionRenderers\"}},\"id\":\"1036\",\"type\":\"ColumnDataSource\"},{\"attributes\":{\"callback\":null},\"id\":\"1005\",\"type\":\"DataRange1d\"},{\"attributes\":{\"bottom_units\":\"screen\",\"fill_alpha\":{\"value\":0.5},\"fill_color\":{\"value\":\"lightgrey\"},\"left_units\":\"screen\",\"level\":\"overlay\",\"line_alpha\":{\"value\":1.0},\"line_color\":{\"value\":\"black\"},\"line_dash\":[4,4],\"line_width\":{\"value\":2},\"plot\":null,\"render_mode\":\"css\",\"right_units\":\"screen\",\"top_units\":\"screen\"},\"id\":\"1029\",\"type\":\"BoxAnnotation\"},{\"attributes\":{},\"id\":\"1007\",\"type\":\"LinearScale\"},{\"attributes\":{},\"id\":\"1009\",\"type\":\"LinearScale\"},{\"attributes\":{\"fill_color\":{\"value\":\"#1f77b4\"},\"line_color\":{\"value\":\"#1f77b4\"},\"x\":{\"field\":\"x\"},\"y\":{\"field\":\"y\"}},\"id\":\"1037\",\"type\":\"Circle\"},{\"attributes\":{\"formatter\":{\"id\":\"1044\",\"type\":\"BasicTickFormatter\"},\"plot\":{\"id\":\"1002\",\"subtype\":\"Figure\",\"type\":\"Plot\"},\"ticker\":{\"id\":\"1012\",\"type\":\"BasicTicker\"}},\"id\":\"1011\",\"type\":\"LinearAxis\"}],\"root_ids\":[\"1002\"]},\"title\":\"Bokeh Application\",\"version\":\"1.0.1\"}};\n",
       "  var render_items = [{\"docid\":\"aa7536f3-1810-4133-b57e-72200fe36c8b\",\"roots\":{\"1002\":\"ff337adf-8e4a-46a6-9b66-4e623ae446df\"}}];\n",
       "  root.Bokeh.embed.embed_items_notebook(docs_json, render_items);\n",
       "\n",
       "  }\n",
       "  if (root.Bokeh !== undefined) {\n",
       "    embed_document(root);\n",
       "  } else {\n",
       "    var attempts = 0;\n",
       "    var timer = setInterval(function(root) {\n",
       "      if (root.Bokeh !== undefined) {\n",
       "        embed_document(root);\n",
       "        clearInterval(timer);\n",
       "      }\n",
       "      attempts++;\n",
       "      if (attempts > 100) {\n",
       "        console.log(\"Bokeh: ERROR: Unable to run BokehJS code because BokehJS library is missing\");\n",
       "        clearInterval(timer);\n",
       "      }\n",
       "    }, 10, root)\n",
       "  }\n",
       "})(window);"
      ],
      "application/vnd.bokehjs_exec.v0+json": ""
     },
     "metadata": {
      "application/vnd.bokehjs_exec.v0+json": {
       "id": "1002"
      }
     },
     "output_type": "display_data"
    }
   ],
   "source": [
    "#Create the figure object, calling it 'p'\n",
    "p = figure()\n",
    "\n",
    "#Plot life expectancy (y) against  income (x), showing data as circles\n",
    "p.circle(x=data.loc[2010]['income'],y=data.loc[2010]['life'])\n",
    "\n",
    "#Show the plot\n",
    "show(p)"
   ]
  },
  {
   "cell_type": "markdown",
   "metadata": {},
   "source": [
    "The plot is a bit tall. We can make it shorter by adding style settings to the figure..."
   ]
  },
  {
   "cell_type": "code",
   "execution_count": 9,
   "metadata": {},
   "outputs": [
    {
     "data": {
      "text/html": [
       "\n",
       "\n",
       "\n",
       "\n",
       "\n",
       "\n",
       "  <div class=\"bk-root\" id=\"33f89661-912d-4b8f-b45a-238ea0841b37\"></div>\n"
      ]
     },
     "metadata": {},
     "output_type": "display_data"
    },
    {
     "data": {
      "application/javascript": [
       "(function(root) {\n",
       "  function embed_document(root) {\n",
       "    \n",
       "  var docs_json = {\"8e22d1c6-1411-402d-9ee6-2fc0e0633a4b\":{\"roots\":{\"references\":[{\"attributes\":{\"below\":[{\"id\":\"1113\",\"type\":\"LinearAxis\"}],\"left\":[{\"id\":\"1118\",\"type\":\"LinearAxis\"}],\"plot_height\":200,\"renderers\":[{\"id\":\"1113\",\"type\":\"LinearAxis\"},{\"id\":\"1117\",\"type\":\"Grid\"},{\"id\":\"1118\",\"type\":\"LinearAxis\"},{\"id\":\"1122\",\"type\":\"Grid\"},{\"id\":\"1131\",\"type\":\"BoxAnnotation\"},{\"id\":\"1141\",\"type\":\"GlyphRenderer\"}],\"title\":{\"id\":\"1152\",\"type\":\"Title\"},\"toolbar\":{\"id\":\"1129\",\"type\":\"Toolbar\"},\"x_range\":{\"id\":\"1105\",\"type\":\"DataRange1d\"},\"x_scale\":{\"id\":\"1109\",\"type\":\"LinearScale\"},\"y_range\":{\"id\":\"1107\",\"type\":\"DataRange1d\"},\"y_scale\":{\"id\":\"1111\",\"type\":\"LinearScale\"}},\"id\":\"1104\",\"subtype\":\"Figure\",\"type\":\"Plot\"},{\"attributes\":{\"data_source\":{\"id\":\"1138\",\"type\":\"ColumnDataSource\"},\"glyph\":{\"id\":\"1139\",\"type\":\"CircleX\"},\"hover_glyph\":null,\"muted_glyph\":null,\"nonselection_glyph\":{\"id\":\"1140\",\"type\":\"CircleX\"},\"selection_glyph\":null,\"view\":{\"id\":\"1142\",\"type\":\"CDSView\"}},\"id\":\"1141\",\"type\":\"GlyphRenderer\"},{\"attributes\":{\"plot\":{\"id\":\"1104\",\"subtype\":\"Figure\",\"type\":\"Plot\"},\"ticker\":{\"id\":\"1114\",\"type\":\"BasicTicker\"}},\"id\":\"1117\",\"type\":\"Grid\"},{\"attributes\":{\"formatter\":{\"id\":\"1157\",\"type\":\"BasicTickFormatter\"},\"plot\":{\"id\":\"1104\",\"subtype\":\"Figure\",\"type\":\"Plot\"},\"ticker\":{\"id\":\"1119\",\"type\":\"BasicTicker\"}},\"id\":\"1118\",\"type\":\"LinearAxis\"},{\"attributes\":{\"plot\":null,\"text\":\"\"},\"id\":\"1152\",\"type\":\"Title\"},{\"attributes\":{},\"id\":\"1160\",\"type\":\"Selection\"},{\"attributes\":{\"source\":{\"id\":\"1138\",\"type\":\"ColumnDataSource\"}},\"id\":\"1142\",\"type\":\"CDSView\"},{\"attributes\":{},\"id\":\"1111\",\"type\":\"LinearScale\"},{\"attributes\":{},\"id\":\"1109\",\"type\":\"LinearScale\"},{\"attributes\":{\"callback\":null},\"id\":\"1107\",\"type\":\"DataRange1d\"},{\"attributes\":{},\"id\":\"1155\",\"type\":\"BasicTickFormatter\"},{\"attributes\":{\"callback\":null},\"id\":\"1105\",\"type\":\"DataRange1d\"},{\"attributes\":{\"fill_alpha\":{\"value\":0.1},\"fill_color\":{\"value\":\"#1f77b4\"},\"line_alpha\":{\"value\":0.1},\"line_color\":{\"value\":\"#1f77b4\"},\"x\":{\"field\":\"x\"},\"y\":{\"field\":\"y\"}},\"id\":\"1140\",\"type\":\"CircleX\"},{\"attributes\":{\"bottom_units\":\"screen\",\"fill_alpha\":{\"value\":0.5},\"fill_color\":{\"value\":\"lightgrey\"},\"left_units\":\"screen\",\"level\":\"overlay\",\"line_alpha\":{\"value\":1.0},\"line_color\":{\"value\":\"black\"},\"line_dash\":[4,4],\"line_width\":{\"value\":2},\"plot\":null,\"render_mode\":\"css\",\"right_units\":\"screen\",\"top_units\":\"screen\"},\"id\":\"1131\",\"type\":\"BoxAnnotation\"},{\"attributes\":{\"active_drag\":\"auto\",\"active_inspect\":\"auto\",\"active_multi\":null,\"active_scroll\":\"auto\",\"active_tap\":\"auto\",\"tools\":[{\"id\":\"1123\",\"type\":\"PanTool\"},{\"id\":\"1124\",\"type\":\"WheelZoomTool\"},{\"id\":\"1125\",\"type\":\"BoxZoomTool\"},{\"id\":\"1126\",\"type\":\"SaveTool\"},{\"id\":\"1127\",\"type\":\"ResetTool\"},{\"id\":\"1128\",\"type\":\"HelpTool\"}]},\"id\":\"1129\",\"type\":\"Toolbar\"},{\"attributes\":{},\"id\":\"1157\",\"type\":\"BasicTickFormatter\"},{\"attributes\":{},\"id\":\"1123\",\"type\":\"PanTool\"},{\"attributes\":{},\"id\":\"1159\",\"type\":\"UnionRenderers\"},{\"attributes\":{\"dimension\":1,\"plot\":{\"id\":\"1104\",\"subtype\":\"Figure\",\"type\":\"Plot\"},\"ticker\":{\"id\":\"1119\",\"type\":\"BasicTicker\"}},\"id\":\"1122\",\"type\":\"Grid\"},{\"attributes\":{},\"id\":\"1124\",\"type\":\"WheelZoomTool\"},{\"attributes\":{\"callback\":null,\"data\":{\"x\":{\"__ndarray__\":\"AAAAAACUmUAAAAAAAE/CQAAAAAAAZ8hAAAAAAMAI40AAAAAAAIe7QAAAAADAFdRAAAAAAIDKzkAAAAAAAGy5QAAAAABALuRAAAAAAKDt5EAAAAAAACfPQAAAAADAYNZAAAAAACDN40AAAAAAADajQAAAAACA4M1AAAAAAICrzkAAAAAAgOfjQAAAAACACMBAAAAAAACUmUAAAAAAAHS5QAAAAAAAn7RAAAAAAIDcwUAAAAAAAKXKQAAAAAAAosxAAAAAAMA+8UAAAAAAABPNQAAAAAAAXJZAAAAAAACohkAAAAAAAKKjQAAAAAAAFqRAAAAAAKDo40AAAAAAAHW3QAAAAAAAhJ5AAAAAAADB0kAAAAAAAGvCQAAAAACADMVAAAAAAABIlkAAAAAAAMCDQAAAAAAAnbVAAAAAAAARyEAAAAAAAJimQAAAAABAhdNAAAAAAEAL0kAAAAAAYHrgQAAAAACg/uRAAAAAAADSpEAAAAAAgEPEQAAAAACAL8JAAAAAAIC7xEAAAAAAAEW8QAAAAADgz+BAAAAAAADskEAAAAAAgDPVQAAAAAAA5JBAAAAAAAC6u0AAAAAAIEDjQAAAAAAg8eFAAAAAAAA3z0AAAAAAAAyaQAAAAAAAMrdAAAAAAADX40AAAAAAACaoQAAAAACAgdxAAAAAAADVxUAAAAAAAMG6QAAAAAAAhJJAAAAAAABglUAAAAAAAKa1QAAAAAAAuJdAAAAAAACusEAAAAAAgIvVQAAAAAAg8+JAAAAAAADDsUAAAAAAAJnAQAAAAAAAldBAAAAAAAAVyEAAAAAAgGrlQAAAAABA0dxAAAAAACB14UAAAAAAAFnAQAAAAACAzOBAAAAAAAD8xUAAAAAAQCTTQAAAAAAAjqNAAAAAAAAEm0AAAAAAUGbyQAAAAAAAudFAAAAAAIDDz0AAAAAAAHahQAAAAAAAiIVAAAAAAECN3UAAAAAAgEXUQAAAAACwQPZAAAAAAIDVxUAAAAAAALiVQAAAAAAACIdAAAAAAIDr00AAAAAAAM3GQAAAAAAAAJpAAAAAAIBA20AAAAAAAHSrQAAAAAAAxqlAAAAAAIB3zkAAAAAAADLOQAAAAAAAEqpAAAAAAACqrkAAAAAAABy+QAAAAAAArMpAAAAAAABCuUAAAAAAABCNQAAAAAAACqhAAAAAAIB4wEAAAAAAADyfQAAAAABgYuZAAAAAAAAU30AAAAAAAPyuQAAAAAAASIpAAAAAAAD6s0AAAAAAQLzuQAAAAACABOhAAAAAAAB8sEAAAAAAgCTNQAAAAAAA5qBAAAAAAABgu0AAAAAAgF3DQAAAAAAA7rVAAAAAAADU1EAAAAAAQMDaQAAAAAAAP/9AAAAAAAB+0EAAAAAAACjVQAAAAAAAuJNAAAAAAAAdtUAAAAAAAG6lQAAAAADAQ+ZAAAAAAAAMoUAAAAAAgAbIQAAAAAAA49NAAAAAAAAMlUAAAAAAgJfxQAAAAACA3ddAAAAAAEC220AAAAAAAOybQAAAAAAAMINAAAAAAICbx0AAAAAAAPytQAAAAABAHOBAAAAAAACUvUAAAAAAAKSpQAAAAACA+stAAAAAAADmtkAAAAAAQPLkQAAAAADgdOpAAAAAAADLuUAAAAAAoBXjQAAAAAAAfKBAAAAAAAC+oEAAAAAAAAvJQAAAAAAAxJtAAAAAAAB4k0AAAAAAAFGzQAAAAABAotxAAAAAAIBVxEAAAAAAgEjQQAAAAAAAmMNAAAAAAACsl0AAAAAAAKS+QAAAAACAqOtAAAAAAACy4UAAAAAAoBvoQAAAAADAsdBAAAAAAABZsEAAAAAAAAinQAAAAAAAJtBAAAAAAACGsUAAAAAAAEOwQAAAAAAA9qpAAAAAAAAwl0A=\",\"dtype\":\"float64\",\"shape\":[178]},\"y\":{\"__ndarray__\":\"ZmZmZmZmS0DNzMzMzMxSQJqZmZmZ+VJAzczMzMzsVEAzMzMzM7NNQM3MzMzMzFJAMzMzMzPzUkCamZmZmTlSQM3MzMzMbFRAAAAAAAAgVECamZmZmdlRQJqZmZmZGVJAzczMzMyMU0BmZmZmZiZRQJqZmZmZ2VJAzczMzMyMUUAzMzMzM/NTQGZmZmZmhlFAAAAAAAAAUEAzMzMzMxNRQDMzMzMz01FAAAAAAAAgU0AAAAAAACBQQM3MzMzMjFJAAAAAAACgU0BmZmZmZmZSQJqZmZmZWU5AmpmZmZlZTUCamZmZmblQQAAAAAAAwExAZmZmZmZGVECamZmZmVlSQJqZmZmZGUxAMzMzMzOzU0CamZmZmflSQDMzMzMz01JAAAAAAACAT0BmZmZmZiZMQGZmZmZmJk5AZmZmZmbmU0CamZmZmZlMQM3MzMzMTFNAAAAAAACAU0BmZmZmZmZUQDMzMzMz01NAZmZmZmbmTkCamZmZmZlSQM3MzMzMjFJAMzMzMzOTUUAzMzMzM3NSQJqZmZmZmUxAAAAAAACATkAzMzMzM/NSQAAAAAAAgE5AmpmZmZl5UEAAAAAAAABUQM3MzMzMTFRAAAAAAADATEAAAAAAAIBPQJqZmZmZGVJAzczMzMwMVEAAAAAAAMBPQGZmZmZm5lNAzczMzMzMUUAzMzMzM7NRQM3MzMzMjE1AAAAAAAAASkBmZmZmZqZPQAAAAAAAgEJAMzMzMzPTUUDNzMzMzKxSQAAAAAAAoFRAZmZmZmZGUEAzMzMzM3NRQJqZmZmZeVNAMzMzMzMTUUCamZmZmflTQAAAAAAAYFRAmpmZmZl5VEAAAAAAAOBSQAAAAAAAwFRAZmZmZmZmU0BmZmZmZsZQQM3MzMzMjE9AAAAAAADATkBmZmZmZsZTQAAAAAAAgFJAAAAAAACAU0AzMzMzM7NHQJqZmZmZ2U5AZmZmZmbmUkCamZmZmXlSQAAAAAAAQFRAMzMzMzPzUkBmZmZmZuZPQGZmZmZm5kpAMzMzMzOTUkCamZmZmblTQAAAAAAAQExAMzMzMzNzVEBmZmZmZgZQQM3MzMzMDFBAmpmZmZkZUkDNzMzMzOxSQJqZmZmZmVBAzczMzMyMUUBmZmZmZuZPQM3MzMzMzFJAzczMzMxsUkCamZmZmdlLQAAAAAAAgFBAAAAAAADATUAAAAAAAGBRQAAAAAAAIFRAAAAAAAAgVEAzMzMzM/NSQJqZmZmZWU5AZmZmZmZmTUCamZmZmTlUQAAAAAAAwFJAzczMzMwsUEDNzMzMzExTQJqZmZmZWU1AmpmZmZlZUkAzMzMzMzNTQM3MzMzMbFFAZmZmZmYGU0AAAAAAAOBTQDMzMzMzU1RAAAAAAACAUkDNzMzMzCxRQJqZmZmZ2U9AZmZmZmbmUUBmZmZmZuZQQM3MzMzMbFNAAAAAAABAUEAAAAAAAEBTQDMzMzMzM1JAAAAAAABATEAAAAAAAGBUQAAAAAAA4FJAAAAAAADgU0AAAAAAAIBPQDMzMzMzc0xAmpmZmZlZTEAAAAAAAEBMQGZmZmZmZlRAzczMzMzsUkAAAAAAAABRQAAAAAAAYFFAZmZmZmbmR0AAAAAAAGBUQDMzMzMzk1RAzczMzMwsU0AzMzMzM7NTQJqZmZmZeVFAMzMzMzNzTkBmZmZmZqZSQDMzMzMzc1FAAAAAAACATkBmZmZmZoZRQGZmZmZmxlFAMzMzMzMzU0DNzMzMzOxSQGZmZmZmplBAMzMzMzMzTUCamZmZmZlRQM3MzMzMDFNAAAAAAAAAVEAAAAAAAKBTQAAAAAAAIFNAZmZmZmZGUUAAAAAAAABQQM3MzMzMrFJAMzMzMzPzUkAAAAAAAIBSQM3MzMzMDEtAMzMzMzMzSUA=\",\"dtype\":\"float64\",\"shape\":[178]}},\"selected\":{\"id\":\"1160\",\"type\":\"Selection\"},\"selection_policy\":{\"id\":\"1159\",\"type\":\"UnionRenderers\"}},\"id\":\"1138\",\"type\":\"ColumnDataSource\"},{\"attributes\":{\"overlay\":{\"id\":\"1131\",\"type\":\"BoxAnnotation\"}},\"id\":\"1125\",\"type\":\"BoxZoomTool\"},{\"attributes\":{\"fill_color\":{\"value\":\"#1f77b4\"},\"line_color\":{\"value\":\"#1f77b4\"},\"x\":{\"field\":\"x\"},\"y\":{\"field\":\"y\"}},\"id\":\"1139\",\"type\":\"CircleX\"},{\"attributes\":{},\"id\":\"1114\",\"type\":\"BasicTicker\"},{\"attributes\":{},\"id\":\"1128\",\"type\":\"HelpTool\"},{\"attributes\":{},\"id\":\"1119\",\"type\":\"BasicTicker\"},{\"attributes\":{},\"id\":\"1127\",\"type\":\"ResetTool\"},{\"attributes\":{\"formatter\":{\"id\":\"1155\",\"type\":\"BasicTickFormatter\"},\"plot\":{\"id\":\"1104\",\"subtype\":\"Figure\",\"type\":\"Plot\"},\"ticker\":{\"id\":\"1114\",\"type\":\"BasicTicker\"}},\"id\":\"1113\",\"type\":\"LinearAxis\"},{\"attributes\":{},\"id\":\"1126\",\"type\":\"SaveTool\"}],\"root_ids\":[\"1104\"]},\"title\":\"Bokeh Application\",\"version\":\"1.0.1\"}};\n",
       "  var render_items = [{\"docid\":\"8e22d1c6-1411-402d-9ee6-2fc0e0633a4b\",\"roots\":{\"1104\":\"33f89661-912d-4b8f-b45a-238ea0841b37\"}}];\n",
       "  root.Bokeh.embed.embed_items_notebook(docs_json, render_items);\n",
       "\n",
       "  }\n",
       "  if (root.Bokeh !== undefined) {\n",
       "    embed_document(root);\n",
       "  } else {\n",
       "    var attempts = 0;\n",
       "    var timer = setInterval(function(root) {\n",
       "      if (root.Bokeh !== undefined) {\n",
       "        embed_document(root);\n",
       "        clearInterval(timer);\n",
       "      }\n",
       "      attempts++;\n",
       "      if (attempts > 100) {\n",
       "        console.log(\"Bokeh: ERROR: Unable to run BokehJS code because BokehJS library is missing\");\n",
       "        clearInterval(timer);\n",
       "      }\n",
       "    }, 10, root)\n",
       "  }\n",
       "})(window);"
      ],
      "application/vnd.bokehjs_exec.v0+json": ""
     },
     "metadata": {
      "application/vnd.bokehjs_exec.v0+json": {
       "id": "1104"
      }
     },
     "output_type": "display_data"
    }
   ],
   "source": [
    "p = figure(height=200)\n",
    "p.circle_x(x=data.loc[2010]['income'],y=data.loc[2010]['life'])\n",
    "show(p)"
   ]
  },
  {
   "cell_type": "markdown",
   "metadata": {},
   "source": [
    "### RECAP so far...\n",
    "* The **data** used to drive our plot are Pandas series, but Bokeh can use nearly any Python collection object: lists, tuples, NumPy arrays, etc. \n",
    "* The figure has other style attributes you can apply, see the Keyword Args section at https://bokeh.pydata.org/en/latest/docs/reference/plotting.html\n",
    "* You can use other **markers** instead of circles; try 'line', 'cross', 'circle_x'. (See top of page linked above.) Each type of marker has its own set of properties and settings. For example, see those for the circle marker: https://bokeh.pydata.org/en/latest/docs/reference/plotting.html#bokeh.plotting.figure.Figure.circle\n",
    "\n",
    "► For more exercises on plotting, see the `02-plotting` notebook in the tutorial folder. "
   ]
  },
  {
   "cell_type": "markdown",
   "metadata": {},
   "source": [
    "#### More detail..\n",
    "Below we apply some style settings to the figure (`height`, `x_axis_type`, and `title`) and also some style settings to our 2010 life v. income (`color` and `alpha`) as well as add a second set of data to our plot..."
   ]
  },
  {
   "cell_type": "code",
   "execution_count": 11,
   "metadata": {},
   "outputs": [
    {
     "data": {
      "text/html": [
       "\n",
       "\n",
       "\n",
       "\n",
       "\n",
       "\n",
       "  <div class=\"bk-root\" id=\"5b8e1fad-6eb6-4e8c-855f-0cbcc43515ee\"></div>\n"
      ]
     },
     "metadata": {},
     "output_type": "display_data"
    },
    {
     "data": {
      "application/javascript": [
       "(function(root) {\n",
       "  function embed_document(root) {\n",
       "    \n",
       "  var docs_json = {\"947be4bb-0ec7-483a-9473-b93026945df4\":{\"roots\":{\"references\":[{\"attributes\":{\"below\":[{\"id\":\"1360\",\"type\":\"LogAxis\"}],\"left\":[{\"id\":\"1365\",\"type\":\"LinearAxis\"}],\"plot_height\":200,\"renderers\":[{\"id\":\"1360\",\"type\":\"LogAxis\"},{\"id\":\"1364\",\"type\":\"Grid\"},{\"id\":\"1365\",\"type\":\"LinearAxis\"},{\"id\":\"1369\",\"type\":\"Grid\"},{\"id\":\"1378\",\"type\":\"BoxAnnotation\"},{\"id\":\"1388\",\"type\":\"GlyphRenderer\"},{\"id\":\"1393\",\"type\":\"GlyphRenderer\"}],\"title\":{\"id\":\"1349\",\"type\":\"Title\"},\"toolbar\":{\"id\":\"1376\",\"type\":\"Toolbar\"},\"x_range\":{\"id\":\"1352\",\"type\":\"DataRange1d\"},\"x_scale\":{\"id\":\"1356\",\"type\":\"LogScale\"},\"y_range\":{\"id\":\"1354\",\"type\":\"DataRange1d\"},\"y_scale\":{\"id\":\"1358\",\"type\":\"LinearScale\"}},\"id\":\"1350\",\"subtype\":\"Figure\",\"type\":\"Plot\"},{\"attributes\":{\"source\":{\"id\":\"1390\",\"type\":\"ColumnDataSource\"}},\"id\":\"1394\",\"type\":\"CDSView\"},{\"attributes\":{},\"id\":\"1429\",\"type\":\"UnionRenderers\"},{\"attributes\":{\"callback\":null,\"data\":{\"x\":{\"__ndarray__\":\"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\",\"dtype\":\"float64\",\"shape\":[195]},\"y\":{\"__ndarray__\":\"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\",\"dtype\":\"float64\",\"shape\":[195]}},\"selected\":{\"id\":\"1432\",\"type\":\"Selection\"},\"selection_policy\":{\"id\":\"1431\",\"type\":\"UnionRenderers\"}},\"id\":\"1390\",\"type\":\"ColumnDataSource\"},{\"attributes\":{\"ticker\":null},\"id\":\"1425\",\"type\":\"LogTickFormatter\"},{\"attributes\":{\"plot\":{\"id\":\"1350\",\"subtype\":\"Figure\",\"type\":\"Plot\"},\"ticker\":{\"id\":\"1361\",\"type\":\"LogTicker\"}},\"id\":\"1364\",\"type\":\"Grid\"},{\"attributes\":{},\"id\":\"1427\",\"type\":\"BasicTickFormatter\"},{\"attributes\":{},\"id\":\"1430\",\"type\":\"Selection\"},{\"attributes\":{\"formatter\":{\"id\":\"1427\",\"type\":\"BasicTickFormatter\"},\"plot\":{\"id\":\"1350\",\"subtype\":\"Figure\",\"type\":\"Plot\"},\"ticker\":{\"id\":\"1366\",\"type\":\"BasicTicker\"}},\"id\":\"1365\",\"type\":\"LinearAxis\"},{\"attributes\":{},\"id\":\"1431\",\"type\":\"UnionRenderers\"},{\"attributes\":{},\"id\":\"1366\",\"type\":\"BasicTicker\"},{\"attributes\":{\"bottom_units\":\"screen\",\"fill_alpha\":{\"value\":0.5},\"fill_color\":{\"value\":\"lightgrey\"},\"left_units\":\"screen\",\"level\":\"overlay\",\"line_alpha\":{\"value\":1.0},\"line_color\":{\"value\":\"black\"},\"line_dash\":[4,4],\"line_width\":{\"value\":2},\"plot\":null,\"render_mode\":\"css\",\"right_units\":\"screen\",\"top_units\":\"screen\"},\"id\":\"1378\",\"type\":\"BoxAnnotation\"},{\"attributes\":{},\"id\":\"1432\",\"type\":\"Selection\"},{\"attributes\":{},\"id\":\"1371\",\"type\":\"WheelZoomTool\"},{\"attributes\":{\"num_minor_ticks\":10},\"id\":\"1361\",\"type\":\"LogTicker\"},{\"attributes\":{\"callback\":null},\"id\":\"1354\",\"type\":\"DataRange1d\"},{\"attributes\":{},\"id\":\"1370\",\"type\":\"PanTool\"},{\"attributes\":{\"active_drag\":\"auto\",\"active_inspect\":\"auto\",\"active_multi\":null,\"active_scroll\":\"auto\",\"active_tap\":\"auto\",\"tools\":[{\"id\":\"1370\",\"type\":\"PanTool\"},{\"id\":\"1371\",\"type\":\"WheelZoomTool\"},{\"id\":\"1372\",\"type\":\"BoxZoomTool\"},{\"id\":\"1373\",\"type\":\"SaveTool\"},{\"id\":\"1374\",\"type\":\"ResetTool\"},{\"id\":\"1375\",\"type\":\"HelpTool\"}]},\"id\":\"1376\",\"type\":\"Toolbar\"},{\"attributes\":{\"fill_alpha\":{\"value\":0.25},\"fill_color\":{\"value\":\"red\"},\"line_alpha\":{\"value\":0.25},\"line_color\":{\"value\":\"red\"},\"size\":{\"units\":\"screen\",\"value\":10},\"x\":{\"field\":\"x\"},\"y\":{\"field\":\"y\"}},\"id\":\"1391\",\"type\":\"Cross\"},{\"attributes\":{\"callback\":null},\"id\":\"1352\",\"type\":\"DataRange1d\"},{\"attributes\":{\"data_source\":{\"id\":\"1385\",\"type\":\"ColumnDataSource\"},\"glyph\":{\"id\":\"1386\",\"type\":\"Circle\"},\"hover_glyph\":null,\"muted_glyph\":null,\"nonselection_glyph\":{\"id\":\"1387\",\"type\":\"Circle\"},\"selection_glyph\":null,\"view\":{\"id\":\"1389\",\"type\":\"CDSView\"}},\"id\":\"1388\",\"type\":\"GlyphRenderer\"},{\"attributes\":{\"data_source\":{\"id\":\"1390\",\"type\":\"ColumnDataSource\"},\"glyph\":{\"id\":\"1391\",\"type\":\"Cross\"},\"hover_glyph\":null,\"muted_glyph\":null,\"nonselection_glyph\":{\"id\":\"1392\",\"type\":\"Cross\"},\"selection_glyph\":null,\"view\":{\"id\":\"1394\",\"type\":\"CDSView\"}},\"id\":\"1393\",\"type\":\"GlyphRenderer\"},{\"attributes\":{},\"id\":\"1356\",\"type\":\"LogScale\"},{\"attributes\":{\"dimension\":1,\"plot\":{\"id\":\"1350\",\"subtype\":\"Figure\",\"type\":\"Plot\"},\"ticker\":{\"id\":\"1366\",\"type\":\"BasicTicker\"}},\"id\":\"1369\",\"type\":\"Grid\"},{\"attributes\":{\"fill_alpha\":{\"value\":0.1},\"fill_color\":{\"value\":\"#1f77b4\"},\"line_alpha\":{\"value\":0.1},\"line_color\":{\"value\":\"#1f77b4\"},\"size\":{\"units\":\"screen\",\"value\":5},\"x\":{\"field\":\"x\"},\"y\":{\"field\":\"y\"}},\"id\":\"1387\",\"type\":\"Circle\"},{\"attributes\":{},\"id\":\"1375\",\"type\":\"HelpTool\"},{\"attributes\":{},\"id\":\"1358\",\"type\":\"LinearScale\"},{\"attributes\":{},\"id\":\"1374\",\"type\":\"ResetTool\"},{\"attributes\":{\"formatter\":{\"id\":\"1425\",\"type\":\"LogTickFormatter\"},\"plot\":{\"id\":\"1350\",\"subtype\":\"Figure\",\"type\":\"Plot\"},\"ticker\":{\"id\":\"1361\",\"type\":\"LogTicker\"}},\"id\":\"1360\",\"type\":\"LogAxis\"},{\"attributes\":{},\"id\":\"1373\",\"type\":\"SaveTool\"},{\"attributes\":{\"source\":{\"id\":\"1385\",\"type\":\"ColumnDataSource\"}},\"id\":\"1389\",\"type\":\"CDSView\"},{\"attributes\":{\"fill_alpha\":{\"value\":0.1},\"fill_color\":{\"value\":\"#1f77b4\"},\"line_alpha\":{\"value\":0.1},\"line_color\":{\"value\":\"#1f77b4\"},\"size\":{\"units\":\"screen\",\"value\":10},\"x\":{\"field\":\"x\"},\"y\":{\"field\":\"y\"}},\"id\":\"1392\",\"type\":\"Cross\"},{\"attributes\":{\"plot\":null,\"text\":\"2000 vs 2010\"},\"id\":\"1349\",\"type\":\"Title\"},{\"attributes\":{\"overlay\":{\"id\":\"1378\",\"type\":\"BoxAnnotation\"}},\"id\":\"1372\",\"type\":\"BoxZoomTool\"},{\"attributes\":{\"callback\":null,\"data\":{\"x\":{\"__ndarray__\":\"AAAAAACUmUAAAAAAAE/CQAAAAAAAZ8hAAAAAAMAI40AAAAAAAIe7QAAAAADAFdRAAAAAAIDKzkAAAAAAAGy5QAAAAABALuRAAAAAAKDt5EAAAAAAACfPQAAAAADAYNZAAAAAACDN40AAAAAAADajQAAAAACA4M1AAAAAAICrzkAAAAAAgOfjQAAAAACACMBAAAAAAACUmUAAAAAAAHS5QAAAAAAAn7RAAAAAAIDcwUAAAAAAAKXKQAAAAAAAosxAAAAAAMA+8UAAAAAAABPNQAAAAAAAXJZAAAAAAACohkAAAAAAAKKjQAAAAAAAFqRAAAAAAKDo40AAAAAAAHW3QAAAAAAAhJ5AAAAAAADB0kAAAAAAAGvCQAAAAACADMVAAAAAAABIlkAAAAAAAMCDQAAAAAAAnbVAAAAAAAARyEAAAAAAAJimQAAAAABAhdNAAAAAAEAL0kAAAAAAYHrgQAAAAACg/uRAAAAAAADSpEAAAAAAgEPEQAAAAACAL8JAAAAAAIC7xEAAAAAAAEW8QAAAAADgz+BAAAAAAADskEAAAAAAgDPVQAAAAAAA5JBAAAAAAAC6u0AAAAAAIEDjQAAAAAAg8eFAAAAAAAA3z0AAAAAAAAyaQAAAAAAAMrdAAAAAAADX40AAAAAAACaoQAAAAACAgdxAAAAAAADVxUAAAAAAAMG6QAAAAAAAhJJAAAAAAABglUAAAAAAAKa1QAAAAAAAuJdAAAAAAACusEAAAAAAgIvVQAAAAAAg8+JAAAAAAADDsUAAAAAAAJnAQAAAAAAAldBAAAAAAAAVyEAAAAAAgGrlQAAAAABA0dxAAAAAACB14UAAAAAAAFnAQAAAAACAzOBAAAAAAAD8xUAAAAAAQCTTQAAAAAAAjqNAAAAAAAAEm0AAAAAAUGbyQAAAAAAAudFAAAAAAIDDz0AAAAAAAHahQAAAAAAAiIVAAAAAAECN3UAAAAAAgEXUQAAAAACwQPZAAAAAAIDVxUAAAAAAALiVQAAAAAAACIdAAAAAAIDr00AAAAAAAM3GQAAAAAAAAJpAAAAAAIBA20AAAAAAAHSrQAAAAAAAxqlAAAAAAIB3zkAAAAAAADLOQAAAAAAAEqpAAAAAAACqrkAAAAAAABy+QAAAAAAArMpAAAAAAABCuUAAAAAAABCNQAAAAAAACqhAAAAAAIB4wEAAAAAAADyfQAAAAABgYuZAAAAAAAAU30AAAAAAAPyuQAAAAAAASIpAAAAAAAD6s0AAAAAAQLzuQAAAAACABOhAAAAAAAB8sEAAAAAAgCTNQAAAAAAA5qBAAAAAAABgu0AAAAAAgF3DQAAAAAAA7rVAAAAAAADU1EAAAAAAQMDaQAAAAAAAP/9AAAAAAAB+0EAAAAAAACjVQAAAAAAAuJNAAAAAAAAdtUAAAAAAAG6lQAAAAADAQ+ZAAAAAAAAMoUAAAAAAgAbIQAAAAAAA49NAAAAAAAAMlUAAAAAAgJfxQAAAAACA3ddAAAAAAEC220AAAAAAAOybQAAAAAAAMINAAAAAAICbx0AAAAAAAPytQAAAAABAHOBAAAAAAACUvUAAAAAAAKSpQAAAAACA+stAAAAAAADmtkAAAAAAQPLkQAAAAADgdOpAAAAAAADLuUAAAAAAoBXjQAAAAAAAfKBAAAAAAAC+oEAAAAAAAAvJQAAAAAAAxJtAAAAAAAB4k0AAAAAAAFGzQAAAAABAotxAAAAAAIBVxEAAAAAAgEjQQAAAAAAAmMNAAAAAAACsl0AAAAAAAKS+QAAAAACAqOtAAAAAAACy4UAAAAAAoBvoQAAAAADAsdBAAAAAAABZsEAAAAAAAAinQAAAAAAAJtBAAAAAAACGsUAAAAAAAEOwQAAAAAAA9qpAAAAAAAAwl0A=\",\"dtype\":\"float64\",\"shape\":[178]},\"y\":{\"__ndarray__\":\"ZmZmZmZmS0DNzMzMzMxSQJqZmZmZ+VJAzczMzMzsVEAzMzMzM7NNQM3MzMzMzFJAMzMzMzPzUkCamZmZmTlSQM3MzMzMbFRAAAAAAAAgVECamZmZmdlRQJqZmZmZGVJAzczMzMyMU0BmZmZmZiZRQJqZmZmZ2VJAzczMzMyMUUAzMzMzM/NTQGZmZmZmhlFAAAAAAAAAUEAzMzMzMxNRQDMzMzMz01FAAAAAAAAgU0AAAAAAACBQQM3MzMzMjFJAAAAAAACgU0BmZmZmZmZSQJqZmZmZWU5AmpmZmZlZTUCamZmZmblQQAAAAAAAwExAZmZmZmZGVECamZmZmVlSQJqZmZmZGUxAMzMzMzOzU0CamZmZmflSQDMzMzMz01JAAAAAAACAT0BmZmZmZiZMQGZmZmZmJk5AZmZmZmbmU0CamZmZmZlMQM3MzMzMTFNAAAAAAACAU0BmZmZmZmZUQDMzMzMz01NAZmZmZmbmTkCamZmZmZlSQM3MzMzMjFJAMzMzMzOTUUAzMzMzM3NSQJqZmZmZmUxAAAAAAACATkAzMzMzM/NSQAAAAAAAgE5AmpmZmZl5UEAAAAAAAABUQM3MzMzMTFRAAAAAAADATEAAAAAAAIBPQJqZmZmZGVJAzczMzMwMVEAAAAAAAMBPQGZmZmZm5lNAzczMzMzMUUAzMzMzM7NRQM3MzMzMjE1AAAAAAAAASkBmZmZmZqZPQAAAAAAAgEJAMzMzMzPTUUDNzMzMzKxSQAAAAAAAoFRAZmZmZmZGUEAzMzMzM3NRQJqZmZmZeVNAMzMzMzMTUUCamZmZmflTQAAAAAAAYFRAmpmZmZl5VEAAAAAAAOBSQAAAAAAAwFRAZmZmZmZmU0BmZmZmZsZQQM3MzMzMjE9AAAAAAADATkBmZmZmZsZTQAAAAAAAgFJAAAAAAACAU0AzMzMzM7NHQJqZmZmZ2U5AZmZmZmbmUkCamZmZmXlSQAAAAAAAQFRAMzMzMzPzUkBmZmZmZuZPQGZmZmZm5kpAMzMzMzOTUkCamZmZmblTQAAAAAAAQExAMzMzMzNzVEBmZmZmZgZQQM3MzMzMDFBAmpmZmZkZUkDNzMzMzOxSQJqZmZmZmVBAzczMzMyMUUBmZmZmZuZPQM3MzMzMzFJAzczMzMxsUkCamZmZmdlLQAAAAAAAgFBAAAAAAADATUAAAAAAAGBRQAAAAAAAIFRAAAAAAAAgVEAzMzMzM/NSQJqZmZmZWU5AZmZmZmZmTUCamZmZmTlUQAAAAAAAwFJAzczMzMwsUEDNzMzMzExTQJqZmZmZWU1AmpmZmZlZUkAzMzMzMzNTQM3MzMzMbFFAZmZmZmYGU0AAAAAAAOBTQDMzMzMzU1RAAAAAAACAUkDNzMzMzCxRQJqZmZmZ2U9AZmZmZmbmUUBmZmZmZuZQQM3MzMzMbFNAAAAAAABAUEAAAAAAAEBTQDMzMzMzM1JAAAAAAABATEAAAAAAAGBUQAAAAAAA4FJAAAAAAADgU0AAAAAAAIBPQDMzMzMzc0xAmpmZmZlZTEAAAAAAAEBMQGZmZmZmZlRAzczMzMzsUkAAAAAAAABRQAAAAAAAYFFAZmZmZmbmR0AAAAAAAGBUQDMzMzMzk1RAzczMzMwsU0AzMzMzM7NTQJqZmZmZeVFAMzMzMzNzTkBmZmZmZqZSQDMzMzMzc1FAAAAAAACATkBmZmZmZoZRQGZmZmZmxlFAMzMzMzMzU0DNzMzMzOxSQGZmZmZmplBAMzMzMzMzTUCamZmZmZlRQM3MzMzMDFNAAAAAAAAAVEAAAAAAAKBTQAAAAAAAIFNAZmZmZmZGUUAAAAAAAABQQM3MzMzMrFJAMzMzMzPzUkAAAAAAAIBSQM3MzMzMDEtAMzMzMzMzSUA=\",\"dtype\":\"float64\",\"shape\":[178]}},\"selected\":{\"id\":\"1430\",\"type\":\"Selection\"},\"selection_policy\":{\"id\":\"1429\",\"type\":\"UnionRenderers\"}},\"id\":\"1385\",\"type\":\"ColumnDataSource\"},{\"attributes\":{\"fill_alpha\":{\"value\":0.25},\"fill_color\":{\"value\":\"blue\"},\"line_alpha\":{\"value\":0.25},\"line_color\":{\"value\":\"blue\"},\"size\":{\"units\":\"screen\",\"value\":5},\"x\":{\"field\":\"x\"},\"y\":{\"field\":\"y\"}},\"id\":\"1386\",\"type\":\"Circle\"}],\"root_ids\":[\"1350\"]},\"title\":\"Bokeh Application\",\"version\":\"1.0.1\"}};\n",
       "  var render_items = [{\"docid\":\"947be4bb-0ec7-483a-9473-b93026945df4\",\"roots\":{\"1350\":\"5b8e1fad-6eb6-4e8c-855f-0cbcc43515ee\"}}];\n",
       "  root.Bokeh.embed.embed_items_notebook(docs_json, render_items);\n",
       "\n",
       "  }\n",
       "  if (root.Bokeh !== undefined) {\n",
       "    embed_document(root);\n",
       "  } else {\n",
       "    var attempts = 0;\n",
       "    var timer = setInterval(function(root) {\n",
       "      if (root.Bokeh !== undefined) {\n",
       "        embed_document(root);\n",
       "        clearInterval(timer);\n",
       "      }\n",
       "      attempts++;\n",
       "      if (attempts > 100) {\n",
       "        console.log(\"Bokeh: ERROR: Unable to run BokehJS code because BokehJS library is missing\");\n",
       "        clearInterval(timer);\n",
       "      }\n",
       "    }, 10, root)\n",
       "  }\n",
       "})(window);"
      ],
      "application/vnd.bokehjs_exec.v0+json": ""
     },
     "metadata": {
      "application/vnd.bokehjs_exec.v0+json": {
       "id": "1350"
      }
     },
     "output_type": "display_data"
    }
   ],
   "source": [
    "#We can stack multiple plots on top of each other\n",
    "p = figure(height=200,\n",
    "           x_axis_type='log',\n",
    "           title='1980 vs 2010')\n",
    "p.circle(x=data.loc[2010]['income'],\n",
    "         y=data.loc[2010]['life'],\n",
    "         size=5,color='blue',\n",
    "         alpha=0.25)\n",
    "p.cross(x=data.loc[1980]['income'],\n",
    "        y=data.loc[1980]['life'],\n",
    "        size=10,color='red',\n",
    "        alpha=0.25)\n",
    "show(p)"
   ]
  },
  {
   "cell_type": "markdown",
   "metadata": {},
   "source": [
    "#### Using a dicitonary of plot settings\n",
    "The below produces the same as the above, but instead of passing in a set of individual stylings as keyword variables, we can pass a dictionary of values. This is useful as we can re-use this dictionary in other plots..."
   ]
  },
  {
   "cell_type": "code",
   "execution_count": 12,
   "metadata": {},
   "outputs": [
    {
     "data": {
      "text/html": [
       "\n",
       "\n",
       "\n",
       "\n",
       "\n",
       "\n",
       "  <div class=\"bk-root\" id=\"f59f86be-4d43-46b3-8a4c-d03605e91b0a\"></div>\n"
      ]
     },
     "metadata": {},
     "output_type": "display_data"
    },
    {
     "data": {
      "application/javascript": [
       "(function(root) {\n",
       "  function embed_document(root) {\n",
       "    \n",
       "  var docs_json = {\"1738c9f6-3374-4971-b936-a71911595a0a\":{\"roots\":{\"references\":[{\"attributes\":{\"below\":[{\"id\":\"1504\",\"type\":\"LogAxis\"}],\"left\":[{\"id\":\"1509\",\"type\":\"LinearAxis\"}],\"plot_height\":200,\"renderers\":[{\"id\":\"1504\",\"type\":\"LogAxis\"},{\"id\":\"1508\",\"type\":\"Grid\"},{\"id\":\"1509\",\"type\":\"LinearAxis\"},{\"id\":\"1513\",\"type\":\"Grid\"},{\"id\":\"1522\",\"type\":\"BoxAnnotation\"},{\"id\":\"1532\",\"type\":\"GlyphRenderer\"},{\"id\":\"1537\",\"type\":\"GlyphRenderer\"}],\"title\":{\"id\":\"1493\",\"type\":\"Title\"},\"toolbar\":{\"id\":\"1520\",\"type\":\"Toolbar\"},\"x_range\":{\"id\":\"1496\",\"type\":\"DataRange1d\"},\"x_scale\":{\"id\":\"1500\",\"type\":\"LogScale\"},\"y_range\":{\"id\":\"1498\",\"type\":\"DataRange1d\"},\"y_scale\":{\"id\":\"1502\",\"type\":\"LinearScale\"}},\"id\":\"1494\",\"subtype\":\"Figure\",\"type\":\"Plot\"},{\"attributes\":{\"fill_alpha\":{\"value\":0.1},\"fill_color\":{\"value\":\"#1f77b4\"},\"line_alpha\":{\"value\":0.1},\"line_color\":{\"value\":\"#1f77b4\"},\"size\":{\"units\":\"screen\",\"value\":5},\"x\":{\"field\":\"x\"},\"y\":{\"field\":\"y\"}},\"id\":\"1531\",\"type\":\"Circle\"},{\"attributes\":{},\"id\":\"1518\",\"type\":\"ResetTool\"},{\"attributes\":{\"data_source\":{\"id\":\"1529\",\"type\":\"ColumnDataSource\"},\"glyph\":{\"id\":\"1530\",\"type\":\"Circle\"},\"hover_glyph\":null,\"muted_glyph\":null,\"nonselection_glyph\":{\"id\":\"1531\",\"type\":\"Circle\"},\"selection_glyph\":null,\"view\":{\"id\":\"1533\",\"type\":\"CDSView\"}},\"id\":\"1532\",\"type\":\"GlyphRenderer\"},{\"attributes\":{},\"id\":\"1583\",\"type\":\"UnionRenderers\"},{\"attributes\":{},\"id\":\"1517\",\"type\":\"SaveTool\"},{\"attributes\":{\"source\":{\"id\":\"1529\",\"type\":\"ColumnDataSource\"}},\"id\":\"1533\",\"type\":\"CDSView\"},{\"attributes\":{},\"id\":\"1515\",\"type\":\"WheelZoomTool\"},{\"attributes\":{},\"id\":\"1514\",\"type\":\"PanTool\"},{\"attributes\":{\"active_drag\":\"auto\",\"active_inspect\":\"auto\",\"active_multi\":null,\"active_scroll\":\"auto\",\"active_tap\":\"auto\",\"tools\":[{\"id\":\"1514\",\"type\":\"PanTool\"},{\"id\":\"1515\",\"type\":\"WheelZoomTool\"},{\"id\":\"1516\",\"type\":\"BoxZoomTool\"},{\"id\":\"1517\",\"type\":\"SaveTool\"},{\"id\":\"1518\",\"type\":\"ResetTool\"},{\"id\":\"1519\",\"type\":\"HelpTool\"}]},\"id\":\"1520\",\"type\":\"Toolbar\"},{\"attributes\":{\"callback\":null,\"data\":{\"x\":{\"__ndarray__\":\"AAAAAAAYkkAAAAAAAHqwQAAAAAAA28NAAAAAAMBN30AAAAAAAFuxQAAAAAAA6b9AAAAAAABzxUAAAAAAAM6tQAAAAACA4MtAAAAAAABQ10AAAAAAwKrYQAAAAAAAEsBAAAAAAMA21kAAAAAAgPjlQAAAAAAA3JBAAAAAAIAqyUAAAAAAAHi6QAAAAADAPdlAAAAAAAA0sEAAAAAAAOiUQAAAAAAArJFAAAAAAAALsUAAAAAAAPyrQAAAAAAAxLBAAAAAAABVxUAAAAAAwKD9QAAAAAAAtMNAAAAAAAC4h0AAAAAAALiLQAAAAAAAOIpAAAAAAADepEAAAAAAgA3aQAAAAAAAlJJAAAAAAADYi0AAAAAAAAD4fwAAAAAAmL9AAAAAAADEkEAAAAAAAOW4QAAAAAAAkJlAAAAAAAB8mEAAAAAAAI6wQAAAAAAAcb1AAAAAAADIr0AAAAAAAI3SQAAAAAAA/sdAAAAAAAB7zEAAAAAAQEraQAAAAAAAWKtAAAAAAAA2rUAAAAAAANG/QAAAAAAA5LFAAAAAAADIs0AAAAAAABSVQAAAAAAAcI1AAAAAAADOxkAAAAAAAFiGQAAAAAAA07ZAAAAAAEBz1UAAAAAAgGbXQAAAAAAAAPh/AAAAAAAA+H8AAAAAABbbQAAAAAAAsJtAAAAAAIA8wUAAAAAAQB3bQAAAAAAAVKBAAAAAAEDx0UAAAAAAQArRQAAAAAAAVbNAAAAAAAAA+H8AAAAAAAD4fwAAAAAAS7lAAAAAAAA4kkAAAAAAAHCXQAAAAAAArrBAAAAAAABApkAAAAAAAECsQAAAAACAQs9AAAAAAID4z0AAAAAAAAHYQAAAAAAA2JNAAAAAAADkqUAAAAAAAD/EQAAAAACAOdBAAAAAAABnz0AAAAAAANjMQAAAAABAU9ZAAAAAAABjuEAAAAAAQEfTQAAAAACAUsBAAAAAAAA5yUAAAAAAAJKhQAAAAAAAuJtAAAAAACBn+kAAAAAAAC7FQAAAAAAAxcFAAAAAAAAwkUAAAAAAANCTQAAAAACAA+1AAAAAAIDBzkAAAAAAgIjhQAAAAABAjNpAAAAAAAC3w0AAAAAAAAKhQAAAAAAA0IVAAAAAAAAPvEAAAAAAAMCeQAAAAAAAsJBAAAAAAADgxUAAAAAAAJqgQAAAAAAAAPh/AAAAAAD8pkAAAAAAANCxQAAAAAAAAPh/AAAAAADWyEAAAAAAAOKiQAAAAAAAcrdAAAAAAACMo0AAAAAAgGvQQAAAAAAAlKpAAAAAAAAwf0AAAAAAACCdQAAAAAAAqLpAAAAAAAAQj0AAAAAAQEDZQAAAAAAAAPh/AAAAAAAA+H8AAAAAwMLUQAAAAAAA4bFAAAAAAAAklUAAAAAAAJqwQAAAAABAxeBAAAAAAMD11EAAAAAAANagQAAAAAAAk8BAAAAAAAB4nEAAAAAAAMe3QAAAAAAAE71AAAAAAACbsEAAAAAAgBXGQAAAAAAAVM1AAAAAAMAp00AAAAAAcHYAQQAAAAAAAPh/AAAAAIDEykAAAAAAQCXRQAAAAAAAwIxAAAAAAABOrkAAAAAAAKqoQAAAAAAQsfFAAAAAAACInEAAAAAAAA7PQAAAAAAAR8VAAAAAAAAgmEAAAAAAgGTUQAAAAAAAZcpAAAAAAEDK00AAAAAAADSUQAAAAAAAKIpAAAAAAICcxkAAAAAAAACjQAAAAADAsdFAAAAAAACko0AAAAAAAN6gQAAAAAAAKsVAAAAAAABzskAAAAAAgGbZQAAAAACA3uNAAAAAAACpskAAAAAAgNLEQAAAAAAAbbFAAAAAAAD4l0AAAAAAAGirQAAAAAAAAIpAAAAAAABonUAAAAAAACiiQAAAAAAANtFAAAAAAADlskAAAAAAAJS+QAAAAACAPsNAAAAAAADIhkAAAAAAgELCQAAAAABgTAZBAAAAAEDw00AAAAAAwOzcQAAAAAAAmcNAAAAAAABsqkAAAAAAABSfQAAAAABAs9FAAAAAAAAkkUAAAAAAAAD4fwAAAAAA3KJAAAAAAAAA+H8AAAAAAGynQAAAAAAAeKJA\",\"dtype\":\"float64\",\"shape\":[195]},\"y\":{\"__ndarray__\":\"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\",\"dtype\":\"float64\",\"shape\":[195]}},\"selected\":{\"id\":\"1586\",\"type\":\"Selection\"},\"selection_policy\":{\"id\":\"1585\",\"type\":\"UnionRenderers\"}},\"id\":\"1534\",\"type\":\"ColumnDataSource\"},{\"attributes\":{\"fill_alpha\":{\"value\":0.25},\"fill_color\":{\"value\":\"red\"},\"line_alpha\":{\"value\":0.25},\"line_color\":{\"value\":\"red\"},\"size\":{\"units\":\"screen\",\"value\":10},\"x\":{\"field\":\"x\"},\"y\":{\"field\":\"y\"}},\"id\":\"1535\",\"type\":\"Cross\"},{\"attributes\":{\"fill_alpha\":{\"value\":0.1},\"fill_color\":{\"value\":\"#1f77b4\"},\"line_alpha\":{\"value\":0.1},\"line_color\":{\"value\":\"#1f77b4\"},\"size\":{\"units\":\"screen\",\"value\":10},\"x\":{\"field\":\"x\"},\"y\":{\"field\":\"y\"}},\"id\":\"1536\",\"type\":\"Cross\"},{\"attributes\":{\"callback\":null},\"id\":\"1496\",\"type\":\"DataRange1d\"},{\"attributes\":{},\"id\":\"1500\",\"type\":\"LogScale\"},{\"attributes\":{\"data_source\":{\"id\":\"1534\",\"type\":\"ColumnDataSource\"},\"glyph\":{\"id\":\"1535\",\"type\":\"Cross\"},\"hover_glyph\":null,\"muted_glyph\":null,\"nonselection_glyph\":{\"id\":\"1536\",\"type\":\"Cross\"},\"selection_glyph\":null,\"view\":{\"id\":\"1538\",\"type\":\"CDSView\"}},\"id\":\"1537\",\"type\":\"GlyphRenderer\"},{\"attributes\":{\"source\":{\"id\":\"1534\",\"type\":\"ColumnDataSource\"}},\"id\":\"1538\",\"type\":\"CDSView\"},{\"attributes\":{\"bottom_units\":\"screen\",\"fill_alpha\":{\"value\":0.5},\"fill_color\":{\"value\":\"lightgrey\"},\"left_units\":\"screen\",\"level\":\"overlay\",\"line_alpha\":{\"value\":1.0},\"line_color\":{\"value\":\"black\"},\"line_dash\":[4,4],\"line_width\":{\"value\":2},\"plot\":null,\"render_mode\":\"css\",\"right_units\":\"screen\",\"top_units\":\"screen\"},\"id\":\"1522\",\"type\":\"BoxAnnotation\"},{\"attributes\":{\"ticker\":null},\"id\":\"1579\",\"type\":\"LogTickFormatter\"},{\"attributes\":{\"dimension\":1,\"plot\":{\"id\":\"1494\",\"subtype\":\"Figure\",\"type\":\"Plot\"},\"ticker\":{\"id\":\"1510\",\"type\":\"BasicTicker\"}},\"id\":\"1513\",\"type\":\"Grid\"},{\"attributes\":{},\"id\":\"1510\",\"type\":\"BasicTicker\"},{\"attributes\":{},\"id\":\"1581\",\"type\":\"BasicTickFormatter\"},{\"attributes\":{\"callback\":null},\"id\":\"1498\",\"type\":\"DataRange1d\"},{\"attributes\":{},\"id\":\"1584\",\"type\":\"Selection\"},{\"attributes\":{\"plot\":{\"id\":\"1494\",\"subtype\":\"Figure\",\"type\":\"Plot\"},\"ticker\":{\"id\":\"1505\",\"type\":\"LogTicker\"}},\"id\":\"1508\",\"type\":\"Grid\"},{\"attributes\":{},\"id\":\"1585\",\"type\":\"UnionRenderers\"},{\"attributes\":{\"fill_alpha\":{\"value\":0.25},\"fill_color\":{\"value\":\"blue\"},\"line_alpha\":{\"value\":0.25},\"line_color\":{\"value\":\"blue\"},\"size\":{\"units\":\"screen\",\"value\":5},\"x\":{\"field\":\"x\"},\"y\":{\"field\":\"y\"}},\"id\":\"1530\",\"type\":\"Circle\"},{\"attributes\":{\"num_minor_ticks\":10},\"id\":\"1505\",\"type\":\"LogTicker\"},{\"attributes\":{\"overlay\":{\"id\":\"1522\",\"type\":\"BoxAnnotation\"}},\"id\":\"1516\",\"type\":\"BoxZoomTool\"},{\"attributes\":{\"formatter\":{\"id\":\"1579\",\"type\":\"LogTickFormatter\"},\"plot\":{\"id\":\"1494\",\"subtype\":\"Figure\",\"type\":\"Plot\"},\"ticker\":{\"id\":\"1505\",\"type\":\"LogTicker\"}},\"id\":\"1504\",\"type\":\"LogAxis\"},{\"attributes\":{},\"id\":\"1586\",\"type\":\"Selection\"},{\"attributes\":{\"plot\":null,\"text\":\"1980 v. 2010\"},\"id\":\"1493\",\"type\":\"Title\"},{\"attributes\":{\"formatter\":{\"id\":\"1581\",\"type\":\"BasicTickFormatter\"},\"plot\":{\"id\":\"1494\",\"subtype\":\"Figure\",\"type\":\"Plot\"},\"ticker\":{\"id\":\"1510\",\"type\":\"BasicTicker\"}},\"id\":\"1509\",\"type\":\"LinearAxis\"},{\"attributes\":{},\"id\":\"1502\",\"type\":\"LinearScale\"},{\"attributes\":{\"callback\":null,\"data\":{\"x\":{\"__ndarray__\":\"AAAAAACUmUAAAAAAAE/CQAAAAAAAZ8hAAAAAAMAI40AAAAAAAIe7QAAAAADAFdRAAAAAAIDKzkAAAAAAAGy5QAAAAABALuRAAAAAAKDt5EAAAAAAACfPQAAAAADAYNZAAAAAACDN40AAAAAAADajQAAAAACA4M1AAAAAAICrzkAAAAAAgOfjQAAAAACACMBAAAAAAACUmUAAAAAAAHS5QAAAAAAAn7RAAAAAAIDcwUAAAAAAAKXKQAAAAAAAosxAAAAAAMA+8UAAAAAAABPNQAAAAAAAXJZAAAAAAACohkAAAAAAAKKjQAAAAAAAFqRAAAAAAKDo40AAAAAAAHW3QAAAAAAAhJ5AAAAAAADB0kAAAAAAAGvCQAAAAACADMVAAAAAAABIlkAAAAAAAMCDQAAAAAAAnbVAAAAAAAARyEAAAAAAAJimQAAAAABAhdNAAAAAAEAL0kAAAAAAYHrgQAAAAACg/uRAAAAAAADSpEAAAAAAgEPEQAAAAACAL8JAAAAAAIC7xEAAAAAAAEW8QAAAAADgz+BAAAAAAADskEAAAAAAgDPVQAAAAAAA5JBAAAAAAAC6u0AAAAAAIEDjQAAAAAAg8eFAAAAAAAA3z0AAAAAAAAyaQAAAAAAAMrdAAAAAAADX40AAAAAAACaoQAAAAACAgdxAAAAAAADVxUAAAAAAAMG6QAAAAAAAhJJAAAAAAABglUAAAAAAAKa1QAAAAAAAuJdAAAAAAACusEAAAAAAgIvVQAAAAAAg8+JAAAAAAADDsUAAAAAAAJnAQAAAAAAAldBAAAAAAAAVyEAAAAAAgGrlQAAAAABA0dxAAAAAACB14UAAAAAAAFnAQAAAAACAzOBAAAAAAAD8xUAAAAAAQCTTQAAAAAAAjqNAAAAAAAAEm0AAAAAAUGbyQAAAAAAAudFAAAAAAIDDz0AAAAAAAHahQAAAAAAAiIVAAAAAAECN3UAAAAAAgEXUQAAAAACwQPZAAAAAAIDVxUAAAAAAALiVQAAAAAAACIdAAAAAAIDr00AAAAAAAM3GQAAAAAAAAJpAAAAAAIBA20AAAAAAAHSrQAAAAAAAxqlAAAAAAIB3zkAAAAAAADLOQAAAAAAAEqpAAAAAAACqrkAAAAAAABy+QAAAAAAArMpAAAAAAABCuUAAAAAAABCNQAAAAAAACqhAAAAAAIB4wEAAAAAAADyfQAAAAABgYuZAAAAAAAAU30AAAAAAAPyuQAAAAAAASIpAAAAAAAD6s0AAAAAAQLzuQAAAAACABOhAAAAAAAB8sEAAAAAAgCTNQAAAAAAA5qBAAAAAAABgu0AAAAAAgF3DQAAAAAAA7rVAAAAAAADU1EAAAAAAQMDaQAAAAAAAP/9AAAAAAAB+0EAAAAAAACjVQAAAAAAAuJNAAAAAAAAdtUAAAAAAAG6lQAAAAADAQ+ZAAAAAAAAMoUAAAAAAgAbIQAAAAAAA49NAAAAAAAAMlUAAAAAAgJfxQAAAAACA3ddAAAAAAEC220AAAAAAAOybQAAAAAAAMINAAAAAAICbx0AAAAAAAPytQAAAAABAHOBAAAAAAACUvUAAAAAAAKSpQAAAAACA+stAAAAAAADmtkAAAAAAQPLkQAAAAADgdOpAAAAAAADLuUAAAAAAoBXjQAAAAAAAfKBAAAAAAAC+oEAAAAAAAAvJQAAAAAAAxJtAAAAAAAB4k0AAAAAAAFGzQAAAAABAotxAAAAAAIBVxEAAAAAAgEjQQAAAAAAAmMNAAAAAAACsl0AAAAAAAKS+QAAAAACAqOtAAAAAAACy4UAAAAAAoBvoQAAAAADAsdBAAAAAAABZsEAAAAAAAAinQAAAAAAAJtBAAAAAAACGsUAAAAAAAEOwQAAAAAAA9qpAAAAAAAAwl0A=\",\"dtype\":\"float64\",\"shape\":[178]},\"y\":{\"__ndarray__\":\"ZmZmZmZmS0DNzMzMzMxSQJqZmZmZ+VJAzczMzMzsVEAzMzMzM7NNQM3MzMzMzFJAMzMzMzPzUkCamZmZmTlSQM3MzMzMbFRAAAAAAAAgVECamZmZmdlRQJqZmZmZGVJAzczMzMyMU0BmZmZmZiZRQJqZmZmZ2VJAzczMzMyMUUAzMzMzM/NTQGZmZmZmhlFAAAAAAAAAUEAzMzMzMxNRQDMzMzMz01FAAAAAAAAgU0AAAAAAACBQQM3MzMzMjFJAAAAAAACgU0BmZmZmZmZSQJqZmZmZWU5AmpmZmZlZTUCamZmZmblQQAAAAAAAwExAZmZmZmZGVECamZmZmVlSQJqZmZmZGUxAMzMzMzOzU0CamZmZmflSQDMzMzMz01JAAAAAAACAT0BmZmZmZiZMQGZmZmZmJk5AZmZmZmbmU0CamZmZmZlMQM3MzMzMTFNAAAAAAACAU0BmZmZmZmZUQDMzMzMz01NAZmZmZmbmTkCamZmZmZlSQM3MzMzMjFJAMzMzMzOTUUAzMzMzM3NSQJqZmZmZmUxAAAAAAACATkAzMzMzM/NSQAAAAAAAgE5AmpmZmZl5UEAAAAAAAABUQM3MzMzMTFRAAAAAAADATEAAAAAAAIBPQJqZmZmZGVJAzczMzMwMVEAAAAAAAMBPQGZmZmZm5lNAzczMzMzMUUAzMzMzM7NRQM3MzMzMjE1AAAAAAAAASkBmZmZmZqZPQAAAAAAAgEJAMzMzMzPTUUDNzMzMzKxSQAAAAAAAoFRAZmZmZmZGUEAzMzMzM3NRQJqZmZmZeVNAMzMzMzMTUUCamZmZmflTQAAAAAAAYFRAmpmZmZl5VEAAAAAAAOBSQAAAAAAAwFRAZmZmZmZmU0BmZmZmZsZQQM3MzMzMjE9AAAAAAADATkBmZmZmZsZTQAAAAAAAgFJAAAAAAACAU0AzMzMzM7NHQJqZmZmZ2U5AZmZmZmbmUkCamZmZmXlSQAAAAAAAQFRAMzMzMzPzUkBmZmZmZuZPQGZmZmZm5kpAMzMzMzOTUkCamZmZmblTQAAAAAAAQExAMzMzMzNzVEBmZmZmZgZQQM3MzMzMDFBAmpmZmZkZUkDNzMzMzOxSQJqZmZmZmVBAzczMzMyMUUBmZmZmZuZPQM3MzMzMzFJAzczMzMxsUkCamZmZmdlLQAAAAAAAgFBAAAAAAADATUAAAAAAAGBRQAAAAAAAIFRAAAAAAAAgVEAzMzMzM/NSQJqZmZmZWU5AZmZmZmZmTUCamZmZmTlUQAAAAAAAwFJAzczMzMwsUEDNzMzMzExTQJqZmZmZWU1AmpmZmZlZUkAzMzMzMzNTQM3MzMzMbFFAZmZmZmYGU0AAAAAAAOBTQDMzMzMzU1RAAAAAAACAUkDNzMzMzCxRQJqZmZmZ2U9AZmZmZmbmUUBmZmZmZuZQQM3MzMzMbFNAAAAAAABAUEAAAAAAAEBTQDMzMzMzM1JAAAAAAABATEAAAAAAAGBUQAAAAAAA4FJAAAAAAADgU0AAAAAAAIBPQDMzMzMzc0xAmpmZmZlZTEAAAAAAAEBMQGZmZmZmZlRAzczMzMzsUkAAAAAAAABRQAAAAAAAYFFAZmZmZmbmR0AAAAAAAGBUQDMzMzMzk1RAzczMzMwsU0AzMzMzM7NTQJqZmZmZeVFAMzMzMzNzTkBmZmZmZqZSQDMzMzMzc1FAAAAAAACATkBmZmZmZoZRQGZmZmZmxlFAMzMzMzMzU0DNzMzMzOxSQGZmZmZmplBAMzMzMzMzTUCamZmZmZlRQM3MzMzMDFNAAAAAAAAAVEAAAAAAAKBTQAAAAAAAIFNAZmZmZmZGUUAAAAAAAABQQM3MzMzMrFJAMzMzMzPzUkAAAAAAAIBSQM3MzMzMDEtAMzMzMzMzSUA=\",\"dtype\":\"float64\",\"shape\":[178]}},\"selected\":{\"id\":\"1584\",\"type\":\"Selection\"},\"selection_policy\":{\"id\":\"1583\",\"type\":\"UnionRenderers\"}},\"id\":\"1529\",\"type\":\"ColumnDataSource\"},{\"attributes\":{},\"id\":\"1519\",\"type\":\"HelpTool\"}],\"root_ids\":[\"1494\"]},\"title\":\"Bokeh Application\",\"version\":\"1.0.1\"}};\n",
       "  var render_items = [{\"docid\":\"1738c9f6-3374-4971-b936-a71911595a0a\",\"roots\":{\"1494\":\"f59f86be-4d43-46b3-8a4c-d03605e91b0a\"}}];\n",
       "  root.Bokeh.embed.embed_items_notebook(docs_json, render_items);\n",
       "\n",
       "  }\n",
       "  if (root.Bokeh !== undefined) {\n",
       "    embed_document(root);\n",
       "  } else {\n",
       "    var attempts = 0;\n",
       "    var timer = setInterval(function(root) {\n",
       "      if (root.Bokeh !== undefined) {\n",
       "        embed_document(root);\n",
       "        clearInterval(timer);\n",
       "      }\n",
       "      attempts++;\n",
       "      if (attempts > 100) {\n",
       "        console.log(\"Bokeh: ERROR: Unable to run BokehJS code because BokehJS library is missing\");\n",
       "        clearInterval(timer);\n",
       "      }\n",
       "    }, 10, root)\n",
       "  }\n",
       "})(window);"
      ],
      "application/vnd.bokehjs_exec.v0+json": ""
     },
     "metadata": {
      "application/vnd.bokehjs_exec.v0+json": {
       "id": "1494"
      }
     },
     "output_type": "display_data"
    }
   ],
   "source": [
    "PLOT_OPS = {'height':200,\n",
    "            'x_axis_type':'log',\n",
    "            'title':'1980 v. 2010'\n",
    "           }\n",
    "\n",
    "p = figure(**PLOT_OPS)\n",
    "p.circle(x=data.loc[2010]['income'],y=data.loc[2010]['life'],size=5,color='blue',alpha=0.25)\n",
    "p.cross(x=data.loc[1980]['income'],y=data.loc[1980]['life'],size=10,color='red', alpha=0.25)\n",
    "show(p)"
   ]
  }
 ],
 "metadata": {
  "kernelspec": {
   "display_name": "Python 3",
   "language": "python",
   "name": "python3"
  },
  "language_info": {
   "codemirror_mode": {
    "name": "ipython",
    "version": 3
   },
   "file_extension": ".py",
   "mimetype": "text/x-python",
   "name": "python",
   "nbconvert_exporter": "python",
   "pygments_lexer": "ipython3",
   "version": "3.6.5"
  }
 },
 "nbformat": 4,
 "nbformat_minor": 2
}

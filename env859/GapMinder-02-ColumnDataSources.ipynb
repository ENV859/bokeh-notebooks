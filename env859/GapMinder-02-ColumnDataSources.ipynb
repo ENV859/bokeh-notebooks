{
 "cells": [
  {
   "cell_type": "markdown",
   "metadata": {},
   "source": [
    "## Bokeh's `ColumnDataSource` object and more plotting goodies\n",
    "In the last notebook we passed data into our Bokeh figure as a pair of Pandas series objects. In this example, we instead prepare our plot data as a Bokeh **ColumnDataSource** object. This happens behind the scenes anyway, so by doing this explicitly in our code, we actually get more capabilities in working with it. \n",
    "\n",
    "Resource: https://bokeh.pydata.org/en/latest/docs/reference/models/sources.html#bokeh.models.sources.ColumnDataSource"
   ]
  },
  {
   "cell_type": "code",
   "execution_count": 1,
   "metadata": {},
   "outputs": [],
   "source": [
    "#import the data, as before\n",
    "import pandas as pd\n",
    "data = pd.read_csv('./data/gapminder.csv',thousands=',',index_col='Year')"
   ]
  },
  {
   "cell_type": "code",
   "execution_count": 2,
   "metadata": {},
   "outputs": [],
   "source": [
    "#Import the ColumnDataSource object into our code\n",
    "from bokeh.models import ColumnDataSource"
   ]
  },
  {
   "cell_type": "markdown",
   "metadata": {},
   "source": [
    "### Constructing our column data source\n",
    "* First, we need to import the object into our coding environment\n",
    "* Then we create it, adding data to it as a dictionary..."
   ]
  },
  {
   "cell_type": "code",
   "execution_count": 3,
   "metadata": {},
   "outputs": [],
   "source": [
    "#Construct a column data source of x(income),y(life expectancy),and also country)\n",
    "theCDS = ColumnDataSource({'x':data.loc[2010]['income'],\n",
    "                           'y':data.loc[2010]['life'],\n",
    "                           'country':data.loc[2010]['Country']\n",
    "                          })"
   ]
  },
  {
   "cell_type": "markdown",
   "metadata": {},
   "source": [
    "With our CDS created and populated with data, we can construct our graph using this object. "
   ]
  },
  {
   "cell_type": "code",
   "execution_count": 4,
   "metadata": {},
   "outputs": [
    {
     "data": {
      "text/html": [
       "\n",
       "    <div class=\"bk-root\">\n",
       "        <a href=\"https://bokeh.pydata.org\" target=\"_blank\" class=\"bk-logo bk-logo-small bk-logo-notebook\"></a>\n",
       "        <span id=\"1002\">Loading BokehJS ...</span>\n",
       "    </div>"
      ]
     },
     "metadata": {},
     "output_type": "display_data"
    },
    {
     "data": {
      "application/javascript": [
       "\n",
       "(function(root) {\n",
       "  function now() {\n",
       "    return new Date();\n",
       "  }\n",
       "\n",
       "  var force = true;\n",
       "\n",
       "  if (typeof (root._bokeh_onload_callbacks) === \"undefined\" || force === true) {\n",
       "    root._bokeh_onload_callbacks = [];\n",
       "    root._bokeh_is_loading = undefined;\n",
       "  }\n",
       "\n",
       "  var JS_MIME_TYPE = 'application/javascript';\n",
       "  var HTML_MIME_TYPE = 'text/html';\n",
       "  var EXEC_MIME_TYPE = 'application/vnd.bokehjs_exec.v0+json';\n",
       "  var CLASS_NAME = 'output_bokeh rendered_html';\n",
       "\n",
       "  /**\n",
       "   * Render data to the DOM node\n",
       "   */\n",
       "  function render(props, node) {\n",
       "    var script = document.createElement(\"script\");\n",
       "    node.appendChild(script);\n",
       "  }\n",
       "\n",
       "  /**\n",
       "   * Handle when an output is cleared or removed\n",
       "   */\n",
       "  function handleClearOutput(event, handle) {\n",
       "    var cell = handle.cell;\n",
       "\n",
       "    var id = cell.output_area._bokeh_element_id;\n",
       "    var server_id = cell.output_area._bokeh_server_id;\n",
       "    // Clean up Bokeh references\n",
       "    if (id != null && id in Bokeh.index) {\n",
       "      Bokeh.index[id].model.document.clear();\n",
       "      delete Bokeh.index[id];\n",
       "    }\n",
       "\n",
       "    if (server_id !== undefined) {\n",
       "      // Clean up Bokeh references\n",
       "      var cmd = \"from bokeh.io.state import curstate; print(curstate().uuid_to_server['\" + server_id + \"'].get_sessions()[0].document.roots[0]._id)\";\n",
       "      cell.notebook.kernel.execute(cmd, {\n",
       "        iopub: {\n",
       "          output: function(msg) {\n",
       "            var id = msg.content.text.trim();\n",
       "            if (id in Bokeh.index) {\n",
       "              Bokeh.index[id].model.document.clear();\n",
       "              delete Bokeh.index[id];\n",
       "            }\n",
       "          }\n",
       "        }\n",
       "      });\n",
       "      // Destroy server and session\n",
       "      var cmd = \"import bokeh.io.notebook as ion; ion.destroy_server('\" + server_id + \"')\";\n",
       "      cell.notebook.kernel.execute(cmd);\n",
       "    }\n",
       "  }\n",
       "\n",
       "  /**\n",
       "   * Handle when a new output is added\n",
       "   */\n",
       "  function handleAddOutput(event, handle) {\n",
       "    var output_area = handle.output_area;\n",
       "    var output = handle.output;\n",
       "\n",
       "    // limit handleAddOutput to display_data with EXEC_MIME_TYPE content only\n",
       "    if ((output.output_type != \"display_data\") || (!output.data.hasOwnProperty(EXEC_MIME_TYPE))) {\n",
       "      return\n",
       "    }\n",
       "\n",
       "    var toinsert = output_area.element.find(\".\" + CLASS_NAME.split(' ')[0]);\n",
       "\n",
       "    if (output.metadata[EXEC_MIME_TYPE][\"id\"] !== undefined) {\n",
       "      toinsert[toinsert.length - 1].firstChild.textContent = output.data[JS_MIME_TYPE];\n",
       "      // store reference to embed id on output_area\n",
       "      output_area._bokeh_element_id = output.metadata[EXEC_MIME_TYPE][\"id\"];\n",
       "    }\n",
       "    if (output.metadata[EXEC_MIME_TYPE][\"server_id\"] !== undefined) {\n",
       "      var bk_div = document.createElement(\"div\");\n",
       "      bk_div.innerHTML = output.data[HTML_MIME_TYPE];\n",
       "      var script_attrs = bk_div.children[0].attributes;\n",
       "      for (var i = 0; i < script_attrs.length; i++) {\n",
       "        toinsert[toinsert.length - 1].firstChild.setAttribute(script_attrs[i].name, script_attrs[i].value);\n",
       "      }\n",
       "      // store reference to server id on output_area\n",
       "      output_area._bokeh_server_id = output.metadata[EXEC_MIME_TYPE][\"server_id\"];\n",
       "    }\n",
       "  }\n",
       "\n",
       "  function register_renderer(events, OutputArea) {\n",
       "\n",
       "    function append_mime(data, metadata, element) {\n",
       "      // create a DOM node to render to\n",
       "      var toinsert = this.create_output_subarea(\n",
       "        metadata,\n",
       "        CLASS_NAME,\n",
       "        EXEC_MIME_TYPE\n",
       "      );\n",
       "      this.keyboard_manager.register_events(toinsert);\n",
       "      // Render to node\n",
       "      var props = {data: data, metadata: metadata[EXEC_MIME_TYPE]};\n",
       "      render(props, toinsert[toinsert.length - 1]);\n",
       "      element.append(toinsert);\n",
       "      return toinsert\n",
       "    }\n",
       "\n",
       "    /* Handle when an output is cleared or removed */\n",
       "    events.on('clear_output.CodeCell', handleClearOutput);\n",
       "    events.on('delete.Cell', handleClearOutput);\n",
       "\n",
       "    /* Handle when a new output is added */\n",
       "    events.on('output_added.OutputArea', handleAddOutput);\n",
       "\n",
       "    /**\n",
       "     * Register the mime type and append_mime function with output_area\n",
       "     */\n",
       "    OutputArea.prototype.register_mime_type(EXEC_MIME_TYPE, append_mime, {\n",
       "      /* Is output safe? */\n",
       "      safe: true,\n",
       "      /* Index of renderer in `output_area.display_order` */\n",
       "      index: 0\n",
       "    });\n",
       "  }\n",
       "\n",
       "  // register the mime type if in Jupyter Notebook environment and previously unregistered\n",
       "  if (root.Jupyter !== undefined) {\n",
       "    var events = require('base/js/events');\n",
       "    var OutputArea = require('notebook/js/outputarea').OutputArea;\n",
       "\n",
       "    if (OutputArea.prototype.mime_types().indexOf(EXEC_MIME_TYPE) == -1) {\n",
       "      register_renderer(events, OutputArea);\n",
       "    }\n",
       "  }\n",
       "\n",
       "  \n",
       "  if (typeof (root._bokeh_timeout) === \"undefined\" || force === true) {\n",
       "    root._bokeh_timeout = Date.now() + 5000;\n",
       "    root._bokeh_failed_load = false;\n",
       "  }\n",
       "\n",
       "  var NB_LOAD_WARNING = {'data': {'text/html':\n",
       "     \"<div style='background-color: #fdd'>\\n\"+\n",
       "     \"<p>\\n\"+\n",
       "     \"BokehJS does not appear to have successfully loaded. If loading BokehJS from CDN, this \\n\"+\n",
       "     \"may be due to a slow or bad network connection. Possible fixes:\\n\"+\n",
       "     \"</p>\\n\"+\n",
       "     \"<ul>\\n\"+\n",
       "     \"<li>re-rerun `output_notebook()` to attempt to load from CDN again, or</li>\\n\"+\n",
       "     \"<li>use INLINE resources instead, as so:</li>\\n\"+\n",
       "     \"</ul>\\n\"+\n",
       "     \"<code>\\n\"+\n",
       "     \"from bokeh.resources import INLINE\\n\"+\n",
       "     \"output_notebook(resources=INLINE)\\n\"+\n",
       "     \"</code>\\n\"+\n",
       "     \"</div>\"}};\n",
       "\n",
       "  function display_loaded() {\n",
       "    var el = document.getElementById(\"1002\");\n",
       "    if (el != null) {\n",
       "      el.textContent = \"BokehJS is loading...\";\n",
       "    }\n",
       "    if (root.Bokeh !== undefined) {\n",
       "      if (el != null) {\n",
       "        el.textContent = \"BokehJS \" + root.Bokeh.version + \" successfully loaded.\";\n",
       "      }\n",
       "    } else if (Date.now() < root._bokeh_timeout) {\n",
       "      setTimeout(display_loaded, 100)\n",
       "    }\n",
       "  }\n",
       "\n",
       "\n",
       "  function run_callbacks() {\n",
       "    try {\n",
       "      root._bokeh_onload_callbacks.forEach(function(callback) { callback() });\n",
       "    }\n",
       "    finally {\n",
       "      delete root._bokeh_onload_callbacks\n",
       "    }\n",
       "    console.info(\"Bokeh: all callbacks have finished\");\n",
       "  }\n",
       "\n",
       "  function load_libs(js_urls, callback) {\n",
       "    root._bokeh_onload_callbacks.push(callback);\n",
       "    if (root._bokeh_is_loading > 0) {\n",
       "      console.log(\"Bokeh: BokehJS is being loaded, scheduling callback at\", now());\n",
       "      return null;\n",
       "    }\n",
       "    if (js_urls == null || js_urls.length === 0) {\n",
       "      run_callbacks();\n",
       "      return null;\n",
       "    }\n",
       "    console.log(\"Bokeh: BokehJS not loaded, scheduling load and callback at\", now());\n",
       "    root._bokeh_is_loading = js_urls.length;\n",
       "    for (var i = 0; i < js_urls.length; i++) {\n",
       "      var url = js_urls[i];\n",
       "      var s = document.createElement('script');\n",
       "      s.src = url;\n",
       "      s.async = false;\n",
       "      s.onreadystatechange = s.onload = function() {\n",
       "        root._bokeh_is_loading--;\n",
       "        if (root._bokeh_is_loading === 0) {\n",
       "          console.log(\"Bokeh: all BokehJS libraries loaded\");\n",
       "          run_callbacks()\n",
       "        }\n",
       "      };\n",
       "      s.onerror = function() {\n",
       "        console.warn(\"failed to load library \" + url);\n",
       "      };\n",
       "      console.log(\"Bokeh: injecting script tag for BokehJS library: \", url);\n",
       "      document.getElementsByTagName(\"head\")[0].appendChild(s);\n",
       "    }\n",
       "  };var element = document.getElementById(\"1002\");\n",
       "  if (element == null) {\n",
       "    console.log(\"Bokeh: ERROR: autoload.js configured with elementid '1002' but no matching script tag was found. \")\n",
       "    return false;\n",
       "  }\n",
       "\n",
       "  var js_urls = [\"https://cdn.pydata.org/bokeh/release/bokeh-1.0.1.min.js\", \"https://cdn.pydata.org/bokeh/release/bokeh-widgets-1.0.1.min.js\", \"https://cdn.pydata.org/bokeh/release/bokeh-tables-1.0.1.min.js\", \"https://cdn.pydata.org/bokeh/release/bokeh-gl-1.0.1.min.js\"];\n",
       "\n",
       "  var inline_js = [\n",
       "    function(Bokeh) {\n",
       "      Bokeh.set_log_level(\"info\");\n",
       "    },\n",
       "    \n",
       "    function(Bokeh) {\n",
       "      \n",
       "    },\n",
       "    function(Bokeh) {\n",
       "      console.log(\"Bokeh: injecting CSS: https://cdn.pydata.org/bokeh/release/bokeh-1.0.1.min.css\");\n",
       "      Bokeh.embed.inject_css(\"https://cdn.pydata.org/bokeh/release/bokeh-1.0.1.min.css\");\n",
       "      console.log(\"Bokeh: injecting CSS: https://cdn.pydata.org/bokeh/release/bokeh-widgets-1.0.1.min.css\");\n",
       "      Bokeh.embed.inject_css(\"https://cdn.pydata.org/bokeh/release/bokeh-widgets-1.0.1.min.css\");\n",
       "      console.log(\"Bokeh: injecting CSS: https://cdn.pydata.org/bokeh/release/bokeh-tables-1.0.1.min.css\");\n",
       "      Bokeh.embed.inject_css(\"https://cdn.pydata.org/bokeh/release/bokeh-tables-1.0.1.min.css\");\n",
       "    }\n",
       "  ];\n",
       "\n",
       "  function run_inline_js() {\n",
       "    \n",
       "    if ((root.Bokeh !== undefined) || (force === true)) {\n",
       "      for (var i = 0; i < inline_js.length; i++) {\n",
       "        inline_js[i].call(root, root.Bokeh);\n",
       "      }if (force === true) {\n",
       "        display_loaded();\n",
       "      }} else if (Date.now() < root._bokeh_timeout) {\n",
       "      setTimeout(run_inline_js, 100);\n",
       "    } else if (!root._bokeh_failed_load) {\n",
       "      console.log(\"Bokeh: BokehJS failed to load within specified timeout.\");\n",
       "      root._bokeh_failed_load = true;\n",
       "    } else if (force !== true) {\n",
       "      var cell = $(document.getElementById(\"1002\")).parents('.cell').data().cell;\n",
       "      cell.output_area.append_execute_result(NB_LOAD_WARNING)\n",
       "    }\n",
       "\n",
       "  }\n",
       "\n",
       "  if (root._bokeh_is_loading === 0) {\n",
       "    console.log(\"Bokeh: BokehJS loaded, going straight to plotting\");\n",
       "    run_inline_js();\n",
       "  } else {\n",
       "    load_libs(js_urls, function() {\n",
       "      console.log(\"Bokeh: BokehJS plotting callback run at\", now());\n",
       "      run_inline_js();\n",
       "    });\n",
       "  }\n",
       "}(window));"
      ],
      "application/vnd.bokehjs_load.v0+json": "\n(function(root) {\n  function now() {\n    return new Date();\n  }\n\n  var force = true;\n\n  if (typeof (root._bokeh_onload_callbacks) === \"undefined\" || force === true) {\n    root._bokeh_onload_callbacks = [];\n    root._bokeh_is_loading = undefined;\n  }\n\n  \n\n  \n  if (typeof (root._bokeh_timeout) === \"undefined\" || force === true) {\n    root._bokeh_timeout = Date.now() + 5000;\n    root._bokeh_failed_load = false;\n  }\n\n  var NB_LOAD_WARNING = {'data': {'text/html':\n     \"<div style='background-color: #fdd'>\\n\"+\n     \"<p>\\n\"+\n     \"BokehJS does not appear to have successfully loaded. If loading BokehJS from CDN, this \\n\"+\n     \"may be due to a slow or bad network connection. Possible fixes:\\n\"+\n     \"</p>\\n\"+\n     \"<ul>\\n\"+\n     \"<li>re-rerun `output_notebook()` to attempt to load from CDN again, or</li>\\n\"+\n     \"<li>use INLINE resources instead, as so:</li>\\n\"+\n     \"</ul>\\n\"+\n     \"<code>\\n\"+\n     \"from bokeh.resources import INLINE\\n\"+\n     \"output_notebook(resources=INLINE)\\n\"+\n     \"</code>\\n\"+\n     \"</div>\"}};\n\n  function display_loaded() {\n    var el = document.getElementById(\"1002\");\n    if (el != null) {\n      el.textContent = \"BokehJS is loading...\";\n    }\n    if (root.Bokeh !== undefined) {\n      if (el != null) {\n        el.textContent = \"BokehJS \" + root.Bokeh.version + \" successfully loaded.\";\n      }\n    } else if (Date.now() < root._bokeh_timeout) {\n      setTimeout(display_loaded, 100)\n    }\n  }\n\n\n  function run_callbacks() {\n    try {\n      root._bokeh_onload_callbacks.forEach(function(callback) { callback() });\n    }\n    finally {\n      delete root._bokeh_onload_callbacks\n    }\n    console.info(\"Bokeh: all callbacks have finished\");\n  }\n\n  function load_libs(js_urls, callback) {\n    root._bokeh_onload_callbacks.push(callback);\n    if (root._bokeh_is_loading > 0) {\n      console.log(\"Bokeh: BokehJS is being loaded, scheduling callback at\", now());\n      return null;\n    }\n    if (js_urls == null || js_urls.length === 0) {\n      run_callbacks();\n      return null;\n    }\n    console.log(\"Bokeh: BokehJS not loaded, scheduling load and callback at\", now());\n    root._bokeh_is_loading = js_urls.length;\n    for (var i = 0; i < js_urls.length; i++) {\n      var url = js_urls[i];\n      var s = document.createElement('script');\n      s.src = url;\n      s.async = false;\n      s.onreadystatechange = s.onload = function() {\n        root._bokeh_is_loading--;\n        if (root._bokeh_is_loading === 0) {\n          console.log(\"Bokeh: all BokehJS libraries loaded\");\n          run_callbacks()\n        }\n      };\n      s.onerror = function() {\n        console.warn(\"failed to load library \" + url);\n      };\n      console.log(\"Bokeh: injecting script tag for BokehJS library: \", url);\n      document.getElementsByTagName(\"head\")[0].appendChild(s);\n    }\n  };var element = document.getElementById(\"1002\");\n  if (element == null) {\n    console.log(\"Bokeh: ERROR: autoload.js configured with elementid '1002' but no matching script tag was found. \")\n    return false;\n  }\n\n  var js_urls = [\"https://cdn.pydata.org/bokeh/release/bokeh-1.0.1.min.js\", \"https://cdn.pydata.org/bokeh/release/bokeh-widgets-1.0.1.min.js\", \"https://cdn.pydata.org/bokeh/release/bokeh-tables-1.0.1.min.js\", \"https://cdn.pydata.org/bokeh/release/bokeh-gl-1.0.1.min.js\"];\n\n  var inline_js = [\n    function(Bokeh) {\n      Bokeh.set_log_level(\"info\");\n    },\n    \n    function(Bokeh) {\n      \n    },\n    function(Bokeh) {\n      console.log(\"Bokeh: injecting CSS: https://cdn.pydata.org/bokeh/release/bokeh-1.0.1.min.css\");\n      Bokeh.embed.inject_css(\"https://cdn.pydata.org/bokeh/release/bokeh-1.0.1.min.css\");\n      console.log(\"Bokeh: injecting CSS: https://cdn.pydata.org/bokeh/release/bokeh-widgets-1.0.1.min.css\");\n      Bokeh.embed.inject_css(\"https://cdn.pydata.org/bokeh/release/bokeh-widgets-1.0.1.min.css\");\n      console.log(\"Bokeh: injecting CSS: https://cdn.pydata.org/bokeh/release/bokeh-tables-1.0.1.min.css\");\n      Bokeh.embed.inject_css(\"https://cdn.pydata.org/bokeh/release/bokeh-tables-1.0.1.min.css\");\n    }\n  ];\n\n  function run_inline_js() {\n    \n    if ((root.Bokeh !== undefined) || (force === true)) {\n      for (var i = 0; i < inline_js.length; i++) {\n        inline_js[i].call(root, root.Bokeh);\n      }if (force === true) {\n        display_loaded();\n      }} else if (Date.now() < root._bokeh_timeout) {\n      setTimeout(run_inline_js, 100);\n    } else if (!root._bokeh_failed_load) {\n      console.log(\"Bokeh: BokehJS failed to load within specified timeout.\");\n      root._bokeh_failed_load = true;\n    } else if (force !== true) {\n      var cell = $(document.getElementById(\"1002\")).parents('.cell').data().cell;\n      cell.output_area.append_execute_result(NB_LOAD_WARNING)\n    }\n\n  }\n\n  if (root._bokeh_is_loading === 0) {\n    console.log(\"Bokeh: BokehJS loaded, going straight to plotting\");\n    run_inline_js();\n  } else {\n    load_libs(js_urls, function() {\n      console.log(\"Bokeh: BokehJS plotting callback run at\", now());\n      run_inline_js();\n    });\n  }\n}(window));"
     },
     "metadata": {},
     "output_type": "display_data"
    }
   ],
   "source": [
    "#Import the other Bokeh objects, etc.\n",
    "from bokeh.io import output_notebook, show\n",
    "from bokeh.plotting import figure\n",
    "output_notebook()"
   ]
  },
  {
   "cell_type": "code",
   "execution_count": 5,
   "metadata": {},
   "outputs": [],
   "source": [
    "#Create a styling dictionary for our plot\n",
    "PLOT_OPS = {'height':200,\n",
    "            'x_axis_type':'log',\n",
    "            'x_range':(100,100000),\n",
    "            'y_range':(0,100)}"
   ]
  },
  {
   "cell_type": "code",
   "execution_count": 6,
   "metadata": {},
   "outputs": [
    {
     "data": {
      "text/html": [
       "\n",
       "\n",
       "\n",
       "\n",
       "\n",
       "\n",
       "  <div class=\"bk-root\" id=\"9c44c1b8-296f-4793-9b34-416fb8946d4c\"></div>\n"
      ]
     },
     "metadata": {},
     "output_type": "display_data"
    },
    {
     "data": {
      "application/javascript": [
       "(function(root) {\n",
       "  function embed_document(root) {\n",
       "    \n",
       "  var docs_json = {\"0adbb6ee-9330-4bfd-bad8-e4ac6095ad04\":{\"roots\":{\"references\":[{\"attributes\":{\"below\":[{\"id\":\"1012\",\"type\":\"LogAxis\"}],\"left\":[{\"id\":\"1017\",\"type\":\"LinearAxis\"}],\"plot_height\":200,\"renderers\":[{\"id\":\"1012\",\"type\":\"LogAxis\"},{\"id\":\"1016\",\"type\":\"Grid\"},{\"id\":\"1017\",\"type\":\"LinearAxis\"},{\"id\":\"1021\",\"type\":\"Grid\"},{\"id\":\"1030\",\"type\":\"BoxAnnotation\"},{\"id\":\"1041\",\"type\":\"GlyphRenderer\"}],\"title\":{\"id\":\"1044\",\"type\":\"Title\"},\"toolbar\":{\"id\":\"1028\",\"type\":\"Toolbar\"},\"x_range\":{\"id\":\"1004\",\"type\":\"Range1d\"},\"x_scale\":{\"id\":\"1008\",\"type\":\"LogScale\"},\"y_range\":{\"id\":\"1006\",\"type\":\"Range1d\"},\"y_scale\":{\"id\":\"1010\",\"type\":\"LinearScale\"}},\"id\":\"1003\",\"subtype\":\"Figure\",\"type\":\"Plot\"},{\"attributes\":{},\"id\":\"1008\",\"type\":\"LogScale\"},{\"attributes\":{\"bottom_units\":\"screen\",\"fill_alpha\":{\"value\":0.5},\"fill_color\":{\"value\":\"lightgrey\"},\"left_units\":\"screen\",\"level\":\"overlay\",\"line_alpha\":{\"value\":1.0},\"line_color\":{\"value\":\"black\"},\"line_dash\":[4,4],\"line_width\":{\"value\":2},\"plot\":null,\"render_mode\":\"css\",\"right_units\":\"screen\",\"top_units\":\"screen\"},\"id\":\"1030\",\"type\":\"BoxAnnotation\"},{\"attributes\":{},\"id\":\"1010\",\"type\":\"LinearScale\"},{\"attributes\":{\"formatter\":{\"id\":\"1046\",\"type\":\"LogTickFormatter\"},\"plot\":{\"id\":\"1003\",\"subtype\":\"Figure\",\"type\":\"Plot\"},\"ticker\":{\"id\":\"1013\",\"type\":\"LogTicker\"}},\"id\":\"1012\",\"type\":\"LogAxis\"},{\"attributes\":{\"plot\":null,\"text\":\"\"},\"id\":\"1044\",\"type\":\"Title\"},{\"attributes\":{\"num_minor_ticks\":10},\"id\":\"1013\",\"type\":\"LogTicker\"},{\"attributes\":{\"plot\":{\"id\":\"1003\",\"subtype\":\"Figure\",\"type\":\"Plot\"},\"ticker\":{\"id\":\"1013\",\"type\":\"LogTicker\"}},\"id\":\"1016\",\"type\":\"Grid\"},{\"attributes\":{\"formatter\":{\"id\":\"1048\",\"type\":\"BasicTickFormatter\"},\"plot\":{\"id\":\"1003\",\"subtype\":\"Figure\",\"type\":\"Plot\"},\"ticker\":{\"id\":\"1018\",\"type\":\"BasicTicker\"}},\"id\":\"1017\",\"type\":\"LinearAxis\"},{\"attributes\":{\"fill_alpha\":{\"value\":0.1},\"fill_color\":{\"value\":\"#1f77b4\"},\"line_alpha\":{\"value\":0.1},\"line_color\":{\"value\":\"#1f77b4\"},\"x\":{\"field\":\"income\"},\"y\":{\"field\":\"life\"}},\"id\":\"1040\",\"type\":\"Circle\"},{\"attributes\":{},\"id\":\"1018\",\"type\":\"BasicTicker\"},{\"attributes\":{\"fill_color\":{\"value\":\"#1f77b4\"},\"line_color\":{\"value\":\"#1f77b4\"},\"x\":{\"field\":\"income\"},\"y\":{\"field\":\"life\"}},\"id\":\"1039\",\"type\":\"Circle\"},{\"attributes\":{\"data_source\":{\"id\":\"1037\",\"type\":\"ColumnDataSource\"},\"glyph\":{\"id\":\"1039\",\"type\":\"Circle\"},\"hover_glyph\":null,\"muted_glyph\":null,\"nonselection_glyph\":{\"id\":\"1040\",\"type\":\"Circle\"},\"selection_glyph\":null,\"view\":{\"id\":\"1042\",\"type\":\"CDSView\"}},\"id\":\"1041\",\"type\":\"GlyphRenderer\"},{\"attributes\":{\"source\":{\"id\":\"1037\",\"type\":\"ColumnDataSource\"}},\"id\":\"1042\",\"type\":\"CDSView\"},{\"attributes\":{\"dimension\":1,\"plot\":{\"id\":\"1003\",\"subtype\":\"Figure\",\"type\":\"Plot\"},\"ticker\":{\"id\":\"1018\",\"type\":\"BasicTicker\"}},\"id\":\"1021\",\"type\":\"Grid\"},{\"attributes\":{\"ticker\":null},\"id\":\"1046\",\"type\":\"LogTickFormatter\"},{\"attributes\":{\"active_drag\":\"auto\",\"active_inspect\":\"auto\",\"active_multi\":null,\"active_scroll\":\"auto\",\"active_tap\":\"auto\",\"tools\":[{\"id\":\"1022\",\"type\":\"PanTool\"},{\"id\":\"1023\",\"type\":\"WheelZoomTool\"},{\"id\":\"1024\",\"type\":\"BoxZoomTool\"},{\"id\":\"1025\",\"type\":\"SaveTool\"},{\"id\":\"1026\",\"type\":\"ResetTool\"},{\"id\":\"1027\",\"type\":\"HelpTool\"}]},\"id\":\"1028\",\"type\":\"Toolbar\"},{\"attributes\":{\"callback\":null,\"data\":{\"Country\":[\"Afghanistan\",\"Albania\",\"Algeria\",\"Andorra\",\"Angola\",\"Antigua and Barbuda\",\"Argentina\",\"Armenia\",\"Australia\",\"Austria\",\"Azerbaijan\",\"Bahamas\",\"Bahrain\",\"Bangladesh\",\"Barbados\",\"Belarus\",\"Belgium\",\"Belize\",\"Benin\",\"Bhutan\",\"Bolivia\",\"Bosnia and Herzegovina\",\"Botswana\",\"Brazil\",\"Brunei\",\"Bulgaria\",\"Burkina Faso\",\"Burundi\",\"Cambodia\",\"Cameroon\",\"Canada\",\"Cape Verde\",\"Chad\",\"Chile\",\"China\",\"Colombia\",\"Comoros\",\"Congo, Dem. Rep.\",\"Congo, Rep.\",\"Costa Rica\",\"Cote d'Ivoire\",\"Croatia\",\"Cuba\",\"Cyprus\",\"Denmark\",\"Djibouti\",\"Dominica\",\"Ecuador\",\"Egypt\",\"El Salvador\",\"Equatorial Guinea\",\"Eritrea\",\"Estonia\",\"Ethiopia\",\"Fiji\",\"Finland\",\"France\",\"Gabon\",\"Gambia\",\"Georgia\",\"Germany\",\"Ghana\",\"Greece\",\"Grenada\",\"Guatemala\",\"Guinea\",\"Guinea-Bissau\",\"Guyana\",\"Haiti\",\"Honduras\",\"Hungary\",\"Iceland\",\"India\",\"Indonesia\",\"Iran\",\"Iraq\",\"Ireland\",\"Israel\",\"Italy\",\"Jamaica\",\"Japan\",\"Jordan\",\"Kazakhstan\",\"Kenya\",\"Kiribati\",\"Kuwait\",\"Latvia\",\"Lebanon\",\"Lesotho\",\"Liberia\",\"Libya\",\"Lithuania\",\"Luxembourg\",\"Macedonia, FYR\",\"Madagascar\",\"Malawi\",\"Malaysia\",\"Maldives\",\"Mali\",\"Malta\",\"Marshall Islands\",\"Mauritania\",\"Mauritius\",\"Mexico\",\"Micronesia, Fed. Sts.\",\"Moldova\",\"Mongolia\",\"Montenegro\",\"Morocco\",\"Mozambique\",\"Myanmar\",\"Namibia\",\"Nepal\",\"Netherlands\",\"New Zealand\",\"Nicaragua\",\"Niger\",\"Nigeria\",\"Norway\",\"Oman\",\"Pakistan\",\"Panama\",\"Papua New Guinea\",\"Paraguay\",\"Peru\",\"Philippines\",\"Poland\",\"Portugal\",\"Qatar\",\"Romania\",\"Russia\",\"Rwanda\",\"Samoa\",\"Sao Tome and Principe\",\"Saudi Arabia\",\"Senegal\",\"Serbia\",\"Seychelles\",\"Sierra Leone\",\"Singapore\",\"Slovak Republic\",\"Slovenia\",\"Solomon Islands\",\"Somalia\",\"South Africa\",\"South Sudan\",\"Spain\",\"Sri Lanka\",\"Sudan\",\"Suriname\",\"Swaziland\",\"Sweden\",\"Switzerland\",\"Syria\",\"Taiwan\",\"Tajikistan\",\"Tanzania\",\"Thailand\",\"Timor-Leste\",\"Togo\",\"Tonga\",\"Trinidad and Tobago\",\"Tunisia\",\"Turkey\",\"Turkmenistan\",\"Uganda\",\"Ukraine\",\"United Arab Emirates\",\"United Kingdom\",\"United States\",\"Uruguay\",\"Uzbekistan\",\"Vanuatu\",\"Venezuela\",\"Vietnam\",\"West Bank and Gaza\",\"Zambia\",\"Zimbabwe\"],\"Year\":[2010,2010,2010,2010,2010,2010,2010,2010,2010,2010,2010,2010,2010,2010,2010,2010,2010,2010,2010,2010,2010,2010,2010,2010,2010,2010,2010,2010,2010,2010,2010,2010,2010,2010,2010,2010,2010,2010,2010,2010,2010,2010,2010,2010,2010,2010,2010,2010,2010,2010,2010,2010,2010,2010,2010,2010,2010,2010,2010,2010,2010,2010,2010,2010,2010,2010,2010,2010,2010,2010,2010,2010,2010,2010,2010,2010,2010,2010,2010,2010,2010,2010,2010,2010,2010,2010,2010,2010,2010,2010,2010,2010,2010,2010,2010,2010,2010,2010,2010,2010,2010,2010,2010,2010,2010,2010,2010,2010,2010,2010,2010,2010,2010,2010,2010,2010,2010,2010,2010,2010,2010,2010,2010,2010,2010,2010,2010,2010,2010,2010,2010,2010,2010,2010,2010,2010,2010,2010,2010,2010,2010,2010,2010,2010,2010,2010,2010,2010,2010,2010,2010,2010,2010,2010,2010,2010,2010,2010,2010,2010,2010,2010,2010,2010,2010,2010,2010,2010,2010,2010,2010,2010,2010,2010,2010,2010,2010,2010],\"income\":{\"__ndarray__\":\"AAAAAACUmUAAAAAAAE/CQAAAAAAAZ8hAAAAAAMAI40AAAAAAAIe7QAAAAADAFdRAAAAAAIDKzkAAAAAAAGy5QAAAAABALuRAAAAAAKDt5EAAAAAAACfPQAAAAADAYNZAAAAAACDN40AAAAAAADajQAAAAACA4M1AAAAAAICrzkAAAAAAgOfjQAAAAACACMBAAAAAAACUmUAAAAAAAHS5QAAAAAAAn7RAAAAAAIDcwUAAAAAAAKXKQAAAAAAAosxAAAAAAMA+8UAAAAAAABPNQAAAAAAAXJZAAAAAAACohkAAAAAAAKKjQAAAAAAAFqRAAAAAAKDo40AAAAAAAHW3QAAAAAAAhJ5AAAAAAADB0kAAAAAAAGvCQAAAAACADMVAAAAAAABIlkAAAAAAAMCDQAAAAAAAnbVAAAAAAAARyEAAAAAAAJimQAAAAABAhdNAAAAAAEAL0kAAAAAAYHrgQAAAAACg/uRAAAAAAADSpEAAAAAAgEPEQAAAAACAL8JAAAAAAIC7xEAAAAAAAEW8QAAAAADgz+BAAAAAAADskEAAAAAAgDPVQAAAAAAA5JBAAAAAAAC6u0AAAAAAIEDjQAAAAAAg8eFAAAAAAAA3z0AAAAAAAAyaQAAAAAAAMrdAAAAAAADX40AAAAAAACaoQAAAAACAgdxAAAAAAADVxUAAAAAAAMG6QAAAAAAAhJJAAAAAAABglUAAAAAAAKa1QAAAAAAAuJdAAAAAAACusEAAAAAAgIvVQAAAAAAg8+JAAAAAAADDsUAAAAAAAJnAQAAAAAAAldBAAAAAAAAVyEAAAAAAgGrlQAAAAABA0dxAAAAAACB14UAAAAAAAFnAQAAAAACAzOBAAAAAAAD8xUAAAAAAQCTTQAAAAAAAjqNAAAAAAAAEm0AAAAAAUGbyQAAAAAAAudFAAAAAAIDDz0AAAAAAAHahQAAAAAAAiIVAAAAAAECN3UAAAAAAgEXUQAAAAACwQPZAAAAAAIDVxUAAAAAAALiVQAAAAAAACIdAAAAAAIDr00AAAAAAAM3GQAAAAAAAAJpAAAAAAIBA20AAAAAAAHSrQAAAAAAAxqlAAAAAAIB3zkAAAAAAADLOQAAAAAAAEqpAAAAAAACqrkAAAAAAABy+QAAAAAAArMpAAAAAAABCuUAAAAAAABCNQAAAAAAACqhAAAAAAIB4wEAAAAAAADyfQAAAAABgYuZAAAAAAAAU30AAAAAAAPyuQAAAAAAASIpAAAAAAAD6s0AAAAAAQLzuQAAAAACABOhAAAAAAAB8sEAAAAAAgCTNQAAAAAAA5qBAAAAAAABgu0AAAAAAgF3DQAAAAAAA7rVAAAAAAADU1EAAAAAAQMDaQAAAAAAAP/9AAAAAAAB+0EAAAAAAACjVQAAAAAAAuJNAAAAAAAAdtUAAAAAAAG6lQAAAAADAQ+ZAAAAAAAAMoUAAAAAAgAbIQAAAAAAA49NAAAAAAAAMlUAAAAAAgJfxQAAAAACA3ddAAAAAAEC220AAAAAAAOybQAAAAAAAMINAAAAAAICbx0AAAAAAAPytQAAAAABAHOBAAAAAAACUvUAAAAAAAKSpQAAAAACA+stAAAAAAADmtkAAAAAAQPLkQAAAAADgdOpAAAAAAADLuUAAAAAAoBXjQAAAAAAAfKBAAAAAAAC+oEAAAAAAAAvJQAAAAAAAxJtAAAAAAAB4k0AAAAAAAFGzQAAAAABAotxAAAAAAIBVxEAAAAAAgEjQQAAAAAAAmMNAAAAAAACsl0AAAAAAAKS+QAAAAACAqOtAAAAAAACy4UAAAAAAoBvoQAAAAADAsdBAAAAAAABZsEAAAAAAAAinQAAAAAAAJtBAAAAAAACGsUAAAAAAAEOwQAAAAAAA9qpAAAAAAAAwl0A=\",\"dtype\":\"float64\",\"shape\":[178]},\"life\":{\"__ndarray__\":\"ZmZmZmZmS0DNzMzMzMxSQJqZmZmZ+VJAzczMzMzsVEAzMzMzM7NNQM3MzMzMzFJAMzMzMzPzUkCamZmZmTlSQM3MzMzMbFRAAAAAAAAgVECamZmZmdlRQJqZmZmZGVJAzczMzMyMU0BmZmZmZiZRQJqZmZmZ2VJAzczMzMyMUUAzMzMzM/NTQGZmZmZmhlFAAAAAAAAAUEAzMzMzMxNRQDMzMzMz01FAAAAAAAAgU0AAAAAAACBQQM3MzMzMjFJAAAAAAACgU0BmZmZmZmZSQJqZmZmZWU5AmpmZmZlZTUCamZmZmblQQAAAAAAAwExAZmZmZmZGVECamZmZmVlSQJqZmZmZGUxAMzMzMzOzU0CamZmZmflSQDMzMzMz01JAAAAAAACAT0BmZmZmZiZMQGZmZmZmJk5AZmZmZmbmU0CamZmZmZlMQM3MzMzMTFNAAAAAAACAU0BmZmZmZmZUQDMzMzMz01NAZmZmZmbmTkCamZmZmZlSQM3MzMzMjFJAMzMzMzOTUUAzMzMzM3NSQJqZmZmZmUxAAAAAAACATkAzMzMzM/NSQAAAAAAAgE5AmpmZmZl5UEAAAAAAAABUQM3MzMzMTFRAAAAAAADATEAAAAAAAIBPQJqZmZmZGVJAzczMzMwMVEAAAAAAAMBPQGZmZmZm5lNAzczMzMzMUUAzMzMzM7NRQM3MzMzMjE1AAAAAAAAASkBmZmZmZqZPQAAAAAAAgEJAMzMzMzPTUUDNzMzMzKxSQAAAAAAAoFRAZmZmZmZGUEAzMzMzM3NRQJqZmZmZeVNAMzMzMzMTUUCamZmZmflTQAAAAAAAYFRAmpmZmZl5VEAAAAAAAOBSQAAAAAAAwFRAZmZmZmZmU0BmZmZmZsZQQM3MzMzMjE9AAAAAAADATkBmZmZmZsZTQAAAAAAAgFJAAAAAAACAU0AzMzMzM7NHQJqZmZmZ2U5AZmZmZmbmUkCamZmZmXlSQAAAAAAAQFRAMzMzMzPzUkBmZmZmZuZPQGZmZmZm5kpAMzMzMzOTUkCamZmZmblTQAAAAAAAQExAMzMzMzNzVEBmZmZmZgZQQM3MzMzMDFBAmpmZmZkZUkDNzMzMzOxSQJqZmZmZmVBAzczMzMyMUUBmZmZmZuZPQM3MzMzMzFJAzczMzMxsUkCamZmZmdlLQAAAAAAAgFBAAAAAAADATUAAAAAAAGBRQAAAAAAAIFRAAAAAAAAgVEAzMzMzM/NSQJqZmZmZWU5AZmZmZmZmTUCamZmZmTlUQAAAAAAAwFJAzczMzMwsUEDNzMzMzExTQJqZmZmZWU1AmpmZmZlZUkAzMzMzMzNTQM3MzMzMbFFAZmZmZmYGU0AAAAAAAOBTQDMzMzMzU1RAAAAAAACAUkDNzMzMzCxRQJqZmZmZ2U9AZmZmZmbmUUBmZmZmZuZQQM3MzMzMbFNAAAAAAABAUEAAAAAAAEBTQDMzMzMzM1JAAAAAAABATEAAAAAAAGBUQAAAAAAA4FJAAAAAAADgU0AAAAAAAIBPQDMzMzMzc0xAmpmZmZlZTEAAAAAAAEBMQGZmZmZmZlRAzczMzMzsUkAAAAAAAABRQAAAAAAAYFFAZmZmZmbmR0AAAAAAAGBUQDMzMzMzk1RAzczMzMwsU0AzMzMzM7NTQJqZmZmZeVFAMzMzMzNzTkBmZmZmZqZSQDMzMzMzc1FAAAAAAACATkBmZmZmZoZRQGZmZmZmxlFAMzMzMzMzU0DNzMzMzOxSQGZmZmZmplBAMzMzMzMzTUCamZmZmZlRQM3MzMzMDFNAAAAAAAAAVEAAAAAAAKBTQAAAAAAAIFNAZmZmZmZGUUAAAAAAAABQQM3MzMzMrFJAMzMzMzPzUkAAAAAAAIBSQM3MzMzMDEtAMzMzMzMzSUA=\",\"dtype\":\"float64\",\"shape\":[178]},\"population\":{\"__ndarray__\":\"AAAA8LWqekEAAACAvSNGQQAAAPjxLoFBAAAAADCc9EAAAAAgpzx0QQAAAAAQTPVAAAAA2Baog0EAAAAAFJxGQQAAAPDaInVBAAAAQKYBYEEAAACgTlthQQAAAAD4BRZBAAAAAAc/M0EAAAAS+hKiQQAAAAA4EBFBAAAAQNMaYkEAAABA59hkQQAAAAAkoRNBAAAAwHQjYkEAAAAA7PolQQAAAKDk6mJBAAAAAL1CTUEAAAAAVz8/QQAAAIA5radBAAAAAFgBGEEAAABAsEFcQQAAAEDY0G1BAAAAoK8LYkEAAABAeGVrQQAAAKAEo3NBAAAA6MpFgEEAAAAALO4dQQAAAIDHsGZBAAAAgBA6cEEAAEDIY/vTQQAAAKg85YVBAAAAAI5SJUEAAADAKHGPQQAAAACPBU9BAAAAQL5WUUEAAACw9zJzQQAAAEBCd1BBAAAAoIyRZUEAAAAARdcwQQAAAMDbLFVBAAAAAKRaKUEAAAAA8F/xQAAAAIBUfGxBAAAAiGKPk0EAAACAyAhXQQAAAAAMPSZBAAAAAMDjUUEAAAAAeVM0QQAAAFhZ4JRBAAAAAGA+KkEAAABA43lUQQAAAICvBY5BAAAAADCHN0EAAAAAStU5QQAAAACFNlBBAAAArGEtk0EAAABg8jB3QQAAAKDEUWVBAAAAAFCO+UAAAACgfBlsQQAAAMAmAWVBAAAAAJTvOEEAAAAApP0mQQAAACCgEmNBAAAAwACgXEEAAAAg9RljQQAAAABoaRNBAAAATtVX0kEAAACMcs2sQQAAAPQQtJFBAAAAwCtwfUEAAACAHZ1RQQAAAAB0TlxBAAAAOO1pjEEAAACAAupEQQAAAOj7Wp5BAAAAACbdWEEAAAAALBxvQQAAAMjjOoNBAAAAAIAP+UAAAACAiFdHQQAAAAAX5j9BAAAAAIGLUEEAAAAA2q0+QQAAAABzMk5BAAAAQNjmV0EAAACASdNHQQAAAADE/x5BAAAAAGt4P0EAAADAXhp0QQAAAADUK2xBAAAAwBzRekEAAAAAfEwUQQAAAMDm7WxBAAAAAIAmGUEAAAAAgJnpQAAAAAB0ZktBAAAAAM8KM0EAAAAY10ecQQAAAAAwTPlAAAAAgIEpT0EAAACAKLJEQQAAAAAA+yJBAAAAsM2efkEAAAAQ2zF3QQAAAKgQq4hBAAAAgHW8QEEAAABggKF5QQAAAGDiuG9BAAAAwKCqUEEAAACAPuNVQQAAAMASE29BAAAAzEEBo0EAAADAnKhSQQAAAICBdUZBAAAAHFRFpEEAAAAATZ9LQQAAAEAHH1pBAAAAQFWwV0EAAADATAN8QQAAANikLpZBAAAA0NJkgkEAAACgYDBkQQAAAACJ8DpBAAAAYMVbc0EAAACm1hChQQAAAKA0omNBAAAAAGi1BkEAAAAAANwEQQAAAHARynpBAAAA4I62aEEAAADAXEdhQQAAAACQufZAAAAAgIcIVkEAAABA7F9TQQAAAAAsoFRBAAAAAIBRP0EAAAAAwg4gQQAAAECSRmJBAAAA0HadiEEAAABgYy5jQQAAAKCoOIZBAAAAAPZDc0EAAAAojjiBQQAAAAD0nx9BAAAAALw0MkEAAAAgM+VhQQAAAIAB311BAAAAoL3Cc0EAAACAVvV1QQAAAAAA7FxBAAAAaFTEhUEAAADAHc2PQQAAAABiITBBAAAAwBBhWEEAAAAAsGD5QAAAAADfQzRBAAAAQOtKZEEAAABAej2RQQAAAMDSO1NBAAAAkB6df0EAAABINMSFQQAAAEA7xl9BAAAAYNjnjUEAAADKVXiyQQAAAACnvklBAAAAQGd0ekEAAAAAWNgMQQAAABAKp3tBAAAAPO4QlUEAAAAA1gpPQQAAAOCfi2pBAAAAIDGnakE=\",\"dtype\":\"float64\",\"shape\":[178]},\"region\":[\"South Asia\",\"Europe & Central Asia\",\"Middle East & North Africa\",\"Europe & Central Asia\",\"Sub-Saharan Africa\",\"America\",\"America\",\"Europe & Central Asia\",\"East Asia & Pacific\",\"Europe & Central Asia\",\"Europe & Central Asia\",\"America\",\"Middle East & North Africa\",\"South Asia\",\"America\",\"Europe & Central Asia\",\"Europe & Central Asia\",\"America\",\"Sub-Saharan Africa\",\"South Asia\",\"America\",\"Europe & Central Asia\",\"Sub-Saharan Africa\",\"America\",\"East Asia & Pacific\",\"Europe & Central Asia\",\"Sub-Saharan Africa\",\"Sub-Saharan Africa\",\"East Asia & Pacific\",\"Sub-Saharan Africa\",\"America\",\"Sub-Saharan Africa\",\"Sub-Saharan Africa\",\"America\",\"East Asia & Pacific\",\"America\",\"Sub-Saharan Africa\",\"Sub-Saharan Africa\",\"Sub-Saharan Africa\",\"America\",\"Sub-Saharan Africa\",\"Europe & Central Asia\",\"America\",\"Europe & Central Asia\",\"Europe & Central Asia\",\"Middle East & North Africa\",\"America\",\"America\",\"Middle East & North Africa\",\"America\",\"Sub-Saharan Africa\",\"Sub-Saharan Africa\",\"Europe & Central Asia\",\"Sub-Saharan Africa\",\"East Asia & Pacific\",\"Europe & Central Asia\",\"Europe & Central Asia\",\"Sub-Saharan Africa\",\"Sub-Saharan Africa\",\"Europe & Central Asia\",\"Europe & Central Asia\",\"Sub-Saharan Africa\",\"Europe & Central Asia\",\"America\",\"America\",\"Sub-Saharan Africa\",\"Sub-Saharan Africa\",\"America\",\"America\",\"America\",\"Europe & Central Asia\",\"Europe & Central Asia\",\"South Asia\",\"East Asia & Pacific\",\"Middle East & North Africa\",\"Middle East & North Africa\",\"Europe & Central Asia\",\"Middle East & North Africa\",\"Europe & Central Asia\",\"America\",\"East Asia & Pacific\",\"Middle East & North Africa\",\"Europe & Central Asia\",\"Sub-Saharan Africa\",\"East Asia & Pacific\",\"Middle East & North Africa\",\"Europe & Central Asia\",\"Middle East & North Africa\",\"Sub-Saharan Africa\",\"Sub-Saharan Africa\",\"Middle East & North Africa\",\"Europe & Central Asia\",\"Europe & Central Asia\",\"Europe & Central Asia\",\"Sub-Saharan Africa\",\"Sub-Saharan Africa\",\"East Asia & Pacific\",\"South Asia\",\"Sub-Saharan Africa\",\"Europe & Central Asia\",\"East Asia & Pacific\",\"Sub-Saharan Africa\",\"Sub-Saharan Africa\",\"America\",\"East Asia & Pacific\",\"Europe & Central Asia\",\"East Asia & Pacific\",\"Europe & Central Asia\",\"Middle East & North Africa\",\"Sub-Saharan Africa\",\"East Asia & Pacific\",\"Sub-Saharan Africa\",\"South Asia\",\"Europe & Central Asia\",\"East Asia & Pacific\",\"America\",\"Sub-Saharan Africa\",\"Sub-Saharan Africa\",\"Europe & Central Asia\",\"Middle East & North Africa\",\"South Asia\",\"America\",\"East Asia & Pacific\",\"America\",\"America\",\"East Asia & Pacific\",\"Europe & Central Asia\",\"Europe & Central Asia\",\"Middle East & North Africa\",\"Europe & Central Asia\",\"Europe & Central Asia\",\"Sub-Saharan Africa\",\"East Asia & Pacific\",\"Sub-Saharan Africa\",\"Middle East & North Africa\",\"Sub-Saharan Africa\",\"Europe & Central Asia\",\"Sub-Saharan Africa\",\"Sub-Saharan Africa\",\"East Asia & Pacific\",\"Europe & Central Asia\",\"Europe & Central Asia\",\"East Asia & Pacific\",\"Sub-Saharan Africa\",\"Sub-Saharan Africa\",\"Sub-Saharan Africa\",\"Europe & Central Asia\",\"South Asia\",\"Sub-Saharan Africa\",\"America\",\"Sub-Saharan Africa\",\"Europe & Central Asia\",\"Europe & Central Asia\",\"Middle East & North Africa\",\"East Asia & Pacific\",\"Europe & Central Asia\",\"Sub-Saharan Africa\",\"East Asia & Pacific\",\"East Asia & Pacific\",\"Sub-Saharan Africa\",\"East Asia & Pacific\",\"America\",\"Middle East & North Africa\",\"Europe & Central Asia\",\"Europe & Central Asia\",\"Sub-Saharan Africa\",\"Europe & Central Asia\",\"Middle East & North Africa\",\"Europe & Central Asia\",\"America\",\"America\",\"Europe & Central Asia\",\"East Asia & Pacific\",\"America\",\"East Asia & Pacific\",\"Middle East & North Africa\",\"Sub-Saharan Africa\",\"Sub-Saharan Africa\"]},\"selected\":{\"id\":\"1051\",\"type\":\"Selection\"},\"selection_policy\":{\"id\":\"1050\",\"type\":\"UnionRenderers\"}},\"id\":\"1037\",\"type\":\"ColumnDataSource\"},{\"attributes\":{},\"id\":\"1048\",\"type\":\"BasicTickFormatter\"},{\"attributes\":{},\"id\":\"1050\",\"type\":\"UnionRenderers\"},{\"attributes\":{},\"id\":\"1022\",\"type\":\"PanTool\"},{\"attributes\":{},\"id\":\"1051\",\"type\":\"Selection\"},{\"attributes\":{},\"id\":\"1023\",\"type\":\"WheelZoomTool\"},{\"attributes\":{\"overlay\":{\"id\":\"1030\",\"type\":\"BoxAnnotation\"}},\"id\":\"1024\",\"type\":\"BoxZoomTool\"},{\"attributes\":{},\"id\":\"1025\",\"type\":\"SaveTool\"},{\"attributes\":{\"callback\":null,\"end\":100000,\"start\":100},\"id\":\"1004\",\"type\":\"Range1d\"},{\"attributes\":{},\"id\":\"1026\",\"type\":\"ResetTool\"},{\"attributes\":{\"callback\":null,\"end\":100},\"id\":\"1006\",\"type\":\"Range1d\"},{\"attributes\":{},\"id\":\"1027\",\"type\":\"HelpTool\"}],\"root_ids\":[\"1003\"]},\"title\":\"Bokeh Application\",\"version\":\"1.0.1\"}};\n",
       "  var render_items = [{\"docid\":\"0adbb6ee-9330-4bfd-bad8-e4ac6095ad04\",\"roots\":{\"1003\":\"9c44c1b8-296f-4793-9b34-416fb8946d4c\"}}];\n",
       "  root.Bokeh.embed.embed_items_notebook(docs_json, render_items);\n",
       "\n",
       "  }\n",
       "  if (root.Bokeh !== undefined) {\n",
       "    embed_document(root);\n",
       "  } else {\n",
       "    var attempts = 0;\n",
       "    var timer = setInterval(function(root) {\n",
       "      if (root.Bokeh !== undefined) {\n",
       "        embed_document(root);\n",
       "        clearInterval(timer);\n",
       "      }\n",
       "      attempts++;\n",
       "      if (attempts > 100) {\n",
       "        console.log(\"Bokeh: ERROR: Unable to run BokehJS code because BokehJS library is missing\");\n",
       "        clearInterval(timer);\n",
       "      }\n",
       "    }, 10, root)\n",
       "  }\n",
       "})(window);"
      ],
      "application/vnd.bokehjs_exec.v0+json": ""
     },
     "metadata": {
      "application/vnd.bokehjs_exec.v0+json": {
       "id": "1003"
      }
     },
     "output_type": "display_data"
    }
   ],
   "source": [
    "#Create our figure, with stylings from our PLOT_OPS dictionary\n",
    "p = figure(**PLOT_OPS)\n",
    "#Create our plot, but pull data from the CDS \"source\"\n",
    "p.circle(x='income',\n",
    "         y='life',\n",
    "         source=data.loc[2010])\n",
    "#Show it\n",
    "show(p)"
   ]
  },
  {
   "cell_type": "markdown",
   "metadata": {},
   "source": [
    "What advantage to we gain from this? Well, for one, it facilitates [**plot tools**](https://bokeh.pydata.org/en/latest/docs/user_guide/tools.html). \n",
    "\n",
    "Let's examine the HoverTool, which enables the user to display value for a feature by hovering over that feature..."
   ]
  },
  {
   "cell_type": "code",
   "execution_count": 7,
   "metadata": {},
   "outputs": [],
   "source": [
    "#Import the HoverTool object\n",
    "from bokeh.models import HoverTool"
   ]
  },
  {
   "cell_type": "code",
   "execution_count": 9,
   "metadata": {},
   "outputs": [
    {
     "data": {
      "text/html": [
       "\n",
       "\n",
       "\n",
       "\n",
       "\n",
       "\n",
       "  <div class=\"bk-root\" id=\"4550269b-39ff-4117-be3b-f667438ba402\"></div>\n"
      ]
     },
     "metadata": {},
     "output_type": "display_data"
    },
    {
     "data": {
      "application/javascript": [
       "(function(root) {\n",
       "  function embed_document(root) {\n",
       "    \n",
       "  var docs_json = {\"e8617ac4-d51a-4bc9-9305-f87bee1be88e\":{\"roots\":{\"references\":[{\"attributes\":{\"below\":[{\"id\":\"1209\",\"type\":\"LogAxis\"}],\"left\":[{\"id\":\"1214\",\"type\":\"LinearAxis\"}],\"plot_height\":200,\"renderers\":[{\"id\":\"1209\",\"type\":\"LogAxis\"},{\"id\":\"1213\",\"type\":\"Grid\"},{\"id\":\"1214\",\"type\":\"LinearAxis\"},{\"id\":\"1218\",\"type\":\"Grid\"},{\"id\":\"1224\",\"type\":\"GlyphRenderer\"}],\"title\":{\"id\":\"1244\",\"type\":\"Title\"},\"toolbar\":{\"id\":\"1219\",\"type\":\"Toolbar\"},\"x_range\":{\"id\":\"1201\",\"type\":\"Range1d\"},\"x_scale\":{\"id\":\"1205\",\"type\":\"LogScale\"},\"y_range\":{\"id\":\"1203\",\"type\":\"Range1d\"},\"y_scale\":{\"id\":\"1207\",\"type\":\"LinearScale\"}},\"id\":\"1200\",\"subtype\":\"Figure\",\"type\":\"Plot\"},{\"attributes\":{\"num_minor_ticks\":10},\"id\":\"1210\",\"type\":\"LogTicker\"},{\"attributes\":{\"formatter\":{\"id\":\"1246\",\"type\":\"LogTickFormatter\"},\"plot\":{\"id\":\"1200\",\"subtype\":\"Figure\",\"type\":\"Plot\"},\"ticker\":{\"id\":\"1210\",\"type\":\"LogTicker\"}},\"id\":\"1209\",\"type\":\"LogAxis\"},{\"attributes\":{},\"id\":\"1205\",\"type\":\"LogScale\"},{\"attributes\":{\"dimension\":1,\"plot\":{\"id\":\"1200\",\"subtype\":\"Figure\",\"type\":\"Plot\"},\"ticker\":{\"id\":\"1215\",\"type\":\"BasicTicker\"}},\"id\":\"1218\",\"type\":\"Grid\"},{\"attributes\":{},\"id\":\"1207\",\"type\":\"LinearScale\"},{\"attributes\":{},\"id\":\"1215\",\"type\":\"BasicTicker\"},{\"attributes\":{\"plot\":{\"id\":\"1200\",\"subtype\":\"Figure\",\"type\":\"Plot\"},\"ticker\":{\"id\":\"1210\",\"type\":\"LogTicker\"}},\"id\":\"1213\",\"type\":\"Grid\"},{\"attributes\":{\"active_drag\":\"auto\",\"active_inspect\":\"auto\",\"active_multi\":null,\"active_scroll\":\"auto\",\"active_tap\":\"auto\",\"tools\":[{\"id\":\"1199\",\"type\":\"HoverTool\"}]},\"id\":\"1219\",\"type\":\"Toolbar\"},{\"attributes\":{\"plot\":null,\"text\":\"\"},\"id\":\"1244\",\"type\":\"Title\"},{\"attributes\":{\"callback\":null,\"end\":100000,\"start\":100},\"id\":\"1201\",\"type\":\"Range1d\"},{\"attributes\":{\"callback\":null,\"end\":100},\"id\":\"1203\",\"type\":\"Range1d\"},{\"attributes\":{},\"id\":\"1250\",\"type\":\"Selection\"},{\"attributes\":{\"callback\":null,\"renderers\":\"auto\",\"tooltips\":\"@country\"},\"id\":\"1199\",\"type\":\"HoverTool\"},{\"attributes\":{\"fill_color\":{\"value\":\"#1f77b4\"},\"line_color\":{\"value\":\"#1f77b4\"},\"x\":{\"field\":\"x\"},\"y\":{\"field\":\"y\"}},\"id\":\"1222\",\"type\":\"Circle\"},{\"attributes\":{\"fill_alpha\":{\"value\":0.1},\"fill_color\":{\"value\":\"#1f77b4\"},\"line_alpha\":{\"value\":0.1},\"line_color\":{\"value\":\"#1f77b4\"},\"x\":{\"field\":\"x\"},\"y\":{\"field\":\"y\"}},\"id\":\"1223\",\"type\":\"Circle\"},{\"attributes\":{\"data_source\":{\"id\":\"1001\",\"type\":\"ColumnDataSource\"},\"glyph\":{\"id\":\"1222\",\"type\":\"Circle\"},\"hover_glyph\":null,\"muted_glyph\":null,\"nonselection_glyph\":{\"id\":\"1223\",\"type\":\"Circle\"},\"selection_glyph\":null,\"view\":{\"id\":\"1225\",\"type\":\"CDSView\"}},\"id\":\"1224\",\"type\":\"GlyphRenderer\"},{\"attributes\":{\"formatter\":{\"id\":\"1248\",\"type\":\"BasicTickFormatter\"},\"plot\":{\"id\":\"1200\",\"subtype\":\"Figure\",\"type\":\"Plot\"},\"ticker\":{\"id\":\"1215\",\"type\":\"BasicTicker\"}},\"id\":\"1214\",\"type\":\"LinearAxis\"},{\"attributes\":{\"callback\":null,\"data\":{\"country\":[\"Afghanistan\",\"Albania\",\"Algeria\",\"Andorra\",\"Angola\",\"Antigua and Barbuda\",\"Argentina\",\"Armenia\",\"Australia\",\"Austria\",\"Azerbaijan\",\"Bahamas\",\"Bahrain\",\"Bangladesh\",\"Barbados\",\"Belarus\",\"Belgium\",\"Belize\",\"Benin\",\"Bhutan\",\"Bolivia\",\"Bosnia and Herzegovina\",\"Botswana\",\"Brazil\",\"Brunei\",\"Bulgaria\",\"Burkina Faso\",\"Burundi\",\"Cambodia\",\"Cameroon\",\"Canada\",\"Cape Verde\",\"Chad\",\"Chile\",\"China\",\"Colombia\",\"Comoros\",\"Congo, Dem. Rep.\",\"Congo, Rep.\",\"Costa Rica\",\"Cote d'Ivoire\",\"Croatia\",\"Cuba\",\"Cyprus\",\"Denmark\",\"Djibouti\",\"Dominica\",\"Ecuador\",\"Egypt\",\"El Salvador\",\"Equatorial Guinea\",\"Eritrea\",\"Estonia\",\"Ethiopia\",\"Fiji\",\"Finland\",\"France\",\"Gabon\",\"Gambia\",\"Georgia\",\"Germany\",\"Ghana\",\"Greece\",\"Grenada\",\"Guatemala\",\"Guinea\",\"Guinea-Bissau\",\"Guyana\",\"Haiti\",\"Honduras\",\"Hungary\",\"Iceland\",\"India\",\"Indonesia\",\"Iran\",\"Iraq\",\"Ireland\",\"Israel\",\"Italy\",\"Jamaica\",\"Japan\",\"Jordan\",\"Kazakhstan\",\"Kenya\",\"Kiribati\",\"Kuwait\",\"Latvia\",\"Lebanon\",\"Lesotho\",\"Liberia\",\"Libya\",\"Lithuania\",\"Luxembourg\",\"Macedonia, FYR\",\"Madagascar\",\"Malawi\",\"Malaysia\",\"Maldives\",\"Mali\",\"Malta\",\"Marshall Islands\",\"Mauritania\",\"Mauritius\",\"Mexico\",\"Micronesia, Fed. Sts.\",\"Moldova\",\"Mongolia\",\"Montenegro\",\"Morocco\",\"Mozambique\",\"Myanmar\",\"Namibia\",\"Nepal\",\"Netherlands\",\"New Zealand\",\"Nicaragua\",\"Niger\",\"Nigeria\",\"Norway\",\"Oman\",\"Pakistan\",\"Panama\",\"Papua New Guinea\",\"Paraguay\",\"Peru\",\"Philippines\",\"Poland\",\"Portugal\",\"Qatar\",\"Romania\",\"Russia\",\"Rwanda\",\"Samoa\",\"Sao Tome and Principe\",\"Saudi Arabia\",\"Senegal\",\"Serbia\",\"Seychelles\",\"Sierra Leone\",\"Singapore\",\"Slovak Republic\",\"Slovenia\",\"Solomon Islands\",\"Somalia\",\"South Africa\",\"South Sudan\",\"Spain\",\"Sri Lanka\",\"Sudan\",\"Suriname\",\"Swaziland\",\"Sweden\",\"Switzerland\",\"Syria\",\"Taiwan\",\"Tajikistan\",\"Tanzania\",\"Thailand\",\"Timor-Leste\",\"Togo\",\"Tonga\",\"Trinidad and Tobago\",\"Tunisia\",\"Turkey\",\"Turkmenistan\",\"Uganda\",\"Ukraine\",\"United Arab Emirates\",\"United Kingdom\",\"United States\",\"Uruguay\",\"Uzbekistan\",\"Vanuatu\",\"Venezuela\",\"Vietnam\",\"West Bank and Gaza\",\"Zambia\",\"Zimbabwe\"],\"x\":{\"__ndarray__\":\"AAAAAACUmUAAAAAAAE/CQAAAAAAAZ8hAAAAAAMAI40AAAAAAAIe7QAAAAADAFdRAAAAAAIDKzkAAAAAAAGy5QAAAAABALuRAAAAAAKDt5EAAAAAAACfPQAAAAADAYNZAAAAAACDN40AAAAAAADajQAAAAACA4M1AAAAAAICrzkAAAAAAgOfjQAAAAACACMBAAAAAAACUmUAAAAAAAHS5QAAAAAAAn7RAAAAAAIDcwUAAAAAAAKXKQAAAAAAAosxAAAAAAMA+8UAAAAAAABPNQAAAAAAAXJZAAAAAAACohkAAAAAAAKKjQAAAAAAAFqRAAAAAAKDo40AAAAAAAHW3QAAAAAAAhJ5AAAAAAADB0kAAAAAAAGvCQAAAAACADMVAAAAAAABIlkAAAAAAAMCDQAAAAAAAnbVAAAAAAAARyEAAAAAAAJimQAAAAABAhdNAAAAAAEAL0kAAAAAAYHrgQAAAAACg/uRAAAAAAADSpEAAAAAAgEPEQAAAAACAL8JAAAAAAIC7xEAAAAAAAEW8QAAAAADgz+BAAAAAAADskEAAAAAAgDPVQAAAAAAA5JBAAAAAAAC6u0AAAAAAIEDjQAAAAAAg8eFAAAAAAAA3z0AAAAAAAAyaQAAAAAAAMrdAAAAAAADX40AAAAAAACaoQAAAAACAgdxAAAAAAADVxUAAAAAAAMG6QAAAAAAAhJJAAAAAAABglUAAAAAAAKa1QAAAAAAAuJdAAAAAAACusEAAAAAAgIvVQAAAAAAg8+JAAAAAAADDsUAAAAAAAJnAQAAAAAAAldBAAAAAAAAVyEAAAAAAgGrlQAAAAABA0dxAAAAAACB14UAAAAAAAFnAQAAAAACAzOBAAAAAAAD8xUAAAAAAQCTTQAAAAAAAjqNAAAAAAAAEm0AAAAAAUGbyQAAAAAAAudFAAAAAAIDDz0AAAAAAAHahQAAAAAAAiIVAAAAAAECN3UAAAAAAgEXUQAAAAACwQPZAAAAAAIDVxUAAAAAAALiVQAAAAAAACIdAAAAAAIDr00AAAAAAAM3GQAAAAAAAAJpAAAAAAIBA20AAAAAAAHSrQAAAAAAAxqlAAAAAAIB3zkAAAAAAADLOQAAAAAAAEqpAAAAAAACqrkAAAAAAABy+QAAAAAAArMpAAAAAAABCuUAAAAAAABCNQAAAAAAACqhAAAAAAIB4wEAAAAAAADyfQAAAAABgYuZAAAAAAAAU30AAAAAAAPyuQAAAAAAASIpAAAAAAAD6s0AAAAAAQLzuQAAAAACABOhAAAAAAAB8sEAAAAAAgCTNQAAAAAAA5qBAAAAAAABgu0AAAAAAgF3DQAAAAAAA7rVAAAAAAADU1EAAAAAAQMDaQAAAAAAAP/9AAAAAAAB+0EAAAAAAACjVQAAAAAAAuJNAAAAAAAAdtUAAAAAAAG6lQAAAAADAQ+ZAAAAAAAAMoUAAAAAAgAbIQAAAAAAA49NAAAAAAAAMlUAAAAAAgJfxQAAAAACA3ddAAAAAAEC220AAAAAAAOybQAAAAAAAMINAAAAAAICbx0AAAAAAAPytQAAAAABAHOBAAAAAAACUvUAAAAAAAKSpQAAAAACA+stAAAAAAADmtkAAAAAAQPLkQAAAAADgdOpAAAAAAADLuUAAAAAAoBXjQAAAAAAAfKBAAAAAAAC+oEAAAAAAAAvJQAAAAAAAxJtAAAAAAAB4k0AAAAAAAFGzQAAAAABAotxAAAAAAIBVxEAAAAAAgEjQQAAAAAAAmMNAAAAAAACsl0AAAAAAAKS+QAAAAACAqOtAAAAAAACy4UAAAAAAoBvoQAAAAADAsdBAAAAAAABZsEAAAAAAAAinQAAAAAAAJtBAAAAAAACGsUAAAAAAAEOwQAAAAAAA9qpAAAAAAAAwl0A=\",\"dtype\":\"float64\",\"shape\":[178]},\"y\":{\"__ndarray__\":\"ZmZmZmZmS0DNzMzMzMxSQJqZmZmZ+VJAzczMzMzsVEAzMzMzM7NNQM3MzMzMzFJAMzMzMzPzUkCamZmZmTlSQM3MzMzMbFRAAAAAAAAgVECamZmZmdlRQJqZmZmZGVJAzczMzMyMU0BmZmZmZiZRQJqZmZmZ2VJAzczMzMyMUUAzMzMzM/NTQGZmZmZmhlFAAAAAAAAAUEAzMzMzMxNRQDMzMzMz01FAAAAAAAAgU0AAAAAAACBQQM3MzMzMjFJAAAAAAACgU0BmZmZmZmZSQJqZmZmZWU5AmpmZmZlZTUCamZmZmblQQAAAAAAAwExAZmZmZmZGVECamZmZmVlSQJqZmZmZGUxAMzMzMzOzU0CamZmZmflSQDMzMzMz01JAAAAAAACAT0BmZmZmZiZMQGZmZmZmJk5AZmZmZmbmU0CamZmZmZlMQM3MzMzMTFNAAAAAAACAU0BmZmZmZmZUQDMzMzMz01NAZmZmZmbmTkCamZmZmZlSQM3MzMzMjFJAMzMzMzOTUUAzMzMzM3NSQJqZmZmZmUxAAAAAAACATkAzMzMzM/NSQAAAAAAAgE5AmpmZmZl5UEAAAAAAAABUQM3MzMzMTFRAAAAAAADATEAAAAAAAIBPQJqZmZmZGVJAzczMzMwMVEAAAAAAAMBPQGZmZmZm5lNAzczMzMzMUUAzMzMzM7NRQM3MzMzMjE1AAAAAAAAASkBmZmZmZqZPQAAAAAAAgEJAMzMzMzPTUUDNzMzMzKxSQAAAAAAAoFRAZmZmZmZGUEAzMzMzM3NRQJqZmZmZeVNAMzMzMzMTUUCamZmZmflTQAAAAAAAYFRAmpmZmZl5VEAAAAAAAOBSQAAAAAAAwFRAZmZmZmZmU0BmZmZmZsZQQM3MzMzMjE9AAAAAAADATkBmZmZmZsZTQAAAAAAAgFJAAAAAAACAU0AzMzMzM7NHQJqZmZmZ2U5AZmZmZmbmUkCamZmZmXlSQAAAAAAAQFRAMzMzMzPzUkBmZmZmZuZPQGZmZmZm5kpAMzMzMzOTUkCamZmZmblTQAAAAAAAQExAMzMzMzNzVEBmZmZmZgZQQM3MzMzMDFBAmpmZmZkZUkDNzMzMzOxSQJqZmZmZmVBAzczMzMyMUUBmZmZmZuZPQM3MzMzMzFJAzczMzMxsUkCamZmZmdlLQAAAAAAAgFBAAAAAAADATUAAAAAAAGBRQAAAAAAAIFRAAAAAAAAgVEAzMzMzM/NSQJqZmZmZWU5AZmZmZmZmTUCamZmZmTlUQAAAAAAAwFJAzczMzMwsUEDNzMzMzExTQJqZmZmZWU1AmpmZmZlZUkAzMzMzMzNTQM3MzMzMbFFAZmZmZmYGU0AAAAAAAOBTQDMzMzMzU1RAAAAAAACAUkDNzMzMzCxRQJqZmZmZ2U9AZmZmZmbmUUBmZmZmZuZQQM3MzMzMbFNAAAAAAABAUEAAAAAAAEBTQDMzMzMzM1JAAAAAAABATEAAAAAAAGBUQAAAAAAA4FJAAAAAAADgU0AAAAAAAIBPQDMzMzMzc0xAmpmZmZlZTEAAAAAAAEBMQGZmZmZmZlRAzczMzMzsUkAAAAAAAABRQAAAAAAAYFFAZmZmZmbmR0AAAAAAAGBUQDMzMzMzk1RAzczMzMwsU0AzMzMzM7NTQJqZmZmZeVFAMzMzMzNzTkBmZmZmZqZSQDMzMzMzc1FAAAAAAACATkBmZmZmZoZRQGZmZmZmxlFAMzMzMzMzU0DNzMzMzOxSQGZmZmZmplBAMzMzMzMzTUCamZmZmZlRQM3MzMzMDFNAAAAAAAAAVEAAAAAAAKBTQAAAAAAAIFNAZmZmZmZGUUAAAAAAAABQQM3MzMzMrFJAMzMzMzPzUkAAAAAAAIBSQM3MzMzMDEtAMzMzMzMzSUA=\",\"dtype\":\"float64\",\"shape\":[178]}},\"selected\":{\"id\":\"1250\",\"type\":\"Selection\"},\"selection_policy\":{\"id\":\"1249\",\"type\":\"UnionRenderers\"}},\"id\":\"1001\",\"type\":\"ColumnDataSource\"},{\"attributes\":{\"source\":{\"id\":\"1001\",\"type\":\"ColumnDataSource\"}},\"id\":\"1225\",\"type\":\"CDSView\"},{\"attributes\":{\"ticker\":null},\"id\":\"1246\",\"type\":\"LogTickFormatter\"},{\"attributes\":{},\"id\":\"1249\",\"type\":\"UnionRenderers\"},{\"attributes\":{},\"id\":\"1248\",\"type\":\"BasicTickFormatter\"}],\"root_ids\":[\"1200\"]},\"title\":\"Bokeh Application\",\"version\":\"1.0.1\"}};\n",
       "  var render_items = [{\"docid\":\"e8617ac4-d51a-4bc9-9305-f87bee1be88e\",\"roots\":{\"1200\":\"4550269b-39ff-4117-be3b-f667438ba402\"}}];\n",
       "  root.Bokeh.embed.embed_items_notebook(docs_json, render_items);\n",
       "\n",
       "  }\n",
       "  if (root.Bokeh !== undefined) {\n",
       "    embed_document(root);\n",
       "  } else {\n",
       "    var attempts = 0;\n",
       "    var timer = setInterval(function(root) {\n",
       "      if (root.Bokeh !== undefined) {\n",
       "        embed_document(root);\n",
       "        clearInterval(timer);\n",
       "      }\n",
       "      attempts++;\n",
       "      if (attempts > 100) {\n",
       "        console.log(\"Bokeh: ERROR: Unable to run BokehJS code because BokehJS library is missing\");\n",
       "        clearInterval(timer);\n",
       "      }\n",
       "    }, 10, root)\n",
       "  }\n",
       "})(window);"
      ],
      "application/vnd.bokehjs_exec.v0+json": ""
     },
     "metadata": {
      "application/vnd.bokehjs_exec.v0+json": {
       "id": "1200"
      }
     },
     "output_type": "display_data"
    }
   ],
   "source": [
    "#Configure the Hover tool to display data from the \"country\" field in the CDS\n",
    "hover = HoverTool(tooltips='@country')\n",
    "# **The rest is the same**\n",
    "p = figure(**PLOT_OPS,tools=[hover])\n",
    "#p.circle(x='income',y='life',source=data.loc[2010])\n",
    "p.circle(x='x',\n",
    "         y='y',\n",
    "         source=theCDS)\n",
    "show(p)"
   ]
  },
  {
   "cell_type": "markdown",
   "metadata": {},
   "source": [
    "For more interesting behavior, see http://bokeh.pydata.org/en/latest/docs/user_guide/tools.html#custom-tooltip"
   ]
  },
  {
   "cell_type": "markdown",
   "metadata": {},
   "source": [
    "### Using a Pandas dataframe as the ColumnDataSource\n",
    "Instead of constructing a CDS from a dictionary, we can dump the entire dataframe as a column data source..."
   ]
  },
  {
   "cell_type": "code",
   "execution_count": 12,
   "metadata": {},
   "outputs": [
    {
     "data": {
      "text/plain": [
       "['Year', 'Country', 'life', 'population', 'income', 'region']"
      ]
     },
     "execution_count": 12,
     "metadata": {},
     "output_type": "execute_result"
    }
   ],
   "source": [
    "#Construct a column data source from a dataframe of the 2010 data\n",
    "theCDS2 = ColumnDataSource(data.loc[2010])\n",
    "theCDS2.column_names"
   ]
  },
  {
   "cell_type": "markdown",
   "metadata": {},
   "source": [
    "Now we construct our plot as above, except we need to refer to the column names in the dataframe, not ones we assign... \n",
    "\n",
    "(I've also applied a size, color, and opacity value to the circles...)"
   ]
  },
  {
   "cell_type": "code",
   "execution_count": 64,
   "metadata": {},
   "outputs": [
    {
     "data": {
      "text/html": [
       "\n",
       "\n",
       "\n",
       "\n",
       "\n",
       "\n",
       "  <div class=\"bk-root\" id=\"bb0e7c1a-322b-45b6-85de-bcc1c12f2b7c\"></div>\n"
      ]
     },
     "metadata": {},
     "output_type": "display_data"
    },
    {
     "data": {
      "application/javascript": [
       "(function(root) {\n",
       "  function embed_document(root) {\n",
       "    \n",
       "  var docs_json = {\"1568baf3-9b08-411e-adc4-166815374f0f\":{\"roots\":{\"references\":[{\"attributes\":{\"below\":[{\"id\":\"3780\",\"type\":\"LogAxis\"}],\"left\":[{\"id\":\"3785\",\"type\":\"LinearAxis\"}],\"plot_height\":200,\"renderers\":[{\"id\":\"3780\",\"type\":\"LogAxis\"},{\"id\":\"3784\",\"type\":\"Grid\"},{\"id\":\"3785\",\"type\":\"LinearAxis\"},{\"id\":\"3789\",\"type\":\"Grid\"},{\"id\":\"3795\",\"type\":\"GlyphRenderer\"}],\"title\":{\"id\":\"3943\",\"type\":\"Title\"},\"toolbar\":{\"id\":\"3790\",\"type\":\"Toolbar\"},\"x_range\":{\"id\":\"3772\",\"type\":\"Range1d\"},\"x_scale\":{\"id\":\"3776\",\"type\":\"LogScale\"},\"y_range\":{\"id\":\"3774\",\"type\":\"Range1d\"},\"y_scale\":{\"id\":\"3778\",\"type\":\"LinearScale\"}},\"id\":\"3771\",\"subtype\":\"Figure\",\"type\":\"Plot\"},{\"attributes\":{\"dimension\":1,\"plot\":{\"id\":\"3771\",\"subtype\":\"Figure\",\"type\":\"Plot\"},\"ticker\":{\"id\":\"3786\",\"type\":\"BasicTicker\"}},\"id\":\"3789\",\"type\":\"Grid\"},{\"attributes\":{\"active_drag\":\"auto\",\"active_inspect\":\"auto\",\"active_multi\":null,\"active_scroll\":\"auto\",\"active_tap\":\"auto\",\"tools\":[{\"id\":\"3770\",\"type\":\"HoverTool\"}]},\"id\":\"3790\",\"type\":\"Toolbar\"},{\"attributes\":{},\"id\":\"3786\",\"type\":\"BasicTicker\"},{\"attributes\":{\"fill_alpha\":{\"value\":0.6},\"fill_color\":{\"value\":\"green\"},\"line_alpha\":{\"value\":0.6},\"line_color\":{\"value\":\"green\"},\"size\":{\"units\":\"screen\",\"value\":8},\"x\":{\"field\":\"income\"},\"y\":{\"field\":\"life\"}},\"id\":\"3793\",\"type\":\"Circle\"},{\"attributes\":{\"fill_alpha\":{\"value\":0.1},\"fill_color\":{\"value\":\"#1f77b4\"},\"line_alpha\":{\"value\":0.1},\"line_color\":{\"value\":\"#1f77b4\"},\"size\":{\"units\":\"screen\",\"value\":8},\"x\":{\"field\":\"income\"},\"y\":{\"field\":\"life\"}},\"id\":\"3794\",\"type\":\"Circle\"},{\"attributes\":{},\"id\":\"1476\",\"type\":\"UnionRenderers\"},{\"attributes\":{\"data_source\":{\"id\":\"1409\",\"type\":\"ColumnDataSource\"},\"glyph\":{\"id\":\"3793\",\"type\":\"Circle\"},\"hover_glyph\":null,\"muted_glyph\":null,\"nonselection_glyph\":{\"id\":\"3794\",\"type\":\"Circle\"},\"selection_glyph\":null,\"view\":{\"id\":\"3796\",\"type\":\"CDSView\"}},\"id\":\"3795\",\"type\":\"GlyphRenderer\"},{\"attributes\":{\"num_minor_ticks\":10},\"id\":\"3781\",\"type\":\"LogTicker\"},{\"attributes\":{\"callback\":null,\"data\":{\"Country\":[\"Afghanistan\",\"Albania\",\"Algeria\",\"Andorra\",\"Angola\",\"Antigua and Barbuda\",\"Argentina\",\"Armenia\",\"Australia\",\"Austria\",\"Azerbaijan\",\"Bahamas\",\"Bahrain\",\"Bangladesh\",\"Barbados\",\"Belarus\",\"Belgium\",\"Belize\",\"Benin\",\"Bhutan\",\"Bolivia\",\"Bosnia and Herzegovina\",\"Botswana\",\"Brazil\",\"Brunei\",\"Bulgaria\",\"Burkina Faso\",\"Burundi\",\"Cambodia\",\"Cameroon\",\"Canada\",\"Cape Verde\",\"Chad\",\"Chile\",\"China\",\"Colombia\",\"Comoros\",\"Congo, Dem. Rep.\",\"Congo, Rep.\",\"Costa Rica\",\"Cote d'Ivoire\",\"Croatia\",\"Cuba\",\"Cyprus\",\"Denmark\",\"Djibouti\",\"Dominica\",\"Ecuador\",\"Egypt\",\"El Salvador\",\"Equatorial Guinea\",\"Eritrea\",\"Estonia\",\"Ethiopia\",\"Fiji\",\"Finland\",\"France\",\"Gabon\",\"Gambia\",\"Georgia\",\"Germany\",\"Ghana\",\"Greece\",\"Grenada\",\"Guatemala\",\"Guinea\",\"Guinea-Bissau\",\"Guyana\",\"Haiti\",\"Honduras\",\"Hungary\",\"Iceland\",\"India\",\"Indonesia\",\"Iran\",\"Iraq\",\"Ireland\",\"Israel\",\"Italy\",\"Jamaica\",\"Japan\",\"Jordan\",\"Kazakhstan\",\"Kenya\",\"Kiribati\",\"Kuwait\",\"Latvia\",\"Lebanon\",\"Lesotho\",\"Liberia\",\"Libya\",\"Lithuania\",\"Luxembourg\",\"Macedonia, FYR\",\"Madagascar\",\"Malawi\",\"Malaysia\",\"Maldives\",\"Mali\",\"Malta\",\"Marshall Islands\",\"Mauritania\",\"Mauritius\",\"Mexico\",\"Micronesia, Fed. Sts.\",\"Moldova\",\"Mongolia\",\"Montenegro\",\"Morocco\",\"Mozambique\",\"Myanmar\",\"Namibia\",\"Nepal\",\"Netherlands\",\"New Zealand\",\"Nicaragua\",\"Niger\",\"Nigeria\",\"Norway\",\"Oman\",\"Pakistan\",\"Panama\",\"Papua New Guinea\",\"Paraguay\",\"Peru\",\"Philippines\",\"Poland\",\"Portugal\",\"Qatar\",\"Romania\",\"Russia\",\"Rwanda\",\"Samoa\",\"Sao Tome and Principe\",\"Saudi Arabia\",\"Senegal\",\"Serbia\",\"Seychelles\",\"Sierra Leone\",\"Singapore\",\"Slovak Republic\",\"Slovenia\",\"Solomon Islands\",\"Somalia\",\"South Africa\",\"South Sudan\",\"Spain\",\"Sri Lanka\",\"Sudan\",\"Suriname\",\"Swaziland\",\"Sweden\",\"Switzerland\",\"Syria\",\"Taiwan\",\"Tajikistan\",\"Tanzania\",\"Thailand\",\"Timor-Leste\",\"Togo\",\"Tonga\",\"Trinidad and Tobago\",\"Tunisia\",\"Turkey\",\"Turkmenistan\",\"Uganda\",\"Ukraine\",\"United Arab Emirates\",\"United Kingdom\",\"United States\",\"Uruguay\",\"Uzbekistan\",\"Vanuatu\",\"Venezuela\",\"Vietnam\",\"West Bank and Gaza\",\"Zambia\",\"Zimbabwe\"],\"Year\":[2010,2010,2010,2010,2010,2010,2010,2010,2010,2010,2010,2010,2010,2010,2010,2010,2010,2010,2010,2010,2010,2010,2010,2010,2010,2010,2010,2010,2010,2010,2010,2010,2010,2010,2010,2010,2010,2010,2010,2010,2010,2010,2010,2010,2010,2010,2010,2010,2010,2010,2010,2010,2010,2010,2010,2010,2010,2010,2010,2010,2010,2010,2010,2010,2010,2010,2010,2010,2010,2010,2010,2010,2010,2010,2010,2010,2010,2010,2010,2010,2010,2010,2010,2010,2010,2010,2010,2010,2010,2010,2010,2010,2010,2010,2010,2010,2010,2010,2010,2010,2010,2010,2010,2010,2010,2010,2010,2010,2010,2010,2010,2010,2010,2010,2010,2010,2010,2010,2010,2010,2010,2010,2010,2010,2010,2010,2010,2010,2010,2010,2010,2010,2010,2010,2010,2010,2010,2010,2010,2010,2010,2010,2010,2010,2010,2010,2010,2010,2010,2010,2010,2010,2010,2010,2010,2010,2010,2010,2010,2010,2010,2010,2010,2010,2010,2010,2010,2010,2010,2010,2010,2010,2010,2010,2010,2010,2010,2010],\"income\":{\"__ndarray__\":\"AAAAAACUmUAAAAAAAE/CQAAAAAAAZ8hAAAAAAMAI40AAAAAAAIe7QAAAAADAFdRAAAAAAIDKzkAAAAAAAGy5QAAAAABALuRAAAAAAKDt5EAAAAAAACfPQAAAAADAYNZAAAAAACDN40AAAAAAADajQAAAAACA4M1AAAAAAICrzkAAAAAAgOfjQAAAAACACMBAAAAAAACUmUAAAAAAAHS5QAAAAAAAn7RAAAAAAIDcwUAAAAAAAKXKQAAAAAAAosxAAAAAAMA+8UAAAAAAABPNQAAAAAAAXJZAAAAAAACohkAAAAAAAKKjQAAAAAAAFqRAAAAAAKDo40AAAAAAAHW3QAAAAAAAhJ5AAAAAAADB0kAAAAAAAGvCQAAAAACADMVAAAAAAABIlkAAAAAAAMCDQAAAAAAAnbVAAAAAAAARyEAAAAAAAJimQAAAAABAhdNAAAAAAEAL0kAAAAAAYHrgQAAAAACg/uRAAAAAAADSpEAAAAAAgEPEQAAAAACAL8JAAAAAAIC7xEAAAAAAAEW8QAAAAADgz+BAAAAAAADskEAAAAAAgDPVQAAAAAAA5JBAAAAAAAC6u0AAAAAAIEDjQAAAAAAg8eFAAAAAAAA3z0AAAAAAAAyaQAAAAAAAMrdAAAAAAADX40AAAAAAACaoQAAAAACAgdxAAAAAAADVxUAAAAAAAMG6QAAAAAAAhJJAAAAAAABglUAAAAAAAKa1QAAAAAAAuJdAAAAAAACusEAAAAAAgIvVQAAAAAAg8+JAAAAAAADDsUAAAAAAAJnAQAAAAAAAldBAAAAAAAAVyEAAAAAAgGrlQAAAAABA0dxAAAAAACB14UAAAAAAAFnAQAAAAACAzOBAAAAAAAD8xUAAAAAAQCTTQAAAAAAAjqNAAAAAAAAEm0AAAAAAUGbyQAAAAAAAudFAAAAAAIDDz0AAAAAAAHahQAAAAAAAiIVAAAAAAECN3UAAAAAAgEXUQAAAAACwQPZAAAAAAIDVxUAAAAAAALiVQAAAAAAACIdAAAAAAIDr00AAAAAAAM3GQAAAAAAAAJpAAAAAAIBA20AAAAAAAHSrQAAAAAAAxqlAAAAAAIB3zkAAAAAAADLOQAAAAAAAEqpAAAAAAACqrkAAAAAAABy+QAAAAAAArMpAAAAAAABCuUAAAAAAABCNQAAAAAAACqhAAAAAAIB4wEAAAAAAADyfQAAAAABgYuZAAAAAAAAU30AAAAAAAPyuQAAAAAAASIpAAAAAAAD6s0AAAAAAQLzuQAAAAACABOhAAAAAAAB8sEAAAAAAgCTNQAAAAAAA5qBAAAAAAABgu0AAAAAAgF3DQAAAAAAA7rVAAAAAAADU1EAAAAAAQMDaQAAAAAAAP/9AAAAAAAB+0EAAAAAAACjVQAAAAAAAuJNAAAAAAAAdtUAAAAAAAG6lQAAAAADAQ+ZAAAAAAAAMoUAAAAAAgAbIQAAAAAAA49NAAAAAAAAMlUAAAAAAgJfxQAAAAACA3ddAAAAAAEC220AAAAAAAOybQAAAAAAAMINAAAAAAICbx0AAAAAAAPytQAAAAABAHOBAAAAAAACUvUAAAAAAAKSpQAAAAACA+stAAAAAAADmtkAAAAAAQPLkQAAAAADgdOpAAAAAAADLuUAAAAAAoBXjQAAAAAAAfKBAAAAAAAC+oEAAAAAAAAvJQAAAAAAAxJtAAAAAAAB4k0AAAAAAAFGzQAAAAABAotxAAAAAAIBVxEAAAAAAgEjQQAAAAAAAmMNAAAAAAACsl0AAAAAAAKS+QAAAAACAqOtAAAAAAACy4UAAAAAAoBvoQAAAAADAsdBAAAAAAABZsEAAAAAAAAinQAAAAAAAJtBAAAAAAACGsUAAAAAAAEOwQAAAAAAA9qpAAAAAAAAwl0A=\",\"dtype\":\"float64\",\"shape\":[178]},\"life\":{\"__ndarray__\":\"ZmZmZmZmS0DNzMzMzMxSQJqZmZmZ+VJAzczMzMzsVEAzMzMzM7NNQM3MzMzMzFJAMzMzMzPzUkCamZmZmTlSQM3MzMzMbFRAAAAAAAAgVECamZmZmdlRQJqZmZmZGVJAzczMzMyMU0BmZmZmZiZRQJqZmZmZ2VJAzczMzMyMUUAzMzMzM/NTQGZmZmZmhlFAAAAAAAAAUEAzMzMzMxNRQDMzMzMz01FAAAAAAAAgU0AAAAAAACBQQM3MzMzMjFJAAAAAAACgU0BmZmZmZmZSQJqZmZmZWU5AmpmZmZlZTUCamZmZmblQQAAAAAAAwExAZmZmZmZGVECamZmZmVlSQJqZmZmZGUxAMzMzMzOzU0CamZmZmflSQDMzMzMz01JAAAAAAACAT0BmZmZmZiZMQGZmZmZmJk5AZmZmZmbmU0CamZmZmZlMQM3MzMzMTFNAAAAAAACAU0BmZmZmZmZUQDMzMzMz01NAZmZmZmbmTkCamZmZmZlSQM3MzMzMjFJAMzMzMzOTUUAzMzMzM3NSQJqZmZmZmUxAAAAAAACATkAzMzMzM/NSQAAAAAAAgE5AmpmZmZl5UEAAAAAAAABUQM3MzMzMTFRAAAAAAADATEAAAAAAAIBPQJqZmZmZGVJAzczMzMwMVEAAAAAAAMBPQGZmZmZm5lNAzczMzMzMUUAzMzMzM7NRQM3MzMzMjE1AAAAAAAAASkBmZmZmZqZPQAAAAAAAgEJAMzMzMzPTUUDNzMzMzKxSQAAAAAAAoFRAZmZmZmZGUEAzMzMzM3NRQJqZmZmZeVNAMzMzMzMTUUCamZmZmflTQAAAAAAAYFRAmpmZmZl5VEAAAAAAAOBSQAAAAAAAwFRAZmZmZmZmU0BmZmZmZsZQQM3MzMzMjE9AAAAAAADATkBmZmZmZsZTQAAAAAAAgFJAAAAAAACAU0AzMzMzM7NHQJqZmZmZ2U5AZmZmZmbmUkCamZmZmXlSQAAAAAAAQFRAMzMzMzPzUkBmZmZmZuZPQGZmZmZm5kpAMzMzMzOTUkCamZmZmblTQAAAAAAAQExAMzMzMzNzVEBmZmZmZgZQQM3MzMzMDFBAmpmZmZkZUkDNzMzMzOxSQJqZmZmZmVBAzczMzMyMUUBmZmZmZuZPQM3MzMzMzFJAzczMzMxsUkCamZmZmdlLQAAAAAAAgFBAAAAAAADATUAAAAAAAGBRQAAAAAAAIFRAAAAAAAAgVEAzMzMzM/NSQJqZmZmZWU5AZmZmZmZmTUCamZmZmTlUQAAAAAAAwFJAzczMzMwsUEDNzMzMzExTQJqZmZmZWU1AmpmZmZlZUkAzMzMzMzNTQM3MzMzMbFFAZmZmZmYGU0AAAAAAAOBTQDMzMzMzU1RAAAAAAACAUkDNzMzMzCxRQJqZmZmZ2U9AZmZmZmbmUUBmZmZmZuZQQM3MzMzMbFNAAAAAAABAUEAAAAAAAEBTQDMzMzMzM1JAAAAAAABATEAAAAAAAGBUQAAAAAAA4FJAAAAAAADgU0AAAAAAAIBPQDMzMzMzc0xAmpmZmZlZTEAAAAAAAEBMQGZmZmZmZlRAzczMzMzsUkAAAAAAAABRQAAAAAAAYFFAZmZmZmbmR0AAAAAAAGBUQDMzMzMzk1RAzczMzMwsU0AzMzMzM7NTQJqZmZmZeVFAMzMzMzNzTkBmZmZmZqZSQDMzMzMzc1FAAAAAAACATkBmZmZmZoZRQGZmZmZmxlFAMzMzMzMzU0DNzMzMzOxSQGZmZmZmplBAMzMzMzMzTUCamZmZmZlRQM3MzMzMDFNAAAAAAAAAVEAAAAAAAKBTQAAAAAAAIFNAZmZmZmZGUUAAAAAAAABQQM3MzMzMrFJAMzMzMzPzUkAAAAAAAIBSQM3MzMzMDEtAMzMzMzMzSUA=\",\"dtype\":\"float64\",\"shape\":[178]},\"population\":{\"__ndarray__\":\"AAAA8LWqekEAAACAvSNGQQAAAPjxLoFBAAAAADCc9EAAAAAgpzx0QQAAAAAQTPVAAAAA2Baog0EAAAAAFJxGQQAAAPDaInVBAAAAQKYBYEEAAACgTlthQQAAAAD4BRZBAAAAAAc/M0EAAAAS+hKiQQAAAAA4EBFBAAAAQNMaYkEAAABA59hkQQAAAAAkoRNBAAAAwHQjYkEAAAAA7PolQQAAAKDk6mJBAAAAAL1CTUEAAAAAVz8/QQAAAIA5radBAAAAAFgBGEEAAABAsEFcQQAAAEDY0G1BAAAAoK8LYkEAAABAeGVrQQAAAKAEo3NBAAAA6MpFgEEAAAAALO4dQQAAAIDHsGZBAAAAgBA6cEEAAEDIY/vTQQAAAKg85YVBAAAAAI5SJUEAAADAKHGPQQAAAACPBU9BAAAAQL5WUUEAAACw9zJzQQAAAEBCd1BBAAAAoIyRZUEAAAAARdcwQQAAAMDbLFVBAAAAAKRaKUEAAAAA8F/xQAAAAIBUfGxBAAAAiGKPk0EAAACAyAhXQQAAAAAMPSZBAAAAAMDjUUEAAAAAeVM0QQAAAFhZ4JRBAAAAAGA+KkEAAABA43lUQQAAAICvBY5BAAAAADCHN0EAAAAAStU5QQAAAACFNlBBAAAArGEtk0EAAABg8jB3QQAAAKDEUWVBAAAAAFCO+UAAAACgfBlsQQAAAMAmAWVBAAAAAJTvOEEAAAAApP0mQQAAACCgEmNBAAAAwACgXEEAAAAg9RljQQAAAABoaRNBAAAATtVX0kEAAACMcs2sQQAAAPQQtJFBAAAAwCtwfUEAAACAHZ1RQQAAAAB0TlxBAAAAOO1pjEEAAACAAupEQQAAAOj7Wp5BAAAAACbdWEEAAAAALBxvQQAAAMjjOoNBAAAAAIAP+UAAAACAiFdHQQAAAAAX5j9BAAAAAIGLUEEAAAAA2q0+QQAAAABzMk5BAAAAQNjmV0EAAACASdNHQQAAAADE/x5BAAAAAGt4P0EAAADAXhp0QQAAAADUK2xBAAAAwBzRekEAAAAAfEwUQQAAAMDm7WxBAAAAAIAmGUEAAAAAgJnpQAAAAAB0ZktBAAAAAM8KM0EAAAAY10ecQQAAAAAwTPlAAAAAgIEpT0EAAACAKLJEQQAAAAAA+yJBAAAAsM2efkEAAAAQ2zF3QQAAAKgQq4hBAAAAgHW8QEEAAABggKF5QQAAAGDiuG9BAAAAwKCqUEEAAACAPuNVQQAAAMASE29BAAAAzEEBo0EAAADAnKhSQQAAAICBdUZBAAAAHFRFpEEAAAAATZ9LQQAAAEAHH1pBAAAAQFWwV0EAAADATAN8QQAAANikLpZBAAAA0NJkgkEAAACgYDBkQQAAAACJ8DpBAAAAYMVbc0EAAACm1hChQQAAAKA0omNBAAAAAGi1BkEAAAAAANwEQQAAAHARynpBAAAA4I62aEEAAADAXEdhQQAAAACQufZAAAAAgIcIVkEAAABA7F9TQQAAAAAsoFRBAAAAAIBRP0EAAAAAwg4gQQAAAECSRmJBAAAA0HadiEEAAABgYy5jQQAAAKCoOIZBAAAAAPZDc0EAAAAojjiBQQAAAAD0nx9BAAAAALw0MkEAAAAgM+VhQQAAAIAB311BAAAAoL3Cc0EAAACAVvV1QQAAAAAA7FxBAAAAaFTEhUEAAADAHc2PQQAAAABiITBBAAAAwBBhWEEAAAAAsGD5QAAAAADfQzRBAAAAQOtKZEEAAABAej2RQQAAAMDSO1NBAAAAkB6df0EAAABINMSFQQAAAEA7xl9BAAAAYNjnjUEAAADKVXiyQQAAAACnvklBAAAAQGd0ekEAAAAAWNgMQQAAABAKp3tBAAAAPO4QlUEAAAAA1gpPQQAAAOCfi2pBAAAAIDGnakE=\",\"dtype\":\"float64\",\"shape\":[178]},\"region\":[\"South Asia\",\"Europe & Central Asia\",\"Middle East & North Africa\",\"Europe & Central Asia\",\"Sub-Saharan Africa\",\"America\",\"America\",\"Europe & Central Asia\",\"East Asia & Pacific\",\"Europe & Central Asia\",\"Europe & Central Asia\",\"America\",\"Middle East & North Africa\",\"South Asia\",\"America\",\"Europe & Central Asia\",\"Europe & Central Asia\",\"America\",\"Sub-Saharan Africa\",\"South Asia\",\"America\",\"Europe & Central Asia\",\"Sub-Saharan Africa\",\"America\",\"East Asia & Pacific\",\"Europe & Central Asia\",\"Sub-Saharan Africa\",\"Sub-Saharan Africa\",\"East Asia & Pacific\",\"Sub-Saharan Africa\",\"America\",\"Sub-Saharan Africa\",\"Sub-Saharan Africa\",\"America\",\"East Asia & Pacific\",\"America\",\"Sub-Saharan Africa\",\"Sub-Saharan Africa\",\"Sub-Saharan Africa\",\"America\",\"Sub-Saharan Africa\",\"Europe & Central Asia\",\"America\",\"Europe & Central Asia\",\"Europe & Central Asia\",\"Middle East & North Africa\",\"America\",\"America\",\"Middle East & North Africa\",\"America\",\"Sub-Saharan Africa\",\"Sub-Saharan Africa\",\"Europe & Central Asia\",\"Sub-Saharan Africa\",\"East Asia & Pacific\",\"Europe & Central Asia\",\"Europe & Central Asia\",\"Sub-Saharan Africa\",\"Sub-Saharan Africa\",\"Europe & Central Asia\",\"Europe & Central Asia\",\"Sub-Saharan Africa\",\"Europe & Central Asia\",\"America\",\"America\",\"Sub-Saharan Africa\",\"Sub-Saharan Africa\",\"America\",\"America\",\"America\",\"Europe & Central Asia\",\"Europe & Central Asia\",\"South Asia\",\"East Asia & Pacific\",\"Middle East & North Africa\",\"Middle East & North Africa\",\"Europe & Central Asia\",\"Middle East & North Africa\",\"Europe & Central Asia\",\"America\",\"East Asia & Pacific\",\"Middle East & North Africa\",\"Europe & Central Asia\",\"Sub-Saharan Africa\",\"East Asia & Pacific\",\"Middle East & North Africa\",\"Europe & Central Asia\",\"Middle East & North Africa\",\"Sub-Saharan Africa\",\"Sub-Saharan Africa\",\"Middle East & North Africa\",\"Europe & Central Asia\",\"Europe & Central Asia\",\"Europe & Central Asia\",\"Sub-Saharan Africa\",\"Sub-Saharan Africa\",\"East Asia & Pacific\",\"South Asia\",\"Sub-Saharan Africa\",\"Europe & Central Asia\",\"East Asia & Pacific\",\"Sub-Saharan Africa\",\"Sub-Saharan Africa\",\"America\",\"East Asia & Pacific\",\"Europe & Central Asia\",\"East Asia & Pacific\",\"Europe & Central Asia\",\"Middle East & North Africa\",\"Sub-Saharan Africa\",\"East Asia & Pacific\",\"Sub-Saharan Africa\",\"South Asia\",\"Europe & Central Asia\",\"East Asia & Pacific\",\"America\",\"Sub-Saharan Africa\",\"Sub-Saharan Africa\",\"Europe & Central Asia\",\"Middle East & North Africa\",\"South Asia\",\"America\",\"East Asia & Pacific\",\"America\",\"America\",\"East Asia & Pacific\",\"Europe & Central Asia\",\"Europe & Central Asia\",\"Middle East & North Africa\",\"Europe & Central Asia\",\"Europe & Central Asia\",\"Sub-Saharan Africa\",\"East Asia & Pacific\",\"Sub-Saharan Africa\",\"Middle East & North Africa\",\"Sub-Saharan Africa\",\"Europe & Central Asia\",\"Sub-Saharan Africa\",\"Sub-Saharan Africa\",\"East Asia & Pacific\",\"Europe & Central Asia\",\"Europe & Central Asia\",\"East Asia & Pacific\",\"Sub-Saharan Africa\",\"Sub-Saharan Africa\",\"Sub-Saharan Africa\",\"Europe & Central Asia\",\"South Asia\",\"Sub-Saharan Africa\",\"America\",\"Sub-Saharan Africa\",\"Europe & Central Asia\",\"Europe & Central Asia\",\"Middle East & North Africa\",\"East Asia & Pacific\",\"Europe & Central Asia\",\"Sub-Saharan Africa\",\"East Asia & Pacific\",\"East Asia & Pacific\",\"Sub-Saharan Africa\",\"East Asia & Pacific\",\"America\",\"Middle East & North Africa\",\"Europe & Central Asia\",\"Europe & Central Asia\",\"Sub-Saharan Africa\",\"Europe & Central Asia\",\"Middle East & North Africa\",\"Europe & Central Asia\",\"America\",\"America\",\"Europe & Central Asia\",\"East Asia & Pacific\",\"America\",\"East Asia & Pacific\",\"Middle East & North Africa\",\"Sub-Saharan Africa\",\"Sub-Saharan Africa\"]},\"selected\":{\"id\":\"1477\",\"type\":\"Selection\"},\"selection_policy\":{\"id\":\"1476\",\"type\":\"UnionRenderers\"}},\"id\":\"1409\",\"type\":\"ColumnDataSource\"},{\"attributes\":{},\"id\":\"1477\",\"type\":\"Selection\"},{\"attributes\":{\"source\":{\"id\":\"1409\",\"type\":\"ColumnDataSource\"}},\"id\":\"3796\",\"type\":\"CDSView\"},{\"attributes\":{\"formatter\":{\"id\":\"3945\",\"type\":\"LogTickFormatter\"},\"plot\":{\"id\":\"3771\",\"subtype\":\"Figure\",\"type\":\"Plot\"},\"ticker\":{\"id\":\"3781\",\"type\":\"LogTicker\"}},\"id\":\"3780\",\"type\":\"LogAxis\"},{\"attributes\":{\"ticker\":null},\"id\":\"3945\",\"type\":\"LogTickFormatter\"},{\"attributes\":{\"plot\":null,\"text\":\"\"},\"id\":\"3943\",\"type\":\"Title\"},{\"attributes\":{\"plot\":{\"id\":\"3771\",\"subtype\":\"Figure\",\"type\":\"Plot\"},\"ticker\":{\"id\":\"3781\",\"type\":\"LogTicker\"}},\"id\":\"3784\",\"type\":\"Grid\"},{\"attributes\":{},\"id\":\"3947\",\"type\":\"BasicTickFormatter\"},{\"attributes\":{\"callback\":null,\"renderers\":\"auto\",\"tooltips\":\"@Country\"},\"id\":\"3770\",\"type\":\"HoverTool\"},{\"attributes\":{\"callback\":null,\"end\":100},\"id\":\"3774\",\"type\":\"Range1d\"},{\"attributes\":{\"callback\":null,\"end\":100000,\"start\":100},\"id\":\"3772\",\"type\":\"Range1d\"},{\"attributes\":{\"formatter\":{\"id\":\"3947\",\"type\":\"BasicTickFormatter\"},\"plot\":{\"id\":\"3771\",\"subtype\":\"Figure\",\"type\":\"Plot\"},\"ticker\":{\"id\":\"3786\",\"type\":\"BasicTicker\"}},\"id\":\"3785\",\"type\":\"LinearAxis\"},{\"attributes\":{},\"id\":\"3776\",\"type\":\"LogScale\"},{\"attributes\":{},\"id\":\"3778\",\"type\":\"LinearScale\"}],\"root_ids\":[\"3771\"]},\"title\":\"Bokeh Application\",\"version\":\"1.0.1\"}};\n",
       "  var render_items = [{\"docid\":\"1568baf3-9b08-411e-adc4-166815374f0f\",\"roots\":{\"3771\":\"bb0e7c1a-322b-45b6-85de-bcc1c12f2b7c\"}}];\n",
       "  root.Bokeh.embed.embed_items_notebook(docs_json, render_items);\n",
       "\n",
       "  }\n",
       "  if (root.Bokeh !== undefined) {\n",
       "    embed_document(root);\n",
       "  } else {\n",
       "    var attempts = 0;\n",
       "    var timer = setInterval(function(root) {\n",
       "      if (root.Bokeh !== undefined) {\n",
       "        embed_document(root);\n",
       "        clearInterval(timer);\n",
       "      }\n",
       "      attempts++;\n",
       "      if (attempts > 100) {\n",
       "        console.log(\"Bokeh: ERROR: Unable to run BokehJS code because BokehJS library is missing\");\n",
       "        clearInterval(timer);\n",
       "      }\n",
       "    }, 10, root)\n",
       "  }\n",
       "})(window);"
      ],
      "application/vnd.bokehjs_exec.v0+json": ""
     },
     "metadata": {
      "application/vnd.bokehjs_exec.v0+json": {
       "id": "3771"
      }
     },
     "output_type": "display_data"
    }
   ],
   "source": [
    "#Configure the Hover tool to display data from the \"country\" field in the CDS\n",
    "hover = HoverTool(tooltips='@Country')\n",
    "p = figure(**PLOT_OPS,tools=[hover])\n",
    "p.circle(x='income',\n",
    "         y='life',\n",
    "         source=theCDS2,\n",
    "         size=8,\n",
    "         color='green',\n",
    "         alpha=0.6)\n",
    "show(p)"
   ]
  },
  {
   "cell_type": "markdown",
   "metadata": {},
   "source": [
    "## Scaling our point features\n",
    "In the above, the size is static, but we can use a field to assign size values:"
   ]
  },
  {
   "cell_type": "code",
   "execution_count": 63,
   "metadata": {},
   "outputs": [
    {
     "data": {
      "text/html": [
       "\n",
       "\n",
       "\n",
       "\n",
       "\n",
       "\n",
       "  <div class=\"bk-root\" id=\"7a0c9a0f-e5d8-4a18-9b86-3cf55fab1caa\"></div>\n"
      ]
     },
     "metadata": {},
     "output_type": "display_data"
    },
    {
     "data": {
      "application/javascript": [
       "(function(root) {\n",
       "  function embed_document(root) {\n",
       "    \n",
       "  var docs_json = {\"7ba27d5c-b86a-48f9-b658-4407bdc90c45\":{\"roots\":{\"references\":[{\"attributes\":{\"below\":[{\"id\":\"3560\",\"type\":\"LogAxis\"}],\"left\":[{\"id\":\"3565\",\"type\":\"LinearAxis\"}],\"plot_height\":200,\"renderers\":[{\"id\":\"3560\",\"type\":\"LogAxis\"},{\"id\":\"3564\",\"type\":\"Grid\"},{\"id\":\"3565\",\"type\":\"LinearAxis\"},{\"id\":\"3569\",\"type\":\"Grid\"},{\"id\":\"3575\",\"type\":\"GlyphRenderer\"}],\"title\":{\"id\":\"3715\",\"type\":\"Title\"},\"toolbar\":{\"id\":\"3570\",\"type\":\"Toolbar\"},\"x_range\":{\"id\":\"3552\",\"type\":\"Range1d\"},\"x_scale\":{\"id\":\"3556\",\"type\":\"LogScale\"},\"y_range\":{\"id\":\"3554\",\"type\":\"Range1d\"},\"y_scale\":{\"id\":\"3558\",\"type\":\"LinearScale\"}},\"id\":\"3551\",\"subtype\":\"Figure\",\"type\":\"Plot\"},{\"attributes\":{\"active_drag\":\"auto\",\"active_inspect\":\"auto\",\"active_multi\":null,\"active_scroll\":\"auto\",\"active_tap\":\"auto\",\"tools\":[{\"id\":\"3550\",\"type\":\"HoverTool\"}]},\"id\":\"3570\",\"type\":\"Toolbar\"},{\"attributes\":{\"dimension\":1,\"plot\":{\"id\":\"3551\",\"subtype\":\"Figure\",\"type\":\"Plot\"},\"ticker\":{\"id\":\"3566\",\"type\":\"BasicTicker\"}},\"id\":\"3569\",\"type\":\"Grid\"},{\"attributes\":{},\"id\":\"3566\",\"type\":\"BasicTicker\"},{\"attributes\":{\"formatter\":{\"id\":\"3719\",\"type\":\"BasicTickFormatter\"},\"plot\":{\"id\":\"3551\",\"subtype\":\"Figure\",\"type\":\"Plot\"},\"ticker\":{\"id\":\"3566\",\"type\":\"BasicTicker\"}},\"id\":\"3565\",\"type\":\"LinearAxis\"},{\"attributes\":{\"plot\":{\"id\":\"3551\",\"subtype\":\"Figure\",\"type\":\"Plot\"},\"ticker\":{\"id\":\"3561\",\"type\":\"LogTicker\"}},\"id\":\"3564\",\"type\":\"Grid\"},{\"attributes\":{},\"id\":\"1476\",\"type\":\"UnionRenderers\"},{\"attributes\":{\"plot\":null,\"text\":\"\"},\"id\":\"3715\",\"type\":\"Title\"},{\"attributes\":{\"num_minor_ticks\":10},\"id\":\"3561\",\"type\":\"LogTicker\"},{\"attributes\":{\"callback\":null,\"data\":{\"Country\":[\"Afghanistan\",\"Albania\",\"Algeria\",\"Andorra\",\"Angola\",\"Antigua and Barbuda\",\"Argentina\",\"Armenia\",\"Australia\",\"Austria\",\"Azerbaijan\",\"Bahamas\",\"Bahrain\",\"Bangladesh\",\"Barbados\",\"Belarus\",\"Belgium\",\"Belize\",\"Benin\",\"Bhutan\",\"Bolivia\",\"Bosnia and Herzegovina\",\"Botswana\",\"Brazil\",\"Brunei\",\"Bulgaria\",\"Burkina Faso\",\"Burundi\",\"Cambodia\",\"Cameroon\",\"Canada\",\"Cape Verde\",\"Chad\",\"Chile\",\"China\",\"Colombia\",\"Comoros\",\"Congo, Dem. Rep.\",\"Congo, Rep.\",\"Costa Rica\",\"Cote d'Ivoire\",\"Croatia\",\"Cuba\",\"Cyprus\",\"Denmark\",\"Djibouti\",\"Dominica\",\"Ecuador\",\"Egypt\",\"El Salvador\",\"Equatorial Guinea\",\"Eritrea\",\"Estonia\",\"Ethiopia\",\"Fiji\",\"Finland\",\"France\",\"Gabon\",\"Gambia\",\"Georgia\",\"Germany\",\"Ghana\",\"Greece\",\"Grenada\",\"Guatemala\",\"Guinea\",\"Guinea-Bissau\",\"Guyana\",\"Haiti\",\"Honduras\",\"Hungary\",\"Iceland\",\"India\",\"Indonesia\",\"Iran\",\"Iraq\",\"Ireland\",\"Israel\",\"Italy\",\"Jamaica\",\"Japan\",\"Jordan\",\"Kazakhstan\",\"Kenya\",\"Kiribati\",\"Kuwait\",\"Latvia\",\"Lebanon\",\"Lesotho\",\"Liberia\",\"Libya\",\"Lithuania\",\"Luxembourg\",\"Macedonia, FYR\",\"Madagascar\",\"Malawi\",\"Malaysia\",\"Maldives\",\"Mali\",\"Malta\",\"Marshall Islands\",\"Mauritania\",\"Mauritius\",\"Mexico\",\"Micronesia, Fed. Sts.\",\"Moldova\",\"Mongolia\",\"Montenegro\",\"Morocco\",\"Mozambique\",\"Myanmar\",\"Namibia\",\"Nepal\",\"Netherlands\",\"New Zealand\",\"Nicaragua\",\"Niger\",\"Nigeria\",\"Norway\",\"Oman\",\"Pakistan\",\"Panama\",\"Papua New Guinea\",\"Paraguay\",\"Peru\",\"Philippines\",\"Poland\",\"Portugal\",\"Qatar\",\"Romania\",\"Russia\",\"Rwanda\",\"Samoa\",\"Sao Tome and Principe\",\"Saudi Arabia\",\"Senegal\",\"Serbia\",\"Seychelles\",\"Sierra Leone\",\"Singapore\",\"Slovak Republic\",\"Slovenia\",\"Solomon Islands\",\"Somalia\",\"South Africa\",\"South Sudan\",\"Spain\",\"Sri Lanka\",\"Sudan\",\"Suriname\",\"Swaziland\",\"Sweden\",\"Switzerland\",\"Syria\",\"Taiwan\",\"Tajikistan\",\"Tanzania\",\"Thailand\",\"Timor-Leste\",\"Togo\",\"Tonga\",\"Trinidad and Tobago\",\"Tunisia\",\"Turkey\",\"Turkmenistan\",\"Uganda\",\"Ukraine\",\"United Arab Emirates\",\"United Kingdom\",\"United States\",\"Uruguay\",\"Uzbekistan\",\"Vanuatu\",\"Venezuela\",\"Vietnam\",\"West Bank and Gaza\",\"Zambia\",\"Zimbabwe\"],\"Year\":[2010,2010,2010,2010,2010,2010,2010,2010,2010,2010,2010,2010,2010,2010,2010,2010,2010,2010,2010,2010,2010,2010,2010,2010,2010,2010,2010,2010,2010,2010,2010,2010,2010,2010,2010,2010,2010,2010,2010,2010,2010,2010,2010,2010,2010,2010,2010,2010,2010,2010,2010,2010,2010,2010,2010,2010,2010,2010,2010,2010,2010,2010,2010,2010,2010,2010,2010,2010,2010,2010,2010,2010,2010,2010,2010,2010,2010,2010,2010,2010,2010,2010,2010,2010,2010,2010,2010,2010,2010,2010,2010,2010,2010,2010,2010,2010,2010,2010,2010,2010,2010,2010,2010,2010,2010,2010,2010,2010,2010,2010,2010,2010,2010,2010,2010,2010,2010,2010,2010,2010,2010,2010,2010,2010,2010,2010,2010,2010,2010,2010,2010,2010,2010,2010,2010,2010,2010,2010,2010,2010,2010,2010,2010,2010,2010,2010,2010,2010,2010,2010,2010,2010,2010,2010,2010,2010,2010,2010,2010,2010,2010,2010,2010,2010,2010,2010,2010,2010,2010,2010,2010,2010,2010,2010,2010,2010,2010,2010],\"income\":{\"__ndarray__\":\"AAAAAACUmUAAAAAAAE/CQAAAAAAAZ8hAAAAAAMAI40AAAAAAAIe7QAAAAADAFdRAAAAAAIDKzkAAAAAAAGy5QAAAAABALuRAAAAAAKDt5EAAAAAAACfPQAAAAADAYNZAAAAAACDN40AAAAAAADajQAAAAACA4M1AAAAAAICrzkAAAAAAgOfjQAAAAACACMBAAAAAAACUmUAAAAAAAHS5QAAAAAAAn7RAAAAAAIDcwUAAAAAAAKXKQAAAAAAAosxAAAAAAMA+8UAAAAAAABPNQAAAAAAAXJZAAAAAAACohkAAAAAAAKKjQAAAAAAAFqRAAAAAAKDo40AAAAAAAHW3QAAAAAAAhJ5AAAAAAADB0kAAAAAAAGvCQAAAAACADMVAAAAAAABIlkAAAAAAAMCDQAAAAAAAnbVAAAAAAAARyEAAAAAAAJimQAAAAABAhdNAAAAAAEAL0kAAAAAAYHrgQAAAAACg/uRAAAAAAADSpEAAAAAAgEPEQAAAAACAL8JAAAAAAIC7xEAAAAAAAEW8QAAAAADgz+BAAAAAAADskEAAAAAAgDPVQAAAAAAA5JBAAAAAAAC6u0AAAAAAIEDjQAAAAAAg8eFAAAAAAAA3z0AAAAAAAAyaQAAAAAAAMrdAAAAAAADX40AAAAAAACaoQAAAAACAgdxAAAAAAADVxUAAAAAAAMG6QAAAAAAAhJJAAAAAAABglUAAAAAAAKa1QAAAAAAAuJdAAAAAAACusEAAAAAAgIvVQAAAAAAg8+JAAAAAAADDsUAAAAAAAJnAQAAAAAAAldBAAAAAAAAVyEAAAAAAgGrlQAAAAABA0dxAAAAAACB14UAAAAAAAFnAQAAAAACAzOBAAAAAAAD8xUAAAAAAQCTTQAAAAAAAjqNAAAAAAAAEm0AAAAAAUGbyQAAAAAAAudFAAAAAAIDDz0AAAAAAAHahQAAAAAAAiIVAAAAAAECN3UAAAAAAgEXUQAAAAACwQPZAAAAAAIDVxUAAAAAAALiVQAAAAAAACIdAAAAAAIDr00AAAAAAAM3GQAAAAAAAAJpAAAAAAIBA20AAAAAAAHSrQAAAAAAAxqlAAAAAAIB3zkAAAAAAADLOQAAAAAAAEqpAAAAAAACqrkAAAAAAABy+QAAAAAAArMpAAAAAAABCuUAAAAAAABCNQAAAAAAACqhAAAAAAIB4wEAAAAAAADyfQAAAAABgYuZAAAAAAAAU30AAAAAAAPyuQAAAAAAASIpAAAAAAAD6s0AAAAAAQLzuQAAAAACABOhAAAAAAAB8sEAAAAAAgCTNQAAAAAAA5qBAAAAAAABgu0AAAAAAgF3DQAAAAAAA7rVAAAAAAADU1EAAAAAAQMDaQAAAAAAAP/9AAAAAAAB+0EAAAAAAACjVQAAAAAAAuJNAAAAAAAAdtUAAAAAAAG6lQAAAAADAQ+ZAAAAAAAAMoUAAAAAAgAbIQAAAAAAA49NAAAAAAAAMlUAAAAAAgJfxQAAAAACA3ddAAAAAAEC220AAAAAAAOybQAAAAAAAMINAAAAAAICbx0AAAAAAAPytQAAAAABAHOBAAAAAAACUvUAAAAAAAKSpQAAAAACA+stAAAAAAADmtkAAAAAAQPLkQAAAAADgdOpAAAAAAADLuUAAAAAAoBXjQAAAAAAAfKBAAAAAAAC+oEAAAAAAAAvJQAAAAAAAxJtAAAAAAAB4k0AAAAAAAFGzQAAAAABAotxAAAAAAIBVxEAAAAAAgEjQQAAAAAAAmMNAAAAAAACsl0AAAAAAAKS+QAAAAACAqOtAAAAAAACy4UAAAAAAoBvoQAAAAADAsdBAAAAAAABZsEAAAAAAAAinQAAAAAAAJtBAAAAAAACGsUAAAAAAAEOwQAAAAAAA9qpAAAAAAAAwl0A=\",\"dtype\":\"float64\",\"shape\":[178]},\"life\":{\"__ndarray__\":\"ZmZmZmZmS0DNzMzMzMxSQJqZmZmZ+VJAzczMzMzsVEAzMzMzM7NNQM3MzMzMzFJAMzMzMzPzUkCamZmZmTlSQM3MzMzMbFRAAAAAAAAgVECamZmZmdlRQJqZmZmZGVJAzczMzMyMU0BmZmZmZiZRQJqZmZmZ2VJAzczMzMyMUUAzMzMzM/NTQGZmZmZmhlFAAAAAAAAAUEAzMzMzMxNRQDMzMzMz01FAAAAAAAAgU0AAAAAAACBQQM3MzMzMjFJAAAAAAACgU0BmZmZmZmZSQJqZmZmZWU5AmpmZmZlZTUCamZmZmblQQAAAAAAAwExAZmZmZmZGVECamZmZmVlSQJqZmZmZGUxAMzMzMzOzU0CamZmZmflSQDMzMzMz01JAAAAAAACAT0BmZmZmZiZMQGZmZmZmJk5AZmZmZmbmU0CamZmZmZlMQM3MzMzMTFNAAAAAAACAU0BmZmZmZmZUQDMzMzMz01NAZmZmZmbmTkCamZmZmZlSQM3MzMzMjFJAMzMzMzOTUUAzMzMzM3NSQJqZmZmZmUxAAAAAAACATkAzMzMzM/NSQAAAAAAAgE5AmpmZmZl5UEAAAAAAAABUQM3MzMzMTFRAAAAAAADATEAAAAAAAIBPQJqZmZmZGVJAzczMzMwMVEAAAAAAAMBPQGZmZmZm5lNAzczMzMzMUUAzMzMzM7NRQM3MzMzMjE1AAAAAAAAASkBmZmZmZqZPQAAAAAAAgEJAMzMzMzPTUUDNzMzMzKxSQAAAAAAAoFRAZmZmZmZGUEAzMzMzM3NRQJqZmZmZeVNAMzMzMzMTUUCamZmZmflTQAAAAAAAYFRAmpmZmZl5VEAAAAAAAOBSQAAAAAAAwFRAZmZmZmZmU0BmZmZmZsZQQM3MzMzMjE9AAAAAAADATkBmZmZmZsZTQAAAAAAAgFJAAAAAAACAU0AzMzMzM7NHQJqZmZmZ2U5AZmZmZmbmUkCamZmZmXlSQAAAAAAAQFRAMzMzMzPzUkBmZmZmZuZPQGZmZmZm5kpAMzMzMzOTUkCamZmZmblTQAAAAAAAQExAMzMzMzNzVEBmZmZmZgZQQM3MzMzMDFBAmpmZmZkZUkDNzMzMzOxSQJqZmZmZmVBAzczMzMyMUUBmZmZmZuZPQM3MzMzMzFJAzczMzMxsUkCamZmZmdlLQAAAAAAAgFBAAAAAAADATUAAAAAAAGBRQAAAAAAAIFRAAAAAAAAgVEAzMzMzM/NSQJqZmZmZWU5AZmZmZmZmTUCamZmZmTlUQAAAAAAAwFJAzczMzMwsUEDNzMzMzExTQJqZmZmZWU1AmpmZmZlZUkAzMzMzMzNTQM3MzMzMbFFAZmZmZmYGU0AAAAAAAOBTQDMzMzMzU1RAAAAAAACAUkDNzMzMzCxRQJqZmZmZ2U9AZmZmZmbmUUBmZmZmZuZQQM3MzMzMbFNAAAAAAABAUEAAAAAAAEBTQDMzMzMzM1JAAAAAAABATEAAAAAAAGBUQAAAAAAA4FJAAAAAAADgU0AAAAAAAIBPQDMzMzMzc0xAmpmZmZlZTEAAAAAAAEBMQGZmZmZmZlRAzczMzMzsUkAAAAAAAABRQAAAAAAAYFFAZmZmZmbmR0AAAAAAAGBUQDMzMzMzk1RAzczMzMwsU0AzMzMzM7NTQJqZmZmZeVFAMzMzMzNzTkBmZmZmZqZSQDMzMzMzc1FAAAAAAACATkBmZmZmZoZRQGZmZmZmxlFAMzMzMzMzU0DNzMzMzOxSQGZmZmZmplBAMzMzMzMzTUCamZmZmZlRQM3MzMzMDFNAAAAAAAAAVEAAAAAAAKBTQAAAAAAAIFNAZmZmZmZGUUAAAAAAAABQQM3MzMzMrFJAMzMzMzPzUkAAAAAAAIBSQM3MzMzMDEtAMzMzMzMzSUA=\",\"dtype\":\"float64\",\"shape\":[178]},\"population\":{\"__ndarray__\":\"AAAA8LWqekEAAACAvSNGQQAAAPjxLoFBAAAAADCc9EAAAAAgpzx0QQAAAAAQTPVAAAAA2Baog0EAAAAAFJxGQQAAAPDaInVBAAAAQKYBYEEAAACgTlthQQAAAAD4BRZBAAAAAAc/M0EAAAAS+hKiQQAAAAA4EBFBAAAAQNMaYkEAAABA59hkQQAAAAAkoRNBAAAAwHQjYkEAAAAA7PolQQAAAKDk6mJBAAAAAL1CTUEAAAAAVz8/QQAAAIA5radBAAAAAFgBGEEAAABAsEFcQQAAAEDY0G1BAAAAoK8LYkEAAABAeGVrQQAAAKAEo3NBAAAA6MpFgEEAAAAALO4dQQAAAIDHsGZBAAAAgBA6cEEAAEDIY/vTQQAAAKg85YVBAAAAAI5SJUEAAADAKHGPQQAAAACPBU9BAAAAQL5WUUEAAACw9zJzQQAAAEBCd1BBAAAAoIyRZUEAAAAARdcwQQAAAMDbLFVBAAAAAKRaKUEAAAAA8F/xQAAAAIBUfGxBAAAAiGKPk0EAAACAyAhXQQAAAAAMPSZBAAAAAMDjUUEAAAAAeVM0QQAAAFhZ4JRBAAAAAGA+KkEAAABA43lUQQAAAICvBY5BAAAAADCHN0EAAAAAStU5QQAAAACFNlBBAAAArGEtk0EAAABg8jB3QQAAAKDEUWVBAAAAAFCO+UAAAACgfBlsQQAAAMAmAWVBAAAAAJTvOEEAAAAApP0mQQAAACCgEmNBAAAAwACgXEEAAAAg9RljQQAAAABoaRNBAAAATtVX0kEAAACMcs2sQQAAAPQQtJFBAAAAwCtwfUEAAACAHZ1RQQAAAAB0TlxBAAAAOO1pjEEAAACAAupEQQAAAOj7Wp5BAAAAACbdWEEAAAAALBxvQQAAAMjjOoNBAAAAAIAP+UAAAACAiFdHQQAAAAAX5j9BAAAAAIGLUEEAAAAA2q0+QQAAAABzMk5BAAAAQNjmV0EAAACASdNHQQAAAADE/x5BAAAAAGt4P0EAAADAXhp0QQAAAADUK2xBAAAAwBzRekEAAAAAfEwUQQAAAMDm7WxBAAAAAIAmGUEAAAAAgJnpQAAAAAB0ZktBAAAAAM8KM0EAAAAY10ecQQAAAAAwTPlAAAAAgIEpT0EAAACAKLJEQQAAAAAA+yJBAAAAsM2efkEAAAAQ2zF3QQAAAKgQq4hBAAAAgHW8QEEAAABggKF5QQAAAGDiuG9BAAAAwKCqUEEAAACAPuNVQQAAAMASE29BAAAAzEEBo0EAAADAnKhSQQAAAICBdUZBAAAAHFRFpEEAAAAATZ9LQQAAAEAHH1pBAAAAQFWwV0EAAADATAN8QQAAANikLpZBAAAA0NJkgkEAAACgYDBkQQAAAACJ8DpBAAAAYMVbc0EAAACm1hChQQAAAKA0omNBAAAAAGi1BkEAAAAAANwEQQAAAHARynpBAAAA4I62aEEAAADAXEdhQQAAAACQufZAAAAAgIcIVkEAAABA7F9TQQAAAAAsoFRBAAAAAIBRP0EAAAAAwg4gQQAAAECSRmJBAAAA0HadiEEAAABgYy5jQQAAAKCoOIZBAAAAAPZDc0EAAAAojjiBQQAAAAD0nx9BAAAAALw0MkEAAAAgM+VhQQAAAIAB311BAAAAoL3Cc0EAAACAVvV1QQAAAAAA7FxBAAAAaFTEhUEAAADAHc2PQQAAAABiITBBAAAAwBBhWEEAAAAAsGD5QAAAAADfQzRBAAAAQOtKZEEAAABAej2RQQAAAMDSO1NBAAAAkB6df0EAAABINMSFQQAAAEA7xl9BAAAAYNjnjUEAAADKVXiyQQAAAACnvklBAAAAQGd0ekEAAAAAWNgMQQAAABAKp3tBAAAAPO4QlUEAAAAA1gpPQQAAAOCfi2pBAAAAIDGnakE=\",\"dtype\":\"float64\",\"shape\":[178]},\"region\":[\"South Asia\",\"Europe & Central Asia\",\"Middle East & North Africa\",\"Europe & Central Asia\",\"Sub-Saharan Africa\",\"America\",\"America\",\"Europe & Central Asia\",\"East Asia & Pacific\",\"Europe & Central Asia\",\"Europe & Central Asia\",\"America\",\"Middle East & North Africa\",\"South Asia\",\"America\",\"Europe & Central Asia\",\"Europe & Central Asia\",\"America\",\"Sub-Saharan Africa\",\"South Asia\",\"America\",\"Europe & Central Asia\",\"Sub-Saharan Africa\",\"America\",\"East Asia & Pacific\",\"Europe & Central Asia\",\"Sub-Saharan Africa\",\"Sub-Saharan Africa\",\"East Asia & Pacific\",\"Sub-Saharan Africa\",\"America\",\"Sub-Saharan Africa\",\"Sub-Saharan Africa\",\"America\",\"East Asia & Pacific\",\"America\",\"Sub-Saharan Africa\",\"Sub-Saharan Africa\",\"Sub-Saharan Africa\",\"America\",\"Sub-Saharan Africa\",\"Europe & Central Asia\",\"America\",\"Europe & Central Asia\",\"Europe & Central Asia\",\"Middle East & North Africa\",\"America\",\"America\",\"Middle East & North Africa\",\"America\",\"Sub-Saharan Africa\",\"Sub-Saharan Africa\",\"Europe & Central Asia\",\"Sub-Saharan Africa\",\"East Asia & Pacific\",\"Europe & Central Asia\",\"Europe & Central Asia\",\"Sub-Saharan Africa\",\"Sub-Saharan Africa\",\"Europe & Central Asia\",\"Europe & Central Asia\",\"Sub-Saharan Africa\",\"Europe & Central Asia\",\"America\",\"America\",\"Sub-Saharan Africa\",\"Sub-Saharan Africa\",\"America\",\"America\",\"America\",\"Europe & Central Asia\",\"Europe & Central Asia\",\"South Asia\",\"East Asia & Pacific\",\"Middle East & North Africa\",\"Middle East & North Africa\",\"Europe & Central Asia\",\"Middle East & North Africa\",\"Europe & Central Asia\",\"America\",\"East Asia & Pacific\",\"Middle East & North Africa\",\"Europe & Central Asia\",\"Sub-Saharan Africa\",\"East Asia & Pacific\",\"Middle East & North Africa\",\"Europe & Central Asia\",\"Middle East & North Africa\",\"Sub-Saharan Africa\",\"Sub-Saharan Africa\",\"Middle East & North Africa\",\"Europe & Central Asia\",\"Europe & Central Asia\",\"Europe & Central Asia\",\"Sub-Saharan Africa\",\"Sub-Saharan Africa\",\"East Asia & Pacific\",\"South Asia\",\"Sub-Saharan Africa\",\"Europe & Central Asia\",\"East Asia & Pacific\",\"Sub-Saharan Africa\",\"Sub-Saharan Africa\",\"America\",\"East Asia & Pacific\",\"Europe & Central Asia\",\"East Asia & Pacific\",\"Europe & Central Asia\",\"Middle East & North Africa\",\"Sub-Saharan Africa\",\"East Asia & Pacific\",\"Sub-Saharan Africa\",\"South Asia\",\"Europe & Central Asia\",\"East Asia & Pacific\",\"America\",\"Sub-Saharan Africa\",\"Sub-Saharan Africa\",\"Europe & Central Asia\",\"Middle East & North Africa\",\"South Asia\",\"America\",\"East Asia & Pacific\",\"America\",\"America\",\"East Asia & Pacific\",\"Europe & Central Asia\",\"Europe & Central Asia\",\"Middle East & North Africa\",\"Europe & Central Asia\",\"Europe & Central Asia\",\"Sub-Saharan Africa\",\"East Asia & Pacific\",\"Sub-Saharan Africa\",\"Middle East & North Africa\",\"Sub-Saharan Africa\",\"Europe & Central Asia\",\"Sub-Saharan Africa\",\"Sub-Saharan Africa\",\"East Asia & Pacific\",\"Europe & Central Asia\",\"Europe & Central Asia\",\"East Asia & Pacific\",\"Sub-Saharan Africa\",\"Sub-Saharan Africa\",\"Sub-Saharan Africa\",\"Europe & Central Asia\",\"South Asia\",\"Sub-Saharan Africa\",\"America\",\"Sub-Saharan Africa\",\"Europe & Central Asia\",\"Europe & Central Asia\",\"Middle East & North Africa\",\"East Asia & Pacific\",\"Europe & Central Asia\",\"Sub-Saharan Africa\",\"East Asia & Pacific\",\"East Asia & Pacific\",\"Sub-Saharan Africa\",\"East Asia & Pacific\",\"America\",\"Middle East & North Africa\",\"Europe & Central Asia\",\"Europe & Central Asia\",\"Sub-Saharan Africa\",\"Europe & Central Asia\",\"Middle East & North Africa\",\"Europe & Central Asia\",\"America\",\"America\",\"Europe & Central Asia\",\"East Asia & Pacific\",\"America\",\"East Asia & Pacific\",\"Middle East & North Africa\",\"Sub-Saharan Africa\",\"Sub-Saharan Africa\"]},\"selected\":{\"id\":\"1477\",\"type\":\"Selection\"},\"selection_policy\":{\"id\":\"1476\",\"type\":\"UnionRenderers\"}},\"id\":\"1409\",\"type\":\"ColumnDataSource\"},{\"attributes\":{},\"id\":\"1477\",\"type\":\"Selection\"},{\"attributes\":{\"callback\":null,\"end\":100000,\"start\":100},\"id\":\"3552\",\"type\":\"Range1d\"},{\"attributes\":{},\"id\":\"3556\",\"type\":\"LogScale\"},{\"attributes\":{\"formatter\":{\"id\":\"3717\",\"type\":\"LogTickFormatter\"},\"plot\":{\"id\":\"3551\",\"subtype\":\"Figure\",\"type\":\"Plot\"},\"ticker\":{\"id\":\"3561\",\"type\":\"LogTicker\"}},\"id\":\"3560\",\"type\":\"LogAxis\"},{\"attributes\":{},\"id\":\"3558\",\"type\":\"LinearScale\"},{\"attributes\":{},\"id\":\"3719\",\"type\":\"BasicTickFormatter\"},{\"attributes\":{\"fill_alpha\":{\"value\":0.6},\"fill_color\":{\"value\":\"green\"},\"line_alpha\":{\"value\":0.6},\"line_color\":{\"value\":\"green\"},\"size\":{\"field\":\"population\",\"units\":\"screen\"},\"x\":{\"field\":\"income\"},\"y\":{\"field\":\"life\"}},\"id\":\"3573\",\"type\":\"Circle\"},{\"attributes\":{\"ticker\":null},\"id\":\"3717\",\"type\":\"LogTickFormatter\"},{\"attributes\":{\"source\":{\"id\":\"1409\",\"type\":\"ColumnDataSource\"}},\"id\":\"3576\",\"type\":\"CDSView\"},{\"attributes\":{\"fill_alpha\":{\"value\":0.1},\"fill_color\":{\"value\":\"#1f77b4\"},\"line_alpha\":{\"value\":0.1},\"line_color\":{\"value\":\"#1f77b4\"},\"size\":{\"field\":\"population\",\"units\":\"screen\"},\"x\":{\"field\":\"income\"},\"y\":{\"field\":\"life\"}},\"id\":\"3574\",\"type\":\"Circle\"},{\"attributes\":{\"data_source\":{\"id\":\"1409\",\"type\":\"ColumnDataSource\"},\"glyph\":{\"id\":\"3573\",\"type\":\"Circle\"},\"hover_glyph\":null,\"muted_glyph\":null,\"nonselection_glyph\":{\"id\":\"3574\",\"type\":\"Circle\"},\"selection_glyph\":null,\"view\":{\"id\":\"3576\",\"type\":\"CDSView\"}},\"id\":\"3575\",\"type\":\"GlyphRenderer\"},{\"attributes\":{\"callback\":null,\"end\":100},\"id\":\"3554\",\"type\":\"Range1d\"},{\"attributes\":{\"callback\":null,\"renderers\":\"auto\",\"tooltips\":\"@Country\"},\"id\":\"3550\",\"type\":\"HoverTool\"}],\"root_ids\":[\"3551\"]},\"title\":\"Bokeh Application\",\"version\":\"1.0.1\"}};\n",
       "  var render_items = [{\"docid\":\"7ba27d5c-b86a-48f9-b658-4407bdc90c45\",\"roots\":{\"3551\":\"7a0c9a0f-e5d8-4a18-9b86-3cf55fab1caa\"}}];\n",
       "  root.Bokeh.embed.embed_items_notebook(docs_json, render_items);\n",
       "\n",
       "  }\n",
       "  if (root.Bokeh !== undefined) {\n",
       "    embed_document(root);\n",
       "  } else {\n",
       "    var attempts = 0;\n",
       "    var timer = setInterval(function(root) {\n",
       "      if (root.Bokeh !== undefined) {\n",
       "        embed_document(root);\n",
       "        clearInterval(timer);\n",
       "      }\n",
       "      attempts++;\n",
       "      if (attempts > 100) {\n",
       "        console.log(\"Bokeh: ERROR: Unable to run BokehJS code because BokehJS library is missing\");\n",
       "        clearInterval(timer);\n",
       "      }\n",
       "    }, 10, root)\n",
       "  }\n",
       "})(window);"
      ],
      "application/vnd.bokehjs_exec.v0+json": ""
     },
     "metadata": {
      "application/vnd.bokehjs_exec.v0+json": {
       "id": "3551"
      }
     },
     "output_type": "display_data"
    }
   ],
   "source": [
    "#Configure the Hover tool to display data from the \"country\" field in the CDS\n",
    "hover = HoverTool(tooltips='@Country')\n",
    "p = figure(**PLOT_OPS,tools=[hover])\n",
    "p.circle(x='income',\n",
    "         y='life',\n",
    "         source=theCDS2,\n",
    "         size='population',\n",
    "         color='green',\n",
    "         alpha=0.6)\n",
    "show(p)"
   ]
  },
  {
   "cell_type": "markdown",
   "metadata": {},
   "source": [
    "This doesn't quite work because the sizes we provided are rather large. So we need to scale them. Bokeh has a model called [LinearInterpolator](https://bokeh.pydata.org/en/latest/docs/reference/models/transforms.html#bokeh.models.transforms.LinearInterpolator) that can scale our actual population values to something more reasonable for screen pixel values..."
   ]
  },
  {
   "cell_type": "code",
   "execution_count": 22,
   "metadata": {},
   "outputs": [],
   "source": [
    "from bokeh.models import LinearInterpolator"
   ]
  },
  {
   "cell_type": "code",
   "execution_count": 34,
   "metadata": {},
   "outputs": [
    {
     "name": "stdout",
     "output_type": "stream",
     "text": [
      "52428.0 1340968737.0\n"
     ]
    }
   ],
   "source": [
    "#Get the min and max values to scale\n",
    "minPop = data.loc[2010]['population'].min()\n",
    "maxPop = data.loc[2010]['population'].max()\n",
    "print(minPop,maxPop)"
   ]
  },
  {
   "cell_type": "code",
   "execution_count": 40,
   "metadata": {},
   "outputs": [
    {
     "data": {
      "text/html": [
       "<div style=\"display: table;\"><div style=\"display: table-row;\"><div style=\"display: table-cell;\"><b title=\"bokeh.models.transforms.LinearInterpolator\">LinearInterpolator</b>(</div><div style=\"display: table-cell;\">id&nbsp;=&nbsp;'2744', <span id=\"2746\" style=\"cursor: pointer;\">&hellip;)</span></div></div><div class=\"2745\" style=\"display: none;\"><div style=\"display: table-cell;\"></div><div style=\"display: table-cell;\">clip&nbsp;=&nbsp;True,</div></div><div class=\"2745\" style=\"display: none;\"><div style=\"display: table-cell;\"></div><div style=\"display: table-cell;\">data&nbsp;=&nbsp;None,</div></div><div class=\"2745\" style=\"display: none;\"><div style=\"display: table-cell;\"></div><div style=\"display: table-cell;\">js_event_callbacks&nbsp;=&nbsp;{},</div></div><div class=\"2745\" style=\"display: none;\"><div style=\"display: table-cell;\"></div><div style=\"display: table-cell;\">js_property_callbacks&nbsp;=&nbsp;{},</div></div><div class=\"2745\" style=\"display: none;\"><div style=\"display: table-cell;\"></div><div style=\"display: table-cell;\">name&nbsp;=&nbsp;None,</div></div><div class=\"2745\" style=\"display: none;\"><div style=\"display: table-cell;\"></div><div style=\"display: table-cell;\">subscribed_events&nbsp;=&nbsp;[],</div></div><div class=\"2745\" style=\"display: none;\"><div style=\"display: table-cell;\"></div><div style=\"display: table-cell;\">tags&nbsp;=&nbsp;[],</div></div><div class=\"2745\" style=\"display: none;\"><div style=\"display: table-cell;\"></div><div style=\"display: table-cell;\">x&nbsp;=&nbsp;[52428.0, 1340968737.0],</div></div><div class=\"2745\" style=\"display: none;\"><div style=\"display: table-cell;\"></div><div style=\"display: table-cell;\">y&nbsp;=&nbsp;[5, 50])</div></div></div>\n",
       "<script>\n",
       "(function() {\n",
       "  var expanded = false;\n",
       "  var ellipsis = document.getElementById(\"2746\");\n",
       "  ellipsis.addEventListener(\"click\", function() {\n",
       "    var rows = document.getElementsByClassName(\"2745\");\n",
       "    for (var i = 0; i < rows.length; i++) {\n",
       "      var el = rows[i];\n",
       "      el.style.display = expanded ? \"none\" : \"table-row\";\n",
       "    }\n",
       "    ellipsis.innerHTML = expanded ? \"&hellip;)\" : \"&lsaquo;&lsaquo;&lsaquo;\";\n",
       "    expanded = !expanded;\n",
       "  });\n",
       "})();\n",
       "</script>\n"
      ],
      "text/plain": [
       "LinearInterpolator(id='2744', ...)"
      ]
     },
     "execution_count": 40,
     "metadata": {},
     "output_type": "execute_result"
    }
   ],
   "source": [
    "#Rescale our population data to values between 5 and 50\n",
    "size_mapper = LinearInterpolator(x=[minPop,maxPop],\n",
    "                                 y=[5,50])"
   ]
  },
  {
   "cell_type": "code",
   "execution_count": 62,
   "metadata": {},
   "outputs": [
    {
     "data": {
      "text/html": [
       "\n",
       "\n",
       "\n",
       "\n",
       "\n",
       "\n",
       "  <div class=\"bk-root\" id=\"efb7b06b-87b1-4c86-b1e4-d937e1d885ba\"></div>\n"
      ]
     },
     "metadata": {},
     "output_type": "display_data"
    },
    {
     "data": {
      "application/javascript": [
       "(function(root) {\n",
       "  function embed_document(root) {\n",
       "    \n",
       "  var docs_json = {\"b209f17d-a68c-4c59-9246-8605a485e6b2\":{\"roots\":{\"references\":[{\"attributes\":{\"below\":[{\"id\":\"3348\",\"type\":\"LogAxis\"}],\"left\":[{\"id\":\"3353\",\"type\":\"LinearAxis\"}],\"plot_height\":200,\"renderers\":[{\"id\":\"3348\",\"type\":\"LogAxis\"},{\"id\":\"3352\",\"type\":\"Grid\"},{\"id\":\"3353\",\"type\":\"LinearAxis\"},{\"id\":\"3357\",\"type\":\"Grid\"},{\"id\":\"3363\",\"type\":\"GlyphRenderer\"}],\"title\":{\"id\":\"3495\",\"type\":\"Title\"},\"toolbar\":{\"id\":\"3358\",\"type\":\"Toolbar\"},\"x_range\":{\"id\":\"3340\",\"type\":\"Range1d\"},\"x_scale\":{\"id\":\"3344\",\"type\":\"LogScale\"},\"y_range\":{\"id\":\"3342\",\"type\":\"Range1d\"},\"y_scale\":{\"id\":\"3346\",\"type\":\"LinearScale\"}},\"id\":\"3339\",\"subtype\":\"Figure\",\"type\":\"Plot\"},{\"attributes\":{\"callback\":null,\"end\":100000,\"start\":100},\"id\":\"3340\",\"type\":\"Range1d\"},{\"attributes\":{\"fill_alpha\":{\"value\":0.6},\"fill_color\":{\"value\":\"green\"},\"line_alpha\":{\"value\":0.6},\"line_color\":{\"value\":\"green\"},\"size\":{\"field\":\"population\",\"transform\":{\"id\":\"2744\",\"type\":\"LinearInterpolator\"},\"units\":\"screen\"},\"x\":{\"field\":\"income\"},\"y\":{\"field\":\"life\"}},\"id\":\"3361\",\"type\":\"Circle\"},{\"attributes\":{\"num_minor_ticks\":10},\"id\":\"3349\",\"type\":\"LogTicker\"},{\"attributes\":{\"formatter\":{\"id\":\"3497\",\"type\":\"LogTickFormatter\"},\"plot\":{\"id\":\"3339\",\"subtype\":\"Figure\",\"type\":\"Plot\"},\"ticker\":{\"id\":\"3349\",\"type\":\"LogTicker\"}},\"id\":\"3348\",\"type\":\"LogAxis\"},{\"attributes\":{\"fill_alpha\":{\"value\":0.1},\"fill_color\":{\"value\":\"#1f77b4\"},\"line_alpha\":{\"value\":0.1},\"line_color\":{\"value\":\"#1f77b4\"},\"size\":{\"field\":\"population\",\"transform\":{\"id\":\"2744\",\"type\":\"LinearInterpolator\"},\"units\":\"screen\"},\"x\":{\"field\":\"income\"},\"y\":{\"field\":\"life\"}},\"id\":\"3362\",\"type\":\"Circle\"},{\"attributes\":{\"plot\":null,\"text\":\"\"},\"id\":\"3495\",\"type\":\"Title\"},{\"attributes\":{\"data_source\":{\"id\":\"1409\",\"type\":\"ColumnDataSource\"},\"glyph\":{\"id\":\"3361\",\"type\":\"Circle\"},\"hover_glyph\":null,\"muted_glyph\":null,\"nonselection_glyph\":{\"id\":\"3362\",\"type\":\"Circle\"},\"selection_glyph\":null,\"view\":{\"id\":\"3364\",\"type\":\"CDSView\"}},\"id\":\"3363\",\"type\":\"GlyphRenderer\"},{\"attributes\":{\"formatter\":{\"id\":\"3499\",\"type\":\"BasicTickFormatter\"},\"plot\":{\"id\":\"3339\",\"subtype\":\"Figure\",\"type\":\"Plot\"},\"ticker\":{\"id\":\"3354\",\"type\":\"BasicTicker\"}},\"id\":\"3353\",\"type\":\"LinearAxis\"},{\"attributes\":{\"source\":{\"id\":\"1409\",\"type\":\"ColumnDataSource\"}},\"id\":\"3364\",\"type\":\"CDSView\"},{\"attributes\":{},\"id\":\"3344\",\"type\":\"LogScale\"},{\"attributes\":{\"callback\":null,\"renderers\":\"auto\",\"tooltips\":\"@Country\"},\"id\":\"3338\",\"type\":\"HoverTool\"},{\"attributes\":{},\"id\":\"1476\",\"type\":\"UnionRenderers\"},{\"attributes\":{\"callback\":null,\"data\":{\"Country\":[\"Afghanistan\",\"Albania\",\"Algeria\",\"Andorra\",\"Angola\",\"Antigua and Barbuda\",\"Argentina\",\"Armenia\",\"Australia\",\"Austria\",\"Azerbaijan\",\"Bahamas\",\"Bahrain\",\"Bangladesh\",\"Barbados\",\"Belarus\",\"Belgium\",\"Belize\",\"Benin\",\"Bhutan\",\"Bolivia\",\"Bosnia and Herzegovina\",\"Botswana\",\"Brazil\",\"Brunei\",\"Bulgaria\",\"Burkina Faso\",\"Burundi\",\"Cambodia\",\"Cameroon\",\"Canada\",\"Cape Verde\",\"Chad\",\"Chile\",\"China\",\"Colombia\",\"Comoros\",\"Congo, Dem. Rep.\",\"Congo, Rep.\",\"Costa Rica\",\"Cote d'Ivoire\",\"Croatia\",\"Cuba\",\"Cyprus\",\"Denmark\",\"Djibouti\",\"Dominica\",\"Ecuador\",\"Egypt\",\"El Salvador\",\"Equatorial Guinea\",\"Eritrea\",\"Estonia\",\"Ethiopia\",\"Fiji\",\"Finland\",\"France\",\"Gabon\",\"Gambia\",\"Georgia\",\"Germany\",\"Ghana\",\"Greece\",\"Grenada\",\"Guatemala\",\"Guinea\",\"Guinea-Bissau\",\"Guyana\",\"Haiti\",\"Honduras\",\"Hungary\",\"Iceland\",\"India\",\"Indonesia\",\"Iran\",\"Iraq\",\"Ireland\",\"Israel\",\"Italy\",\"Jamaica\",\"Japan\",\"Jordan\",\"Kazakhstan\",\"Kenya\",\"Kiribati\",\"Kuwait\",\"Latvia\",\"Lebanon\",\"Lesotho\",\"Liberia\",\"Libya\",\"Lithuania\",\"Luxembourg\",\"Macedonia, FYR\",\"Madagascar\",\"Malawi\",\"Malaysia\",\"Maldives\",\"Mali\",\"Malta\",\"Marshall Islands\",\"Mauritania\",\"Mauritius\",\"Mexico\",\"Micronesia, Fed. Sts.\",\"Moldova\",\"Mongolia\",\"Montenegro\",\"Morocco\",\"Mozambique\",\"Myanmar\",\"Namibia\",\"Nepal\",\"Netherlands\",\"New Zealand\",\"Nicaragua\",\"Niger\",\"Nigeria\",\"Norway\",\"Oman\",\"Pakistan\",\"Panama\",\"Papua New Guinea\",\"Paraguay\",\"Peru\",\"Philippines\",\"Poland\",\"Portugal\",\"Qatar\",\"Romania\",\"Russia\",\"Rwanda\",\"Samoa\",\"Sao Tome and Principe\",\"Saudi Arabia\",\"Senegal\",\"Serbia\",\"Seychelles\",\"Sierra Leone\",\"Singapore\",\"Slovak Republic\",\"Slovenia\",\"Solomon Islands\",\"Somalia\",\"South Africa\",\"South Sudan\",\"Spain\",\"Sri Lanka\",\"Sudan\",\"Suriname\",\"Swaziland\",\"Sweden\",\"Switzerland\",\"Syria\",\"Taiwan\",\"Tajikistan\",\"Tanzania\",\"Thailand\",\"Timor-Leste\",\"Togo\",\"Tonga\",\"Trinidad and Tobago\",\"Tunisia\",\"Turkey\",\"Turkmenistan\",\"Uganda\",\"Ukraine\",\"United Arab Emirates\",\"United Kingdom\",\"United States\",\"Uruguay\",\"Uzbekistan\",\"Vanuatu\",\"Venezuela\",\"Vietnam\",\"West Bank and Gaza\",\"Zambia\",\"Zimbabwe\"],\"Year\":[2010,2010,2010,2010,2010,2010,2010,2010,2010,2010,2010,2010,2010,2010,2010,2010,2010,2010,2010,2010,2010,2010,2010,2010,2010,2010,2010,2010,2010,2010,2010,2010,2010,2010,2010,2010,2010,2010,2010,2010,2010,2010,2010,2010,2010,2010,2010,2010,2010,2010,2010,2010,2010,2010,2010,2010,2010,2010,2010,2010,2010,2010,2010,2010,2010,2010,2010,2010,2010,2010,2010,2010,2010,2010,2010,2010,2010,2010,2010,2010,2010,2010,2010,2010,2010,2010,2010,2010,2010,2010,2010,2010,2010,2010,2010,2010,2010,2010,2010,2010,2010,2010,2010,2010,2010,2010,2010,2010,2010,2010,2010,2010,2010,2010,2010,2010,2010,2010,2010,2010,2010,2010,2010,2010,2010,2010,2010,2010,2010,2010,2010,2010,2010,2010,2010,2010,2010,2010,2010,2010,2010,2010,2010,2010,2010,2010,2010,2010,2010,2010,2010,2010,2010,2010,2010,2010,2010,2010,2010,2010,2010,2010,2010,2010,2010,2010,2010,2010,2010,2010,2010,2010,2010,2010,2010,2010,2010,2010],\"income\":{\"__ndarray__\":\"AAAAAACUmUAAAAAAAE/CQAAAAAAAZ8hAAAAAAMAI40AAAAAAAIe7QAAAAADAFdRAAAAAAIDKzkAAAAAAAGy5QAAAAABALuRAAAAAAKDt5EAAAAAAACfPQAAAAADAYNZAAAAAACDN40AAAAAAADajQAAAAACA4M1AAAAAAICrzkAAAAAAgOfjQAAAAACACMBAAAAAAACUmUAAAAAAAHS5QAAAAAAAn7RAAAAAAIDcwUAAAAAAAKXKQAAAAAAAosxAAAAAAMA+8UAAAAAAABPNQAAAAAAAXJZAAAAAAACohkAAAAAAAKKjQAAAAAAAFqRAAAAAAKDo40AAAAAAAHW3QAAAAAAAhJ5AAAAAAADB0kAAAAAAAGvCQAAAAACADMVAAAAAAABIlkAAAAAAAMCDQAAAAAAAnbVAAAAAAAARyEAAAAAAAJimQAAAAABAhdNAAAAAAEAL0kAAAAAAYHrgQAAAAACg/uRAAAAAAADSpEAAAAAAgEPEQAAAAACAL8JAAAAAAIC7xEAAAAAAAEW8QAAAAADgz+BAAAAAAADskEAAAAAAgDPVQAAAAAAA5JBAAAAAAAC6u0AAAAAAIEDjQAAAAAAg8eFAAAAAAAA3z0AAAAAAAAyaQAAAAAAAMrdAAAAAAADX40AAAAAAACaoQAAAAACAgdxAAAAAAADVxUAAAAAAAMG6QAAAAAAAhJJAAAAAAABglUAAAAAAAKa1QAAAAAAAuJdAAAAAAACusEAAAAAAgIvVQAAAAAAg8+JAAAAAAADDsUAAAAAAAJnAQAAAAAAAldBAAAAAAAAVyEAAAAAAgGrlQAAAAABA0dxAAAAAACB14UAAAAAAAFnAQAAAAACAzOBAAAAAAAD8xUAAAAAAQCTTQAAAAAAAjqNAAAAAAAAEm0AAAAAAUGbyQAAAAAAAudFAAAAAAIDDz0AAAAAAAHahQAAAAAAAiIVAAAAAAECN3UAAAAAAgEXUQAAAAACwQPZAAAAAAIDVxUAAAAAAALiVQAAAAAAACIdAAAAAAIDr00AAAAAAAM3GQAAAAAAAAJpAAAAAAIBA20AAAAAAAHSrQAAAAAAAxqlAAAAAAIB3zkAAAAAAADLOQAAAAAAAEqpAAAAAAACqrkAAAAAAABy+QAAAAAAArMpAAAAAAABCuUAAAAAAABCNQAAAAAAACqhAAAAAAIB4wEAAAAAAADyfQAAAAABgYuZAAAAAAAAU30AAAAAAAPyuQAAAAAAASIpAAAAAAAD6s0AAAAAAQLzuQAAAAACABOhAAAAAAAB8sEAAAAAAgCTNQAAAAAAA5qBAAAAAAABgu0AAAAAAgF3DQAAAAAAA7rVAAAAAAADU1EAAAAAAQMDaQAAAAAAAP/9AAAAAAAB+0EAAAAAAACjVQAAAAAAAuJNAAAAAAAAdtUAAAAAAAG6lQAAAAADAQ+ZAAAAAAAAMoUAAAAAAgAbIQAAAAAAA49NAAAAAAAAMlUAAAAAAgJfxQAAAAACA3ddAAAAAAEC220AAAAAAAOybQAAAAAAAMINAAAAAAICbx0AAAAAAAPytQAAAAABAHOBAAAAAAACUvUAAAAAAAKSpQAAAAACA+stAAAAAAADmtkAAAAAAQPLkQAAAAADgdOpAAAAAAADLuUAAAAAAoBXjQAAAAAAAfKBAAAAAAAC+oEAAAAAAAAvJQAAAAAAAxJtAAAAAAAB4k0AAAAAAAFGzQAAAAABAotxAAAAAAIBVxEAAAAAAgEjQQAAAAAAAmMNAAAAAAACsl0AAAAAAAKS+QAAAAACAqOtAAAAAAACy4UAAAAAAoBvoQAAAAADAsdBAAAAAAABZsEAAAAAAAAinQAAAAAAAJtBAAAAAAACGsUAAAAAAAEOwQAAAAAAA9qpAAAAAAAAwl0A=\",\"dtype\":\"float64\",\"shape\":[178]},\"life\":{\"__ndarray__\":\"ZmZmZmZmS0DNzMzMzMxSQJqZmZmZ+VJAzczMzMzsVEAzMzMzM7NNQM3MzMzMzFJAMzMzMzPzUkCamZmZmTlSQM3MzMzMbFRAAAAAAAAgVECamZmZmdlRQJqZmZmZGVJAzczMzMyMU0BmZmZmZiZRQJqZmZmZ2VJAzczMzMyMUUAzMzMzM/NTQGZmZmZmhlFAAAAAAAAAUEAzMzMzMxNRQDMzMzMz01FAAAAAAAAgU0AAAAAAACBQQM3MzMzMjFJAAAAAAACgU0BmZmZmZmZSQJqZmZmZWU5AmpmZmZlZTUCamZmZmblQQAAAAAAAwExAZmZmZmZGVECamZmZmVlSQJqZmZmZGUxAMzMzMzOzU0CamZmZmflSQDMzMzMz01JAAAAAAACAT0BmZmZmZiZMQGZmZmZmJk5AZmZmZmbmU0CamZmZmZlMQM3MzMzMTFNAAAAAAACAU0BmZmZmZmZUQDMzMzMz01NAZmZmZmbmTkCamZmZmZlSQM3MzMzMjFJAMzMzMzOTUUAzMzMzM3NSQJqZmZmZmUxAAAAAAACATkAzMzMzM/NSQAAAAAAAgE5AmpmZmZl5UEAAAAAAAABUQM3MzMzMTFRAAAAAAADATEAAAAAAAIBPQJqZmZmZGVJAzczMzMwMVEAAAAAAAMBPQGZmZmZm5lNAzczMzMzMUUAzMzMzM7NRQM3MzMzMjE1AAAAAAAAASkBmZmZmZqZPQAAAAAAAgEJAMzMzMzPTUUDNzMzMzKxSQAAAAAAAoFRAZmZmZmZGUEAzMzMzM3NRQJqZmZmZeVNAMzMzMzMTUUCamZmZmflTQAAAAAAAYFRAmpmZmZl5VEAAAAAAAOBSQAAAAAAAwFRAZmZmZmZmU0BmZmZmZsZQQM3MzMzMjE9AAAAAAADATkBmZmZmZsZTQAAAAAAAgFJAAAAAAACAU0AzMzMzM7NHQJqZmZmZ2U5AZmZmZmbmUkCamZmZmXlSQAAAAAAAQFRAMzMzMzPzUkBmZmZmZuZPQGZmZmZm5kpAMzMzMzOTUkCamZmZmblTQAAAAAAAQExAMzMzMzNzVEBmZmZmZgZQQM3MzMzMDFBAmpmZmZkZUkDNzMzMzOxSQJqZmZmZmVBAzczMzMyMUUBmZmZmZuZPQM3MzMzMzFJAzczMzMxsUkCamZmZmdlLQAAAAAAAgFBAAAAAAADATUAAAAAAAGBRQAAAAAAAIFRAAAAAAAAgVEAzMzMzM/NSQJqZmZmZWU5AZmZmZmZmTUCamZmZmTlUQAAAAAAAwFJAzczMzMwsUEDNzMzMzExTQJqZmZmZWU1AmpmZmZlZUkAzMzMzMzNTQM3MzMzMbFFAZmZmZmYGU0AAAAAAAOBTQDMzMzMzU1RAAAAAAACAUkDNzMzMzCxRQJqZmZmZ2U9AZmZmZmbmUUBmZmZmZuZQQM3MzMzMbFNAAAAAAABAUEAAAAAAAEBTQDMzMzMzM1JAAAAAAABATEAAAAAAAGBUQAAAAAAA4FJAAAAAAADgU0AAAAAAAIBPQDMzMzMzc0xAmpmZmZlZTEAAAAAAAEBMQGZmZmZmZlRAzczMzMzsUkAAAAAAAABRQAAAAAAAYFFAZmZmZmbmR0AAAAAAAGBUQDMzMzMzk1RAzczMzMwsU0AzMzMzM7NTQJqZmZmZeVFAMzMzMzNzTkBmZmZmZqZSQDMzMzMzc1FAAAAAAACATkBmZmZmZoZRQGZmZmZmxlFAMzMzMzMzU0DNzMzMzOxSQGZmZmZmplBAMzMzMzMzTUCamZmZmZlRQM3MzMzMDFNAAAAAAAAAVEAAAAAAAKBTQAAAAAAAIFNAZmZmZmZGUUAAAAAAAABQQM3MzMzMrFJAMzMzMzPzUkAAAAAAAIBSQM3MzMzMDEtAMzMzMzMzSUA=\",\"dtype\":\"float64\",\"shape\":[178]},\"population\":{\"__ndarray__\":\"AAAA8LWqekEAAACAvSNGQQAAAPjxLoFBAAAAADCc9EAAAAAgpzx0QQAAAAAQTPVAAAAA2Baog0EAAAAAFJxGQQAAAPDaInVBAAAAQKYBYEEAAACgTlthQQAAAAD4BRZBAAAAAAc/M0EAAAAS+hKiQQAAAAA4EBFBAAAAQNMaYkEAAABA59hkQQAAAAAkoRNBAAAAwHQjYkEAAAAA7PolQQAAAKDk6mJBAAAAAL1CTUEAAAAAVz8/QQAAAIA5radBAAAAAFgBGEEAAABAsEFcQQAAAEDY0G1BAAAAoK8LYkEAAABAeGVrQQAAAKAEo3NBAAAA6MpFgEEAAAAALO4dQQAAAIDHsGZBAAAAgBA6cEEAAEDIY/vTQQAAAKg85YVBAAAAAI5SJUEAAADAKHGPQQAAAACPBU9BAAAAQL5WUUEAAACw9zJzQQAAAEBCd1BBAAAAoIyRZUEAAAAARdcwQQAAAMDbLFVBAAAAAKRaKUEAAAAA8F/xQAAAAIBUfGxBAAAAiGKPk0EAAACAyAhXQQAAAAAMPSZBAAAAAMDjUUEAAAAAeVM0QQAAAFhZ4JRBAAAAAGA+KkEAAABA43lUQQAAAICvBY5BAAAAADCHN0EAAAAAStU5QQAAAACFNlBBAAAArGEtk0EAAABg8jB3QQAAAKDEUWVBAAAAAFCO+UAAAACgfBlsQQAAAMAmAWVBAAAAAJTvOEEAAAAApP0mQQAAACCgEmNBAAAAwACgXEEAAAAg9RljQQAAAABoaRNBAAAATtVX0kEAAACMcs2sQQAAAPQQtJFBAAAAwCtwfUEAAACAHZ1RQQAAAAB0TlxBAAAAOO1pjEEAAACAAupEQQAAAOj7Wp5BAAAAACbdWEEAAAAALBxvQQAAAMjjOoNBAAAAAIAP+UAAAACAiFdHQQAAAAAX5j9BAAAAAIGLUEEAAAAA2q0+QQAAAABzMk5BAAAAQNjmV0EAAACASdNHQQAAAADE/x5BAAAAAGt4P0EAAADAXhp0QQAAAADUK2xBAAAAwBzRekEAAAAAfEwUQQAAAMDm7WxBAAAAAIAmGUEAAAAAgJnpQAAAAAB0ZktBAAAAAM8KM0EAAAAY10ecQQAAAAAwTPlAAAAAgIEpT0EAAACAKLJEQQAAAAAA+yJBAAAAsM2efkEAAAAQ2zF3QQAAAKgQq4hBAAAAgHW8QEEAAABggKF5QQAAAGDiuG9BAAAAwKCqUEEAAACAPuNVQQAAAMASE29BAAAAzEEBo0EAAADAnKhSQQAAAICBdUZBAAAAHFRFpEEAAAAATZ9LQQAAAEAHH1pBAAAAQFWwV0EAAADATAN8QQAAANikLpZBAAAA0NJkgkEAAACgYDBkQQAAAACJ8DpBAAAAYMVbc0EAAACm1hChQQAAAKA0omNBAAAAAGi1BkEAAAAAANwEQQAAAHARynpBAAAA4I62aEEAAADAXEdhQQAAAACQufZAAAAAgIcIVkEAAABA7F9TQQAAAAAsoFRBAAAAAIBRP0EAAAAAwg4gQQAAAECSRmJBAAAA0HadiEEAAABgYy5jQQAAAKCoOIZBAAAAAPZDc0EAAAAojjiBQQAAAAD0nx9BAAAAALw0MkEAAAAgM+VhQQAAAIAB311BAAAAoL3Cc0EAAACAVvV1QQAAAAAA7FxBAAAAaFTEhUEAAADAHc2PQQAAAABiITBBAAAAwBBhWEEAAAAAsGD5QAAAAADfQzRBAAAAQOtKZEEAAABAej2RQQAAAMDSO1NBAAAAkB6df0EAAABINMSFQQAAAEA7xl9BAAAAYNjnjUEAAADKVXiyQQAAAACnvklBAAAAQGd0ekEAAAAAWNgMQQAAABAKp3tBAAAAPO4QlUEAAAAA1gpPQQAAAOCfi2pBAAAAIDGnakE=\",\"dtype\":\"float64\",\"shape\":[178]},\"region\":[\"South Asia\",\"Europe & Central Asia\",\"Middle East & North Africa\",\"Europe & Central Asia\",\"Sub-Saharan Africa\",\"America\",\"America\",\"Europe & Central Asia\",\"East Asia & Pacific\",\"Europe & Central Asia\",\"Europe & Central Asia\",\"America\",\"Middle East & North Africa\",\"South Asia\",\"America\",\"Europe & Central Asia\",\"Europe & Central Asia\",\"America\",\"Sub-Saharan Africa\",\"South Asia\",\"America\",\"Europe & Central Asia\",\"Sub-Saharan Africa\",\"America\",\"East Asia & Pacific\",\"Europe & Central Asia\",\"Sub-Saharan Africa\",\"Sub-Saharan Africa\",\"East Asia & Pacific\",\"Sub-Saharan Africa\",\"America\",\"Sub-Saharan Africa\",\"Sub-Saharan Africa\",\"America\",\"East Asia & Pacific\",\"America\",\"Sub-Saharan Africa\",\"Sub-Saharan Africa\",\"Sub-Saharan Africa\",\"America\",\"Sub-Saharan Africa\",\"Europe & Central Asia\",\"America\",\"Europe & Central Asia\",\"Europe & Central Asia\",\"Middle East & North Africa\",\"America\",\"America\",\"Middle East & North Africa\",\"America\",\"Sub-Saharan Africa\",\"Sub-Saharan Africa\",\"Europe & Central Asia\",\"Sub-Saharan Africa\",\"East Asia & Pacific\",\"Europe & Central Asia\",\"Europe & Central Asia\",\"Sub-Saharan Africa\",\"Sub-Saharan Africa\",\"Europe & Central Asia\",\"Europe & Central Asia\",\"Sub-Saharan Africa\",\"Europe & Central Asia\",\"America\",\"America\",\"Sub-Saharan Africa\",\"Sub-Saharan Africa\",\"America\",\"America\",\"America\",\"Europe & Central Asia\",\"Europe & Central Asia\",\"South Asia\",\"East Asia & Pacific\",\"Middle East & North Africa\",\"Middle East & North Africa\",\"Europe & Central Asia\",\"Middle East & North Africa\",\"Europe & Central Asia\",\"America\",\"East Asia & Pacific\",\"Middle East & North Africa\",\"Europe & Central Asia\",\"Sub-Saharan Africa\",\"East Asia & Pacific\",\"Middle East & North Africa\",\"Europe & Central Asia\",\"Middle East & North Africa\",\"Sub-Saharan Africa\",\"Sub-Saharan Africa\",\"Middle East & North Africa\",\"Europe & Central Asia\",\"Europe & Central Asia\",\"Europe & Central Asia\",\"Sub-Saharan Africa\",\"Sub-Saharan Africa\",\"East Asia & Pacific\",\"South Asia\",\"Sub-Saharan Africa\",\"Europe & Central Asia\",\"East Asia & Pacific\",\"Sub-Saharan Africa\",\"Sub-Saharan Africa\",\"America\",\"East Asia & Pacific\",\"Europe & Central Asia\",\"East Asia & Pacific\",\"Europe & Central Asia\",\"Middle East & North Africa\",\"Sub-Saharan Africa\",\"East Asia & Pacific\",\"Sub-Saharan Africa\",\"South Asia\",\"Europe & Central Asia\",\"East Asia & Pacific\",\"America\",\"Sub-Saharan Africa\",\"Sub-Saharan Africa\",\"Europe & Central Asia\",\"Middle East & North Africa\",\"South Asia\",\"America\",\"East Asia & Pacific\",\"America\",\"America\",\"East Asia & Pacific\",\"Europe & Central Asia\",\"Europe & Central Asia\",\"Middle East & North Africa\",\"Europe & Central Asia\",\"Europe & Central Asia\",\"Sub-Saharan Africa\",\"East Asia & Pacific\",\"Sub-Saharan Africa\",\"Middle East & North Africa\",\"Sub-Saharan Africa\",\"Europe & Central Asia\",\"Sub-Saharan Africa\",\"Sub-Saharan Africa\",\"East Asia & Pacific\",\"Europe & Central Asia\",\"Europe & Central Asia\",\"East Asia & Pacific\",\"Sub-Saharan Africa\",\"Sub-Saharan Africa\",\"Sub-Saharan Africa\",\"Europe & Central Asia\",\"South Asia\",\"Sub-Saharan Africa\",\"America\",\"Sub-Saharan Africa\",\"Europe & Central Asia\",\"Europe & Central Asia\",\"Middle East & North Africa\",\"East Asia & Pacific\",\"Europe & Central Asia\",\"Sub-Saharan Africa\",\"East Asia & Pacific\",\"East Asia & Pacific\",\"Sub-Saharan Africa\",\"East Asia & Pacific\",\"America\",\"Middle East & North Africa\",\"Europe & Central Asia\",\"Europe & Central Asia\",\"Sub-Saharan Africa\",\"Europe & Central Asia\",\"Middle East & North Africa\",\"Europe & Central Asia\",\"America\",\"America\",\"Europe & Central Asia\",\"East Asia & Pacific\",\"America\",\"East Asia & Pacific\",\"Middle East & North Africa\",\"Sub-Saharan Africa\",\"Sub-Saharan Africa\"]},\"selected\":{\"id\":\"1477\",\"type\":\"Selection\"},\"selection_policy\":{\"id\":\"1476\",\"type\":\"UnionRenderers\"}},\"id\":\"1409\",\"type\":\"ColumnDataSource\"},{\"attributes\":{},\"id\":\"1477\",\"type\":\"Selection\"},{\"attributes\":{\"callback\":null,\"end\":100},\"id\":\"3342\",\"type\":\"Range1d\"},{\"attributes\":{\"plot\":{\"id\":\"3339\",\"subtype\":\"Figure\",\"type\":\"Plot\"},\"ticker\":{\"id\":\"3349\",\"type\":\"LogTicker\"}},\"id\":\"3352\",\"type\":\"Grid\"},{\"attributes\":{},\"id\":\"3354\",\"type\":\"BasicTicker\"},{\"attributes\":{\"active_drag\":\"auto\",\"active_inspect\":\"auto\",\"active_multi\":null,\"active_scroll\":\"auto\",\"active_tap\":\"auto\",\"tools\":[{\"id\":\"3338\",\"type\":\"HoverTool\"}]},\"id\":\"3358\",\"type\":\"Toolbar\"},{\"attributes\":{},\"id\":\"3346\",\"type\":\"LinearScale\"},{\"attributes\":{\"ticker\":null},\"id\":\"3497\",\"type\":\"LogTickFormatter\"},{\"attributes\":{\"dimension\":1,\"plot\":{\"id\":\"3339\",\"subtype\":\"Figure\",\"type\":\"Plot\"},\"ticker\":{\"id\":\"3354\",\"type\":\"BasicTicker\"}},\"id\":\"3357\",\"type\":\"Grid\"},{\"attributes\":{},\"id\":\"3499\",\"type\":\"BasicTickFormatter\"},{\"attributes\":{\"data\":null,\"x\":[52428.0,1340968737.0],\"y\":[5,50]},\"id\":\"2744\",\"type\":\"LinearInterpolator\"}],\"root_ids\":[\"3339\"]},\"title\":\"Bokeh Application\",\"version\":\"1.0.1\"}};\n",
       "  var render_items = [{\"docid\":\"b209f17d-a68c-4c59-9246-8605a485e6b2\",\"roots\":{\"3339\":\"efb7b06b-87b1-4c86-b1e4-d937e1d885ba\"}}];\n",
       "  root.Bokeh.embed.embed_items_notebook(docs_json, render_items);\n",
       "\n",
       "  }\n",
       "  if (root.Bokeh !== undefined) {\n",
       "    embed_document(root);\n",
       "  } else {\n",
       "    var attempts = 0;\n",
       "    var timer = setInterval(function(root) {\n",
       "      if (root.Bokeh !== undefined) {\n",
       "        embed_document(root);\n",
       "        clearInterval(timer);\n",
       "      }\n",
       "      attempts++;\n",
       "      if (attempts > 100) {\n",
       "        console.log(\"Bokeh: ERROR: Unable to run BokehJS code because BokehJS library is missing\");\n",
       "        clearInterval(timer);\n",
       "      }\n",
       "    }, 10, root)\n",
       "  }\n",
       "})(window);"
      ],
      "application/vnd.bokehjs_exec.v0+json": ""
     },
     "metadata": {
      "application/vnd.bokehjs_exec.v0+json": {
       "id": "3339"
      }
     },
     "output_type": "display_data"
    }
   ],
   "source": [
    "#Plot again, using the size_mapper transformer\n",
    "hover = HoverTool(tooltips='@Country')\n",
    "p = figure(**PLOT_OPS,tools=[hover])\n",
    "p.circle(x='income',\n",
    "         y='life',\n",
    "         source=theCDS2,\n",
    "         #Map the size to the pop'n field, applying the transform\n",
    "         size={'field':'population','transform':size_mapper},\n",
    "         color='green',\n",
    "         alpha=0.6)\n",
    "show(p)"
   ]
  },
  {
   "cell_type": "markdown",
   "metadata": {},
   "source": [
    "## Coloring our point features\n",
    "Giving our point elements a meaningful size already increases the amount of information communicated by our data. But each point is still colored the same, overlooking another dimension of our data we can show. So now let's look at how we can assign meaningful color to the data in our plot. \n",
    "\n",
    "To do this we need to import another Bokeh model: the [`CategoricalColorMapper`](https://bokeh.pydata.org/en/latest/docs/reference/models/mappers.html#bokeh-models-mappers). This object allows us to link each value in a list we provide - we'll use countries - to a color in a color palette we specify. The list of color palettes we can use are provided [here](https://bokeh.pydata.org/en/latest/docs/reference/palettes.html). "
   ]
  },
  {
   "cell_type": "code",
   "execution_count": 43,
   "metadata": {},
   "outputs": [],
   "source": [
    "#import the CategoricalColorMapper object\n",
    "from bokeh.models import CategoricalColorMapper"
   ]
  },
  {
   "cell_type": "code",
   "execution_count": 51,
   "metadata": {},
   "outputs": [],
   "source": [
    "#import all the Bokeh pallettes\n",
    "from bokeh.palettes import *"
   ]
  },
  {
   "cell_type": "code",
   "execution_count": 55,
   "metadata": {},
   "outputs": [],
   "source": [
    "#Get the categorical data for our colors: \n",
    "regionList = list(data.loc[2010]['region'].unique())"
   ]
  },
  {
   "cell_type": "code",
   "execution_count": 57,
   "metadata": {},
   "outputs": [],
   "source": [
    "#Link each item in our countries list to a color in a colormap\n",
    "color_mapper = CategoricalColorMapper(factors=regionList,palette=Spectral6)"
   ]
  },
  {
   "cell_type": "code",
   "execution_count": 61,
   "metadata": {},
   "outputs": [
    {
     "data": {
      "text/html": [
       "\n",
       "\n",
       "\n",
       "\n",
       "\n",
       "\n",
       "  <div class=\"bk-root\" id=\"e620506e-1de9-405f-a7d2-6cade92d3941\"></div>\n"
      ]
     },
     "metadata": {},
     "output_type": "display_data"
    },
    {
     "data": {
      "application/javascript": [
       "(function(root) {\n",
       "  function embed_document(root) {\n",
       "    \n",
       "  var docs_json = {\"5e1583dc-c865-447a-88fd-a0031a4683fc\":{\"roots\":{\"references\":[{\"attributes\":{\"below\":[{\"id\":\"3144\",\"type\":\"LogAxis\"}],\"left\":[{\"id\":\"3149\",\"type\":\"LinearAxis\"}],\"plot_height\":200,\"renderers\":[{\"id\":\"3144\",\"type\":\"LogAxis\"},{\"id\":\"3148\",\"type\":\"Grid\"},{\"id\":\"3149\",\"type\":\"LinearAxis\"},{\"id\":\"3153\",\"type\":\"Grid\"},{\"id\":\"3159\",\"type\":\"GlyphRenderer\"}],\"title\":{\"id\":\"3283\",\"type\":\"Title\"},\"toolbar\":{\"id\":\"3154\",\"type\":\"Toolbar\"},\"x_range\":{\"id\":\"3136\",\"type\":\"Range1d\"},\"x_scale\":{\"id\":\"3140\",\"type\":\"LogScale\"},\"y_range\":{\"id\":\"3138\",\"type\":\"Range1d\"},\"y_scale\":{\"id\":\"3142\",\"type\":\"LinearScale\"}},\"id\":\"3135\",\"subtype\":\"Figure\",\"type\":\"Plot\"},{\"attributes\":{\"fill_alpha\":{\"value\":0.1},\"fill_color\":{\"value\":\"#1f77b4\"},\"line_alpha\":{\"value\":0.1},\"line_color\":{\"value\":\"#1f77b4\"},\"size\":{\"field\":\"population\",\"transform\":{\"id\":\"2744\",\"type\":\"LinearInterpolator\"},\"units\":\"screen\"},\"x\":{\"field\":\"income\"},\"y\":{\"field\":\"life\"}},\"id\":\"3158\",\"type\":\"Circle\"},{\"attributes\":{},\"id\":\"3140\",\"type\":\"LogScale\"},{\"attributes\":{\"ticker\":null},\"id\":\"3285\",\"type\":\"LogTickFormatter\"},{\"attributes\":{\"active_drag\":\"auto\",\"active_inspect\":\"auto\",\"active_multi\":null,\"active_scroll\":\"auto\",\"active_tap\":\"auto\",\"tools\":[{\"id\":\"3134\",\"type\":\"HoverTool\"}]},\"id\":\"3154\",\"type\":\"Toolbar\"},{\"attributes\":{\"factors\":[\"South Asia\",\"Europe & Central Asia\",\"Middle East & North Africa\",\"Sub-Saharan Africa\",\"America\",\"East Asia & Pacific\"],\"palette\":[\"#3288bd\",\"#99d594\",\"#e6f598\",\"#fee08b\",\"#fc8d59\",\"#d53e4f\"]},\"id\":\"2749\",\"type\":\"CategoricalColorMapper\"},{\"attributes\":{\"dimension\":1,\"plot\":{\"id\":\"3135\",\"subtype\":\"Figure\",\"type\":\"Plot\"},\"ticker\":{\"id\":\"3150\",\"type\":\"BasicTicker\"}},\"id\":\"3153\",\"type\":\"Grid\"},{\"attributes\":{\"fill_alpha\":{\"value\":0.6},\"fill_color\":{\"field\":\"region\",\"transform\":{\"id\":\"2749\",\"type\":\"CategoricalColorMapper\"}},\"line_alpha\":{\"value\":0.6},\"line_color\":{\"field\":\"region\",\"transform\":{\"id\":\"2749\",\"type\":\"CategoricalColorMapper\"}},\"size\":{\"field\":\"population\",\"transform\":{\"id\":\"2744\",\"type\":\"LinearInterpolator\"},\"units\":\"screen\"},\"x\":{\"field\":\"income\"},\"y\":{\"field\":\"life\"}},\"id\":\"3157\",\"type\":\"Circle\"},{\"attributes\":{},\"id\":\"1476\",\"type\":\"UnionRenderers\"},{\"attributes\":{\"callback\":null,\"data\":{\"Country\":[\"Afghanistan\",\"Albania\",\"Algeria\",\"Andorra\",\"Angola\",\"Antigua and Barbuda\",\"Argentina\",\"Armenia\",\"Australia\",\"Austria\",\"Azerbaijan\",\"Bahamas\",\"Bahrain\",\"Bangladesh\",\"Barbados\",\"Belarus\",\"Belgium\",\"Belize\",\"Benin\",\"Bhutan\",\"Bolivia\",\"Bosnia and Herzegovina\",\"Botswana\",\"Brazil\",\"Brunei\",\"Bulgaria\",\"Burkina Faso\",\"Burundi\",\"Cambodia\",\"Cameroon\",\"Canada\",\"Cape Verde\",\"Chad\",\"Chile\",\"China\",\"Colombia\",\"Comoros\",\"Congo, Dem. Rep.\",\"Congo, Rep.\",\"Costa Rica\",\"Cote d'Ivoire\",\"Croatia\",\"Cuba\",\"Cyprus\",\"Denmark\",\"Djibouti\",\"Dominica\",\"Ecuador\",\"Egypt\",\"El Salvador\",\"Equatorial Guinea\",\"Eritrea\",\"Estonia\",\"Ethiopia\",\"Fiji\",\"Finland\",\"France\",\"Gabon\",\"Gambia\",\"Georgia\",\"Germany\",\"Ghana\",\"Greece\",\"Grenada\",\"Guatemala\",\"Guinea\",\"Guinea-Bissau\",\"Guyana\",\"Haiti\",\"Honduras\",\"Hungary\",\"Iceland\",\"India\",\"Indonesia\",\"Iran\",\"Iraq\",\"Ireland\",\"Israel\",\"Italy\",\"Jamaica\",\"Japan\",\"Jordan\",\"Kazakhstan\",\"Kenya\",\"Kiribati\",\"Kuwait\",\"Latvia\",\"Lebanon\",\"Lesotho\",\"Liberia\",\"Libya\",\"Lithuania\",\"Luxembourg\",\"Macedonia, FYR\",\"Madagascar\",\"Malawi\",\"Malaysia\",\"Maldives\",\"Mali\",\"Malta\",\"Marshall Islands\",\"Mauritania\",\"Mauritius\",\"Mexico\",\"Micronesia, Fed. Sts.\",\"Moldova\",\"Mongolia\",\"Montenegro\",\"Morocco\",\"Mozambique\",\"Myanmar\",\"Namibia\",\"Nepal\",\"Netherlands\",\"New Zealand\",\"Nicaragua\",\"Niger\",\"Nigeria\",\"Norway\",\"Oman\",\"Pakistan\",\"Panama\",\"Papua New Guinea\",\"Paraguay\",\"Peru\",\"Philippines\",\"Poland\",\"Portugal\",\"Qatar\",\"Romania\",\"Russia\",\"Rwanda\",\"Samoa\",\"Sao Tome and Principe\",\"Saudi Arabia\",\"Senegal\",\"Serbia\",\"Seychelles\",\"Sierra Leone\",\"Singapore\",\"Slovak Republic\",\"Slovenia\",\"Solomon Islands\",\"Somalia\",\"South Africa\",\"South Sudan\",\"Spain\",\"Sri Lanka\",\"Sudan\",\"Suriname\",\"Swaziland\",\"Sweden\",\"Switzerland\",\"Syria\",\"Taiwan\",\"Tajikistan\",\"Tanzania\",\"Thailand\",\"Timor-Leste\",\"Togo\",\"Tonga\",\"Trinidad and Tobago\",\"Tunisia\",\"Turkey\",\"Turkmenistan\",\"Uganda\",\"Ukraine\",\"United Arab Emirates\",\"United Kingdom\",\"United States\",\"Uruguay\",\"Uzbekistan\",\"Vanuatu\",\"Venezuela\",\"Vietnam\",\"West Bank and Gaza\",\"Zambia\",\"Zimbabwe\"],\"Year\":[2010,2010,2010,2010,2010,2010,2010,2010,2010,2010,2010,2010,2010,2010,2010,2010,2010,2010,2010,2010,2010,2010,2010,2010,2010,2010,2010,2010,2010,2010,2010,2010,2010,2010,2010,2010,2010,2010,2010,2010,2010,2010,2010,2010,2010,2010,2010,2010,2010,2010,2010,2010,2010,2010,2010,2010,2010,2010,2010,2010,2010,2010,2010,2010,2010,2010,2010,2010,2010,2010,2010,2010,2010,2010,2010,2010,2010,2010,2010,2010,2010,2010,2010,2010,2010,2010,2010,2010,2010,2010,2010,2010,2010,2010,2010,2010,2010,2010,2010,2010,2010,2010,2010,2010,2010,2010,2010,2010,2010,2010,2010,2010,2010,2010,2010,2010,2010,2010,2010,2010,2010,2010,2010,2010,2010,2010,2010,2010,2010,2010,2010,2010,2010,2010,2010,2010,2010,2010,2010,2010,2010,2010,2010,2010,2010,2010,2010,2010,2010,2010,2010,2010,2010,2010,2010,2010,2010,2010,2010,2010,2010,2010,2010,2010,2010,2010,2010,2010,2010,2010,2010,2010,2010,2010,2010,2010,2010,2010],\"income\":{\"__ndarray__\":\"AAAAAACUmUAAAAAAAE/CQAAAAAAAZ8hAAAAAAMAI40AAAAAAAIe7QAAAAADAFdRAAAAAAIDKzkAAAAAAAGy5QAAAAABALuRAAAAAAKDt5EAAAAAAACfPQAAAAADAYNZAAAAAACDN40AAAAAAADajQAAAAACA4M1AAAAAAICrzkAAAAAAgOfjQAAAAACACMBAAAAAAACUmUAAAAAAAHS5QAAAAAAAn7RAAAAAAIDcwUAAAAAAAKXKQAAAAAAAosxAAAAAAMA+8UAAAAAAABPNQAAAAAAAXJZAAAAAAACohkAAAAAAAKKjQAAAAAAAFqRAAAAAAKDo40AAAAAAAHW3QAAAAAAAhJ5AAAAAAADB0kAAAAAAAGvCQAAAAACADMVAAAAAAABIlkAAAAAAAMCDQAAAAAAAnbVAAAAAAAARyEAAAAAAAJimQAAAAABAhdNAAAAAAEAL0kAAAAAAYHrgQAAAAACg/uRAAAAAAADSpEAAAAAAgEPEQAAAAACAL8JAAAAAAIC7xEAAAAAAAEW8QAAAAADgz+BAAAAAAADskEAAAAAAgDPVQAAAAAAA5JBAAAAAAAC6u0AAAAAAIEDjQAAAAAAg8eFAAAAAAAA3z0AAAAAAAAyaQAAAAAAAMrdAAAAAAADX40AAAAAAACaoQAAAAACAgdxAAAAAAADVxUAAAAAAAMG6QAAAAAAAhJJAAAAAAABglUAAAAAAAKa1QAAAAAAAuJdAAAAAAACusEAAAAAAgIvVQAAAAAAg8+JAAAAAAADDsUAAAAAAAJnAQAAAAAAAldBAAAAAAAAVyEAAAAAAgGrlQAAAAABA0dxAAAAAACB14UAAAAAAAFnAQAAAAACAzOBAAAAAAAD8xUAAAAAAQCTTQAAAAAAAjqNAAAAAAAAEm0AAAAAAUGbyQAAAAAAAudFAAAAAAIDDz0AAAAAAAHahQAAAAAAAiIVAAAAAAECN3UAAAAAAgEXUQAAAAACwQPZAAAAAAIDVxUAAAAAAALiVQAAAAAAACIdAAAAAAIDr00AAAAAAAM3GQAAAAAAAAJpAAAAAAIBA20AAAAAAAHSrQAAAAAAAxqlAAAAAAIB3zkAAAAAAADLOQAAAAAAAEqpAAAAAAACqrkAAAAAAABy+QAAAAAAArMpAAAAAAABCuUAAAAAAABCNQAAAAAAACqhAAAAAAIB4wEAAAAAAADyfQAAAAABgYuZAAAAAAAAU30AAAAAAAPyuQAAAAAAASIpAAAAAAAD6s0AAAAAAQLzuQAAAAACABOhAAAAAAAB8sEAAAAAAgCTNQAAAAAAA5qBAAAAAAABgu0AAAAAAgF3DQAAAAAAA7rVAAAAAAADU1EAAAAAAQMDaQAAAAAAAP/9AAAAAAAB+0EAAAAAAACjVQAAAAAAAuJNAAAAAAAAdtUAAAAAAAG6lQAAAAADAQ+ZAAAAAAAAMoUAAAAAAgAbIQAAAAAAA49NAAAAAAAAMlUAAAAAAgJfxQAAAAACA3ddAAAAAAEC220AAAAAAAOybQAAAAAAAMINAAAAAAICbx0AAAAAAAPytQAAAAABAHOBAAAAAAACUvUAAAAAAAKSpQAAAAACA+stAAAAAAADmtkAAAAAAQPLkQAAAAADgdOpAAAAAAADLuUAAAAAAoBXjQAAAAAAAfKBAAAAAAAC+oEAAAAAAAAvJQAAAAAAAxJtAAAAAAAB4k0AAAAAAAFGzQAAAAABAotxAAAAAAIBVxEAAAAAAgEjQQAAAAAAAmMNAAAAAAACsl0AAAAAAAKS+QAAAAACAqOtAAAAAAACy4UAAAAAAoBvoQAAAAADAsdBAAAAAAABZsEAAAAAAAAinQAAAAAAAJtBAAAAAAACGsUAAAAAAAEOwQAAAAAAA9qpAAAAAAAAwl0A=\",\"dtype\":\"float64\",\"shape\":[178]},\"life\":{\"__ndarray__\":\"ZmZmZmZmS0DNzMzMzMxSQJqZmZmZ+VJAzczMzMzsVEAzMzMzM7NNQM3MzMzMzFJAMzMzMzPzUkCamZmZmTlSQM3MzMzMbFRAAAAAAAAgVECamZmZmdlRQJqZmZmZGVJAzczMzMyMU0BmZmZmZiZRQJqZmZmZ2VJAzczMzMyMUUAzMzMzM/NTQGZmZmZmhlFAAAAAAAAAUEAzMzMzMxNRQDMzMzMz01FAAAAAAAAgU0AAAAAAACBQQM3MzMzMjFJAAAAAAACgU0BmZmZmZmZSQJqZmZmZWU5AmpmZmZlZTUCamZmZmblQQAAAAAAAwExAZmZmZmZGVECamZmZmVlSQJqZmZmZGUxAMzMzMzOzU0CamZmZmflSQDMzMzMz01JAAAAAAACAT0BmZmZmZiZMQGZmZmZmJk5AZmZmZmbmU0CamZmZmZlMQM3MzMzMTFNAAAAAAACAU0BmZmZmZmZUQDMzMzMz01NAZmZmZmbmTkCamZmZmZlSQM3MzMzMjFJAMzMzMzOTUUAzMzMzM3NSQJqZmZmZmUxAAAAAAACATkAzMzMzM/NSQAAAAAAAgE5AmpmZmZl5UEAAAAAAAABUQM3MzMzMTFRAAAAAAADATEAAAAAAAIBPQJqZmZmZGVJAzczMzMwMVEAAAAAAAMBPQGZmZmZm5lNAzczMzMzMUUAzMzMzM7NRQM3MzMzMjE1AAAAAAAAASkBmZmZmZqZPQAAAAAAAgEJAMzMzMzPTUUDNzMzMzKxSQAAAAAAAoFRAZmZmZmZGUEAzMzMzM3NRQJqZmZmZeVNAMzMzMzMTUUCamZmZmflTQAAAAAAAYFRAmpmZmZl5VEAAAAAAAOBSQAAAAAAAwFRAZmZmZmZmU0BmZmZmZsZQQM3MzMzMjE9AAAAAAADATkBmZmZmZsZTQAAAAAAAgFJAAAAAAACAU0AzMzMzM7NHQJqZmZmZ2U5AZmZmZmbmUkCamZmZmXlSQAAAAAAAQFRAMzMzMzPzUkBmZmZmZuZPQGZmZmZm5kpAMzMzMzOTUkCamZmZmblTQAAAAAAAQExAMzMzMzNzVEBmZmZmZgZQQM3MzMzMDFBAmpmZmZkZUkDNzMzMzOxSQJqZmZmZmVBAzczMzMyMUUBmZmZmZuZPQM3MzMzMzFJAzczMzMxsUkCamZmZmdlLQAAAAAAAgFBAAAAAAADATUAAAAAAAGBRQAAAAAAAIFRAAAAAAAAgVEAzMzMzM/NSQJqZmZmZWU5AZmZmZmZmTUCamZmZmTlUQAAAAAAAwFJAzczMzMwsUEDNzMzMzExTQJqZmZmZWU1AmpmZmZlZUkAzMzMzMzNTQM3MzMzMbFFAZmZmZmYGU0AAAAAAAOBTQDMzMzMzU1RAAAAAAACAUkDNzMzMzCxRQJqZmZmZ2U9AZmZmZmbmUUBmZmZmZuZQQM3MzMzMbFNAAAAAAABAUEAAAAAAAEBTQDMzMzMzM1JAAAAAAABATEAAAAAAAGBUQAAAAAAA4FJAAAAAAADgU0AAAAAAAIBPQDMzMzMzc0xAmpmZmZlZTEAAAAAAAEBMQGZmZmZmZlRAzczMzMzsUkAAAAAAAABRQAAAAAAAYFFAZmZmZmbmR0AAAAAAAGBUQDMzMzMzk1RAzczMzMwsU0AzMzMzM7NTQJqZmZmZeVFAMzMzMzNzTkBmZmZmZqZSQDMzMzMzc1FAAAAAAACATkBmZmZmZoZRQGZmZmZmxlFAMzMzMzMzU0DNzMzMzOxSQGZmZmZmplBAMzMzMzMzTUCamZmZmZlRQM3MzMzMDFNAAAAAAAAAVEAAAAAAAKBTQAAAAAAAIFNAZmZmZmZGUUAAAAAAAABQQM3MzMzMrFJAMzMzMzPzUkAAAAAAAIBSQM3MzMzMDEtAMzMzMzMzSUA=\",\"dtype\":\"float64\",\"shape\":[178]},\"population\":{\"__ndarray__\":\"AAAA8LWqekEAAACAvSNGQQAAAPjxLoFBAAAAADCc9EAAAAAgpzx0QQAAAAAQTPVAAAAA2Baog0EAAAAAFJxGQQAAAPDaInVBAAAAQKYBYEEAAACgTlthQQAAAAD4BRZBAAAAAAc/M0EAAAAS+hKiQQAAAAA4EBFBAAAAQNMaYkEAAABA59hkQQAAAAAkoRNBAAAAwHQjYkEAAAAA7PolQQAAAKDk6mJBAAAAAL1CTUEAAAAAVz8/QQAAAIA5radBAAAAAFgBGEEAAABAsEFcQQAAAEDY0G1BAAAAoK8LYkEAAABAeGVrQQAAAKAEo3NBAAAA6MpFgEEAAAAALO4dQQAAAIDHsGZBAAAAgBA6cEEAAEDIY/vTQQAAAKg85YVBAAAAAI5SJUEAAADAKHGPQQAAAACPBU9BAAAAQL5WUUEAAACw9zJzQQAAAEBCd1BBAAAAoIyRZUEAAAAARdcwQQAAAMDbLFVBAAAAAKRaKUEAAAAA8F/xQAAAAIBUfGxBAAAAiGKPk0EAAACAyAhXQQAAAAAMPSZBAAAAAMDjUUEAAAAAeVM0QQAAAFhZ4JRBAAAAAGA+KkEAAABA43lUQQAAAICvBY5BAAAAADCHN0EAAAAAStU5QQAAAACFNlBBAAAArGEtk0EAAABg8jB3QQAAAKDEUWVBAAAAAFCO+UAAAACgfBlsQQAAAMAmAWVBAAAAAJTvOEEAAAAApP0mQQAAACCgEmNBAAAAwACgXEEAAAAg9RljQQAAAABoaRNBAAAATtVX0kEAAACMcs2sQQAAAPQQtJFBAAAAwCtwfUEAAACAHZ1RQQAAAAB0TlxBAAAAOO1pjEEAAACAAupEQQAAAOj7Wp5BAAAAACbdWEEAAAAALBxvQQAAAMjjOoNBAAAAAIAP+UAAAACAiFdHQQAAAAAX5j9BAAAAAIGLUEEAAAAA2q0+QQAAAABzMk5BAAAAQNjmV0EAAACASdNHQQAAAADE/x5BAAAAAGt4P0EAAADAXhp0QQAAAADUK2xBAAAAwBzRekEAAAAAfEwUQQAAAMDm7WxBAAAAAIAmGUEAAAAAgJnpQAAAAAB0ZktBAAAAAM8KM0EAAAAY10ecQQAAAAAwTPlAAAAAgIEpT0EAAACAKLJEQQAAAAAA+yJBAAAAsM2efkEAAAAQ2zF3QQAAAKgQq4hBAAAAgHW8QEEAAABggKF5QQAAAGDiuG9BAAAAwKCqUEEAAACAPuNVQQAAAMASE29BAAAAzEEBo0EAAADAnKhSQQAAAICBdUZBAAAAHFRFpEEAAAAATZ9LQQAAAEAHH1pBAAAAQFWwV0EAAADATAN8QQAAANikLpZBAAAA0NJkgkEAAACgYDBkQQAAAACJ8DpBAAAAYMVbc0EAAACm1hChQQAAAKA0omNBAAAAAGi1BkEAAAAAANwEQQAAAHARynpBAAAA4I62aEEAAADAXEdhQQAAAACQufZAAAAAgIcIVkEAAABA7F9TQQAAAAAsoFRBAAAAAIBRP0EAAAAAwg4gQQAAAECSRmJBAAAA0HadiEEAAABgYy5jQQAAAKCoOIZBAAAAAPZDc0EAAAAojjiBQQAAAAD0nx9BAAAAALw0MkEAAAAgM+VhQQAAAIAB311BAAAAoL3Cc0EAAACAVvV1QQAAAAAA7FxBAAAAaFTEhUEAAADAHc2PQQAAAABiITBBAAAAwBBhWEEAAAAAsGD5QAAAAADfQzRBAAAAQOtKZEEAAABAej2RQQAAAMDSO1NBAAAAkB6df0EAAABINMSFQQAAAEA7xl9BAAAAYNjnjUEAAADKVXiyQQAAAACnvklBAAAAQGd0ekEAAAAAWNgMQQAAABAKp3tBAAAAPO4QlUEAAAAA1gpPQQAAAOCfi2pBAAAAIDGnakE=\",\"dtype\":\"float64\",\"shape\":[178]},\"region\":[\"South Asia\",\"Europe & Central Asia\",\"Middle East & North Africa\",\"Europe & Central Asia\",\"Sub-Saharan Africa\",\"America\",\"America\",\"Europe & Central Asia\",\"East Asia & Pacific\",\"Europe & Central Asia\",\"Europe & Central Asia\",\"America\",\"Middle East & North Africa\",\"South Asia\",\"America\",\"Europe & Central Asia\",\"Europe & Central Asia\",\"America\",\"Sub-Saharan Africa\",\"South Asia\",\"America\",\"Europe & Central Asia\",\"Sub-Saharan Africa\",\"America\",\"East Asia & Pacific\",\"Europe & Central Asia\",\"Sub-Saharan Africa\",\"Sub-Saharan Africa\",\"East Asia & Pacific\",\"Sub-Saharan Africa\",\"America\",\"Sub-Saharan Africa\",\"Sub-Saharan Africa\",\"America\",\"East Asia & Pacific\",\"America\",\"Sub-Saharan Africa\",\"Sub-Saharan Africa\",\"Sub-Saharan Africa\",\"America\",\"Sub-Saharan Africa\",\"Europe & Central Asia\",\"America\",\"Europe & Central Asia\",\"Europe & Central Asia\",\"Middle East & North Africa\",\"America\",\"America\",\"Middle East & North Africa\",\"America\",\"Sub-Saharan Africa\",\"Sub-Saharan Africa\",\"Europe & Central Asia\",\"Sub-Saharan Africa\",\"East Asia & Pacific\",\"Europe & Central Asia\",\"Europe & Central Asia\",\"Sub-Saharan Africa\",\"Sub-Saharan Africa\",\"Europe & Central Asia\",\"Europe & Central Asia\",\"Sub-Saharan Africa\",\"Europe & Central Asia\",\"America\",\"America\",\"Sub-Saharan Africa\",\"Sub-Saharan Africa\",\"America\",\"America\",\"America\",\"Europe & Central Asia\",\"Europe & Central Asia\",\"South Asia\",\"East Asia & Pacific\",\"Middle East & North Africa\",\"Middle East & North Africa\",\"Europe & Central Asia\",\"Middle East & North Africa\",\"Europe & Central Asia\",\"America\",\"East Asia & Pacific\",\"Middle East & North Africa\",\"Europe & Central Asia\",\"Sub-Saharan Africa\",\"East Asia & Pacific\",\"Middle East & North Africa\",\"Europe & Central Asia\",\"Middle East & North Africa\",\"Sub-Saharan Africa\",\"Sub-Saharan Africa\",\"Middle East & North Africa\",\"Europe & Central Asia\",\"Europe & Central Asia\",\"Europe & Central Asia\",\"Sub-Saharan Africa\",\"Sub-Saharan Africa\",\"East Asia & Pacific\",\"South Asia\",\"Sub-Saharan Africa\",\"Europe & Central Asia\",\"East Asia & Pacific\",\"Sub-Saharan Africa\",\"Sub-Saharan Africa\",\"America\",\"East Asia & Pacific\",\"Europe & Central Asia\",\"East Asia & Pacific\",\"Europe & Central Asia\",\"Middle East & North Africa\",\"Sub-Saharan Africa\",\"East Asia & Pacific\",\"Sub-Saharan Africa\",\"South Asia\",\"Europe & Central Asia\",\"East Asia & Pacific\",\"America\",\"Sub-Saharan Africa\",\"Sub-Saharan Africa\",\"Europe & Central Asia\",\"Middle East & North Africa\",\"South Asia\",\"America\",\"East Asia & Pacific\",\"America\",\"America\",\"East Asia & Pacific\",\"Europe & Central Asia\",\"Europe & Central Asia\",\"Middle East & North Africa\",\"Europe & Central Asia\",\"Europe & Central Asia\",\"Sub-Saharan Africa\",\"East Asia & Pacific\",\"Sub-Saharan Africa\",\"Middle East & North Africa\",\"Sub-Saharan Africa\",\"Europe & Central Asia\",\"Sub-Saharan Africa\",\"Sub-Saharan Africa\",\"East Asia & Pacific\",\"Europe & Central Asia\",\"Europe & Central Asia\",\"East Asia & Pacific\",\"Sub-Saharan Africa\",\"Sub-Saharan Africa\",\"Sub-Saharan Africa\",\"Europe & Central Asia\",\"South Asia\",\"Sub-Saharan Africa\",\"America\",\"Sub-Saharan Africa\",\"Europe & Central Asia\",\"Europe & Central Asia\",\"Middle East & North Africa\",\"East Asia & Pacific\",\"Europe & Central Asia\",\"Sub-Saharan Africa\",\"East Asia & Pacific\",\"East Asia & Pacific\",\"Sub-Saharan Africa\",\"East Asia & Pacific\",\"America\",\"Middle East & North Africa\",\"Europe & Central Asia\",\"Europe & Central Asia\",\"Sub-Saharan Africa\",\"Europe & Central Asia\",\"Middle East & North Africa\",\"Europe & Central Asia\",\"America\",\"America\",\"Europe & Central Asia\",\"East Asia & Pacific\",\"America\",\"East Asia & Pacific\",\"Middle East & North Africa\",\"Sub-Saharan Africa\",\"Sub-Saharan Africa\"]},\"selected\":{\"id\":\"1477\",\"type\":\"Selection\"},\"selection_policy\":{\"id\":\"1476\",\"type\":\"UnionRenderers\"}},\"id\":\"1409\",\"type\":\"ColumnDataSource\"},{\"attributes\":{},\"id\":\"1477\",\"type\":\"Selection\"},{\"attributes\":{\"callback\":null,\"renderers\":\"auto\",\"tooltips\":\"@Country\"},\"id\":\"3134\",\"type\":\"HoverTool\"},{\"attributes\":{\"callback\":null,\"end\":100000,\"start\":100},\"id\":\"3136\",\"type\":\"Range1d\"},{\"attributes\":{\"data_source\":{\"id\":\"1409\",\"type\":\"ColumnDataSource\"},\"glyph\":{\"id\":\"3157\",\"type\":\"Circle\"},\"hover_glyph\":null,\"muted_glyph\":null,\"nonselection_glyph\":{\"id\":\"3158\",\"type\":\"Circle\"},\"selection_glyph\":null,\"view\":{\"id\":\"3160\",\"type\":\"CDSView\"}},\"id\":\"3159\",\"type\":\"GlyphRenderer\"},{\"attributes\":{\"source\":{\"id\":\"1409\",\"type\":\"ColumnDataSource\"}},\"id\":\"3160\",\"type\":\"CDSView\"},{\"attributes\":{\"plot\":null,\"text\":\"\"},\"id\":\"3283\",\"type\":\"Title\"},{\"attributes\":{\"num_minor_ticks\":10},\"id\":\"3145\",\"type\":\"LogTicker\"},{\"attributes\":{},\"id\":\"3142\",\"type\":\"LinearScale\"},{\"attributes\":{\"plot\":{\"id\":\"3135\",\"subtype\":\"Figure\",\"type\":\"Plot\"},\"ticker\":{\"id\":\"3145\",\"type\":\"LogTicker\"}},\"id\":\"3148\",\"type\":\"Grid\"},{\"attributes\":{\"formatter\":{\"id\":\"3287\",\"type\":\"BasicTickFormatter\"},\"plot\":{\"id\":\"3135\",\"subtype\":\"Figure\",\"type\":\"Plot\"},\"ticker\":{\"id\":\"3150\",\"type\":\"BasicTicker\"}},\"id\":\"3149\",\"type\":\"LinearAxis\"},{\"attributes\":{\"formatter\":{\"id\":\"3285\",\"type\":\"LogTickFormatter\"},\"plot\":{\"id\":\"3135\",\"subtype\":\"Figure\",\"type\":\"Plot\"},\"ticker\":{\"id\":\"3145\",\"type\":\"LogTicker\"}},\"id\":\"3144\",\"type\":\"LogAxis\"},{\"attributes\":{\"callback\":null,\"end\":100},\"id\":\"3138\",\"type\":\"Range1d\"},{\"attributes\":{},\"id\":\"3287\",\"type\":\"BasicTickFormatter\"},{\"attributes\":{},\"id\":\"3150\",\"type\":\"BasicTicker\"},{\"attributes\":{\"data\":null,\"x\":[52428.0,1340968737.0],\"y\":[5,50]},\"id\":\"2744\",\"type\":\"LinearInterpolator\"}],\"root_ids\":[\"3135\"]},\"title\":\"Bokeh Application\",\"version\":\"1.0.1\"}};\n",
       "  var render_items = [{\"docid\":\"5e1583dc-c865-447a-88fd-a0031a4683fc\",\"roots\":{\"3135\":\"e620506e-1de9-405f-a7d2-6cade92d3941\"}}];\n",
       "  root.Bokeh.embed.embed_items_notebook(docs_json, render_items);\n",
       "\n",
       "  }\n",
       "  if (root.Bokeh !== undefined) {\n",
       "    embed_document(root);\n",
       "  } else {\n",
       "    var attempts = 0;\n",
       "    var timer = setInterval(function(root) {\n",
       "      if (root.Bokeh !== undefined) {\n",
       "        embed_document(root);\n",
       "        clearInterval(timer);\n",
       "      }\n",
       "      attempts++;\n",
       "      if (attempts > 100) {\n",
       "        console.log(\"Bokeh: ERROR: Unable to run BokehJS code because BokehJS library is missing\");\n",
       "        clearInterval(timer);\n",
       "      }\n",
       "    }, 10, root)\n",
       "  }\n",
       "})(window);"
      ],
      "application/vnd.bokehjs_exec.v0+json": ""
     },
     "metadata": {
      "application/vnd.bokehjs_exec.v0+json": {
       "id": "3135"
      }
     },
     "output_type": "display_data"
    }
   ],
   "source": [
    "#Plot again, now using the color_mapper we just created\n",
    "hover = HoverTool(tooltips='@Country')\n",
    "p = figure(**PLOT_OPS,tools=[hover])\n",
    "p.circle(x='income',\n",
    "         y='life',\n",
    "         source=theCDS2,\n",
    "         size={'field':'population','transform':size_mapper},\n",
    "         #Map the color to the region field, using the color_mapper\n",
    "         color={'field':'region','transform':color_mapper},\n",
    "         alpha=0.6)\n",
    "show(p)"
   ]
  },
  {
   "cell_type": "markdown",
   "metadata": {},
   "source": [
    "## Adding a legend\n",
    "To add a legend, we simply add a new attribute to our plot: `legend='region'` (where `region` is the field we want to add)."
   ]
  },
  {
   "cell_type": "code",
   "execution_count": 76,
   "metadata": {},
   "outputs": [
    {
     "data": {
      "text/html": [
       "\n",
       "\n",
       "\n",
       "\n",
       "\n",
       "\n",
       "  <div class=\"bk-root\" id=\"1b5a58e1-ef14-481e-aab7-d43a1416f9a0\"></div>\n"
      ]
     },
     "metadata": {},
     "output_type": "display_data"
    },
    {
     "data": {
      "application/javascript": [
       "(function(root) {\n",
       "  function embed_document(root) {\n",
       "    \n",
       "  var docs_json = {\"cc957591-0f96-41ce-a418-3514d8418f53\":{\"roots\":{\"references\":[{\"attributes\":{\"below\":[{\"id\":\"5887\",\"type\":\"LogAxis\"}],\"left\":[{\"id\":\"5892\",\"type\":\"LinearAxis\"}],\"plot_height\":200,\"renderers\":[{\"id\":\"5887\",\"type\":\"LogAxis\"},{\"id\":\"5891\",\"type\":\"Grid\"},{\"id\":\"5892\",\"type\":\"LinearAxis\"},{\"id\":\"5896\",\"type\":\"Grid\"},{\"id\":\"5910\",\"type\":\"Legend\"},{\"id\":\"5902\",\"type\":\"GlyphRenderer\"}],\"right\":[{\"id\":\"5910\",\"type\":\"Legend\"}],\"title\":{\"id\":\"5905\",\"type\":\"Title\"},\"toolbar\":{\"id\":\"5897\",\"type\":\"Toolbar\"},\"x_range\":{\"id\":\"5879\",\"type\":\"Range1d\"},\"x_scale\":{\"id\":\"5883\",\"type\":\"LogScale\"},\"y_range\":{\"id\":\"5881\",\"type\":\"Range1d\"},\"y_scale\":{\"id\":\"5885\",\"type\":\"LinearScale\"}},\"id\":\"5878\",\"subtype\":\"Figure\",\"type\":\"Plot\"},{\"attributes\":{\"dimension\":1,\"plot\":{\"id\":\"5878\",\"subtype\":\"Figure\",\"type\":\"Plot\"},\"ticker\":{\"id\":\"5893\",\"type\":\"BasicTicker\"}},\"id\":\"5896\",\"type\":\"Grid\"},{\"attributes\":{\"fill_alpha\":{\"value\":0.6},\"fill_color\":{\"field\":\"region\",\"transform\":{\"id\":\"2749\",\"type\":\"CategoricalColorMapper\"}},\"line_alpha\":{\"value\":0.6},\"line_color\":{\"field\":\"region\",\"transform\":{\"id\":\"2749\",\"type\":\"CategoricalColorMapper\"}},\"size\":{\"field\":\"population\",\"transform\":{\"id\":\"2744\",\"type\":\"LinearInterpolator\"},\"units\":\"screen\"},\"x\":{\"field\":\"income\"},\"y\":{\"field\":\"life\"}},\"id\":\"5900\",\"type\":\"Circle\"},{\"attributes\":{\"formatter\":{\"id\":\"5909\",\"type\":\"BasicTickFormatter\"},\"plot\":{\"id\":\"5878\",\"subtype\":\"Figure\",\"type\":\"Plot\"},\"ticker\":{\"id\":\"5893\",\"type\":\"BasicTicker\"}},\"id\":\"5892\",\"type\":\"LinearAxis\"},{\"attributes\":{\"border_line_color\":{\"value\":\"red\"},\"items\":[{\"id\":\"5911\",\"type\":\"LegendItem\"}],\"plot\":{\"id\":\"5878\",\"subtype\":\"Figure\",\"type\":\"Plot\"}},\"id\":\"5910\",\"type\":\"Legend\"},{\"attributes\":{\"data\":null,\"x\":[52428.0,1340968737.0],\"y\":[5,50]},\"id\":\"2744\",\"type\":\"LinearInterpolator\"},{\"attributes\":{\"factors\":[\"South Asia\",\"Europe & Central Asia\",\"Middle East & North Africa\",\"Sub-Saharan Africa\",\"America\",\"East Asia & Pacific\"],\"palette\":[\"#3288bd\",\"#99d594\",\"#e6f598\",\"#fee08b\",\"#fc8d59\",\"#d53e4f\"]},\"id\":\"2749\",\"type\":\"CategoricalColorMapper\"},{\"attributes\":{\"callback\":null,\"renderers\":\"auto\",\"tooltips\":\"@Country\"},\"id\":\"5877\",\"type\":\"HoverTool\"},{\"attributes\":{},\"id\":\"1476\",\"type\":\"UnionRenderers\"},{\"attributes\":{\"callback\":null,\"data\":{\"Country\":[\"Afghanistan\",\"Albania\",\"Algeria\",\"Andorra\",\"Angola\",\"Antigua and Barbuda\",\"Argentina\",\"Armenia\",\"Australia\",\"Austria\",\"Azerbaijan\",\"Bahamas\",\"Bahrain\",\"Bangladesh\",\"Barbados\",\"Belarus\",\"Belgium\",\"Belize\",\"Benin\",\"Bhutan\",\"Bolivia\",\"Bosnia and Herzegovina\",\"Botswana\",\"Brazil\",\"Brunei\",\"Bulgaria\",\"Burkina Faso\",\"Burundi\",\"Cambodia\",\"Cameroon\",\"Canada\",\"Cape Verde\",\"Chad\",\"Chile\",\"China\",\"Colombia\",\"Comoros\",\"Congo, Dem. Rep.\",\"Congo, Rep.\",\"Costa Rica\",\"Cote d'Ivoire\",\"Croatia\",\"Cuba\",\"Cyprus\",\"Denmark\",\"Djibouti\",\"Dominica\",\"Ecuador\",\"Egypt\",\"El Salvador\",\"Equatorial Guinea\",\"Eritrea\",\"Estonia\",\"Ethiopia\",\"Fiji\",\"Finland\",\"France\",\"Gabon\",\"Gambia\",\"Georgia\",\"Germany\",\"Ghana\",\"Greece\",\"Grenada\",\"Guatemala\",\"Guinea\",\"Guinea-Bissau\",\"Guyana\",\"Haiti\",\"Honduras\",\"Hungary\",\"Iceland\",\"India\",\"Indonesia\",\"Iran\",\"Iraq\",\"Ireland\",\"Israel\",\"Italy\",\"Jamaica\",\"Japan\",\"Jordan\",\"Kazakhstan\",\"Kenya\",\"Kiribati\",\"Kuwait\",\"Latvia\",\"Lebanon\",\"Lesotho\",\"Liberia\",\"Libya\",\"Lithuania\",\"Luxembourg\",\"Macedonia, FYR\",\"Madagascar\",\"Malawi\",\"Malaysia\",\"Maldives\",\"Mali\",\"Malta\",\"Marshall Islands\",\"Mauritania\",\"Mauritius\",\"Mexico\",\"Micronesia, Fed. Sts.\",\"Moldova\",\"Mongolia\",\"Montenegro\",\"Morocco\",\"Mozambique\",\"Myanmar\",\"Namibia\",\"Nepal\",\"Netherlands\",\"New Zealand\",\"Nicaragua\",\"Niger\",\"Nigeria\",\"Norway\",\"Oman\",\"Pakistan\",\"Panama\",\"Papua New Guinea\",\"Paraguay\",\"Peru\",\"Philippines\",\"Poland\",\"Portugal\",\"Qatar\",\"Romania\",\"Russia\",\"Rwanda\",\"Samoa\",\"Sao Tome and Principe\",\"Saudi Arabia\",\"Senegal\",\"Serbia\",\"Seychelles\",\"Sierra Leone\",\"Singapore\",\"Slovak Republic\",\"Slovenia\",\"Solomon Islands\",\"Somalia\",\"South Africa\",\"South Sudan\",\"Spain\",\"Sri Lanka\",\"Sudan\",\"Suriname\",\"Swaziland\",\"Sweden\",\"Switzerland\",\"Syria\",\"Taiwan\",\"Tajikistan\",\"Tanzania\",\"Thailand\",\"Timor-Leste\",\"Togo\",\"Tonga\",\"Trinidad and Tobago\",\"Tunisia\",\"Turkey\",\"Turkmenistan\",\"Uganda\",\"Ukraine\",\"United Arab Emirates\",\"United Kingdom\",\"United States\",\"Uruguay\",\"Uzbekistan\",\"Vanuatu\",\"Venezuela\",\"Vietnam\",\"West Bank and Gaza\",\"Zambia\",\"Zimbabwe\"],\"Year\":[2010,2010,2010,2010,2010,2010,2010,2010,2010,2010,2010,2010,2010,2010,2010,2010,2010,2010,2010,2010,2010,2010,2010,2010,2010,2010,2010,2010,2010,2010,2010,2010,2010,2010,2010,2010,2010,2010,2010,2010,2010,2010,2010,2010,2010,2010,2010,2010,2010,2010,2010,2010,2010,2010,2010,2010,2010,2010,2010,2010,2010,2010,2010,2010,2010,2010,2010,2010,2010,2010,2010,2010,2010,2010,2010,2010,2010,2010,2010,2010,2010,2010,2010,2010,2010,2010,2010,2010,2010,2010,2010,2010,2010,2010,2010,2010,2010,2010,2010,2010,2010,2010,2010,2010,2010,2010,2010,2010,2010,2010,2010,2010,2010,2010,2010,2010,2010,2010,2010,2010,2010,2010,2010,2010,2010,2010,2010,2010,2010,2010,2010,2010,2010,2010,2010,2010,2010,2010,2010,2010,2010,2010,2010,2010,2010,2010,2010,2010,2010,2010,2010,2010,2010,2010,2010,2010,2010,2010,2010,2010,2010,2010,2010,2010,2010,2010,2010,2010,2010,2010,2010,2010,2010,2010,2010,2010,2010,2010],\"income\":{\"__ndarray__\":\"AAAAAACUmUAAAAAAAE/CQAAAAAAAZ8hAAAAAAMAI40AAAAAAAIe7QAAAAADAFdRAAAAAAIDKzkAAAAAAAGy5QAAAAABALuRAAAAAAKDt5EAAAAAAACfPQAAAAADAYNZAAAAAACDN40AAAAAAADajQAAAAACA4M1AAAAAAICrzkAAAAAAgOfjQAAAAACACMBAAAAAAACUmUAAAAAAAHS5QAAAAAAAn7RAAAAAAIDcwUAAAAAAAKXKQAAAAAAAosxAAAAAAMA+8UAAAAAAABPNQAAAAAAAXJZAAAAAAACohkAAAAAAAKKjQAAAAAAAFqRAAAAAAKDo40AAAAAAAHW3QAAAAAAAhJ5AAAAAAADB0kAAAAAAAGvCQAAAAACADMVAAAAAAABIlkAAAAAAAMCDQAAAAAAAnbVAAAAAAAARyEAAAAAAAJimQAAAAABAhdNAAAAAAEAL0kAAAAAAYHrgQAAAAACg/uRAAAAAAADSpEAAAAAAgEPEQAAAAACAL8JAAAAAAIC7xEAAAAAAAEW8QAAAAADgz+BAAAAAAADskEAAAAAAgDPVQAAAAAAA5JBAAAAAAAC6u0AAAAAAIEDjQAAAAAAg8eFAAAAAAAA3z0AAAAAAAAyaQAAAAAAAMrdAAAAAAADX40AAAAAAACaoQAAAAACAgdxAAAAAAADVxUAAAAAAAMG6QAAAAAAAhJJAAAAAAABglUAAAAAAAKa1QAAAAAAAuJdAAAAAAACusEAAAAAAgIvVQAAAAAAg8+JAAAAAAADDsUAAAAAAAJnAQAAAAAAAldBAAAAAAAAVyEAAAAAAgGrlQAAAAABA0dxAAAAAACB14UAAAAAAAFnAQAAAAACAzOBAAAAAAAD8xUAAAAAAQCTTQAAAAAAAjqNAAAAAAAAEm0AAAAAAUGbyQAAAAAAAudFAAAAAAIDDz0AAAAAAAHahQAAAAAAAiIVAAAAAAECN3UAAAAAAgEXUQAAAAACwQPZAAAAAAIDVxUAAAAAAALiVQAAAAAAACIdAAAAAAIDr00AAAAAAAM3GQAAAAAAAAJpAAAAAAIBA20AAAAAAAHSrQAAAAAAAxqlAAAAAAIB3zkAAAAAAADLOQAAAAAAAEqpAAAAAAACqrkAAAAAAABy+QAAAAAAArMpAAAAAAABCuUAAAAAAABCNQAAAAAAACqhAAAAAAIB4wEAAAAAAADyfQAAAAABgYuZAAAAAAAAU30AAAAAAAPyuQAAAAAAASIpAAAAAAAD6s0AAAAAAQLzuQAAAAACABOhAAAAAAAB8sEAAAAAAgCTNQAAAAAAA5qBAAAAAAABgu0AAAAAAgF3DQAAAAAAA7rVAAAAAAADU1EAAAAAAQMDaQAAAAAAAP/9AAAAAAAB+0EAAAAAAACjVQAAAAAAAuJNAAAAAAAAdtUAAAAAAAG6lQAAAAADAQ+ZAAAAAAAAMoUAAAAAAgAbIQAAAAAAA49NAAAAAAAAMlUAAAAAAgJfxQAAAAACA3ddAAAAAAEC220AAAAAAAOybQAAAAAAAMINAAAAAAICbx0AAAAAAAPytQAAAAABAHOBAAAAAAACUvUAAAAAAAKSpQAAAAACA+stAAAAAAADmtkAAAAAAQPLkQAAAAADgdOpAAAAAAADLuUAAAAAAoBXjQAAAAAAAfKBAAAAAAAC+oEAAAAAAAAvJQAAAAAAAxJtAAAAAAAB4k0AAAAAAAFGzQAAAAABAotxAAAAAAIBVxEAAAAAAgEjQQAAAAAAAmMNAAAAAAACsl0AAAAAAAKS+QAAAAACAqOtAAAAAAACy4UAAAAAAoBvoQAAAAADAsdBAAAAAAABZsEAAAAAAAAinQAAAAAAAJtBAAAAAAACGsUAAAAAAAEOwQAAAAAAA9qpAAAAAAAAwl0A=\",\"dtype\":\"float64\",\"shape\":[178]},\"life\":{\"__ndarray__\":\"ZmZmZmZmS0DNzMzMzMxSQJqZmZmZ+VJAzczMzMzsVEAzMzMzM7NNQM3MzMzMzFJAMzMzMzPzUkCamZmZmTlSQM3MzMzMbFRAAAAAAAAgVECamZmZmdlRQJqZmZmZGVJAzczMzMyMU0BmZmZmZiZRQJqZmZmZ2VJAzczMzMyMUUAzMzMzM/NTQGZmZmZmhlFAAAAAAAAAUEAzMzMzMxNRQDMzMzMz01FAAAAAAAAgU0AAAAAAACBQQM3MzMzMjFJAAAAAAACgU0BmZmZmZmZSQJqZmZmZWU5AmpmZmZlZTUCamZmZmblQQAAAAAAAwExAZmZmZmZGVECamZmZmVlSQJqZmZmZGUxAMzMzMzOzU0CamZmZmflSQDMzMzMz01JAAAAAAACAT0BmZmZmZiZMQGZmZmZmJk5AZmZmZmbmU0CamZmZmZlMQM3MzMzMTFNAAAAAAACAU0BmZmZmZmZUQDMzMzMz01NAZmZmZmbmTkCamZmZmZlSQM3MzMzMjFJAMzMzMzOTUUAzMzMzM3NSQJqZmZmZmUxAAAAAAACATkAzMzMzM/NSQAAAAAAAgE5AmpmZmZl5UEAAAAAAAABUQM3MzMzMTFRAAAAAAADATEAAAAAAAIBPQJqZmZmZGVJAzczMzMwMVEAAAAAAAMBPQGZmZmZm5lNAzczMzMzMUUAzMzMzM7NRQM3MzMzMjE1AAAAAAAAASkBmZmZmZqZPQAAAAAAAgEJAMzMzMzPTUUDNzMzMzKxSQAAAAAAAoFRAZmZmZmZGUEAzMzMzM3NRQJqZmZmZeVNAMzMzMzMTUUCamZmZmflTQAAAAAAAYFRAmpmZmZl5VEAAAAAAAOBSQAAAAAAAwFRAZmZmZmZmU0BmZmZmZsZQQM3MzMzMjE9AAAAAAADATkBmZmZmZsZTQAAAAAAAgFJAAAAAAACAU0AzMzMzM7NHQJqZmZmZ2U5AZmZmZmbmUkCamZmZmXlSQAAAAAAAQFRAMzMzMzPzUkBmZmZmZuZPQGZmZmZm5kpAMzMzMzOTUkCamZmZmblTQAAAAAAAQExAMzMzMzNzVEBmZmZmZgZQQM3MzMzMDFBAmpmZmZkZUkDNzMzMzOxSQJqZmZmZmVBAzczMzMyMUUBmZmZmZuZPQM3MzMzMzFJAzczMzMxsUkCamZmZmdlLQAAAAAAAgFBAAAAAAADATUAAAAAAAGBRQAAAAAAAIFRAAAAAAAAgVEAzMzMzM/NSQJqZmZmZWU5AZmZmZmZmTUCamZmZmTlUQAAAAAAAwFJAzczMzMwsUEDNzMzMzExTQJqZmZmZWU1AmpmZmZlZUkAzMzMzMzNTQM3MzMzMbFFAZmZmZmYGU0AAAAAAAOBTQDMzMzMzU1RAAAAAAACAUkDNzMzMzCxRQJqZmZmZ2U9AZmZmZmbmUUBmZmZmZuZQQM3MzMzMbFNAAAAAAABAUEAAAAAAAEBTQDMzMzMzM1JAAAAAAABATEAAAAAAAGBUQAAAAAAA4FJAAAAAAADgU0AAAAAAAIBPQDMzMzMzc0xAmpmZmZlZTEAAAAAAAEBMQGZmZmZmZlRAzczMzMzsUkAAAAAAAABRQAAAAAAAYFFAZmZmZmbmR0AAAAAAAGBUQDMzMzMzk1RAzczMzMwsU0AzMzMzM7NTQJqZmZmZeVFAMzMzMzNzTkBmZmZmZqZSQDMzMzMzc1FAAAAAAACATkBmZmZmZoZRQGZmZmZmxlFAMzMzMzMzU0DNzMzMzOxSQGZmZmZmplBAMzMzMzMzTUCamZmZmZlRQM3MzMzMDFNAAAAAAAAAVEAAAAAAAKBTQAAAAAAAIFNAZmZmZmZGUUAAAAAAAABQQM3MzMzMrFJAMzMzMzPzUkAAAAAAAIBSQM3MzMzMDEtAMzMzMzMzSUA=\",\"dtype\":\"float64\",\"shape\":[178]},\"population\":{\"__ndarray__\":\"AAAA8LWqekEAAACAvSNGQQAAAPjxLoFBAAAAADCc9EAAAAAgpzx0QQAAAAAQTPVAAAAA2Baog0EAAAAAFJxGQQAAAPDaInVBAAAAQKYBYEEAAACgTlthQQAAAAD4BRZBAAAAAAc/M0EAAAAS+hKiQQAAAAA4EBFBAAAAQNMaYkEAAABA59hkQQAAAAAkoRNBAAAAwHQjYkEAAAAA7PolQQAAAKDk6mJBAAAAAL1CTUEAAAAAVz8/QQAAAIA5radBAAAAAFgBGEEAAABAsEFcQQAAAEDY0G1BAAAAoK8LYkEAAABAeGVrQQAAAKAEo3NBAAAA6MpFgEEAAAAALO4dQQAAAIDHsGZBAAAAgBA6cEEAAEDIY/vTQQAAAKg85YVBAAAAAI5SJUEAAADAKHGPQQAAAACPBU9BAAAAQL5WUUEAAACw9zJzQQAAAEBCd1BBAAAAoIyRZUEAAAAARdcwQQAAAMDbLFVBAAAAAKRaKUEAAAAA8F/xQAAAAIBUfGxBAAAAiGKPk0EAAACAyAhXQQAAAAAMPSZBAAAAAMDjUUEAAAAAeVM0QQAAAFhZ4JRBAAAAAGA+KkEAAABA43lUQQAAAICvBY5BAAAAADCHN0EAAAAAStU5QQAAAACFNlBBAAAArGEtk0EAAABg8jB3QQAAAKDEUWVBAAAAAFCO+UAAAACgfBlsQQAAAMAmAWVBAAAAAJTvOEEAAAAApP0mQQAAACCgEmNBAAAAwACgXEEAAAAg9RljQQAAAABoaRNBAAAATtVX0kEAAACMcs2sQQAAAPQQtJFBAAAAwCtwfUEAAACAHZ1RQQAAAAB0TlxBAAAAOO1pjEEAAACAAupEQQAAAOj7Wp5BAAAAACbdWEEAAAAALBxvQQAAAMjjOoNBAAAAAIAP+UAAAACAiFdHQQAAAAAX5j9BAAAAAIGLUEEAAAAA2q0+QQAAAABzMk5BAAAAQNjmV0EAAACASdNHQQAAAADE/x5BAAAAAGt4P0EAAADAXhp0QQAAAADUK2xBAAAAwBzRekEAAAAAfEwUQQAAAMDm7WxBAAAAAIAmGUEAAAAAgJnpQAAAAAB0ZktBAAAAAM8KM0EAAAAY10ecQQAAAAAwTPlAAAAAgIEpT0EAAACAKLJEQQAAAAAA+yJBAAAAsM2efkEAAAAQ2zF3QQAAAKgQq4hBAAAAgHW8QEEAAABggKF5QQAAAGDiuG9BAAAAwKCqUEEAAACAPuNVQQAAAMASE29BAAAAzEEBo0EAAADAnKhSQQAAAICBdUZBAAAAHFRFpEEAAAAATZ9LQQAAAEAHH1pBAAAAQFWwV0EAAADATAN8QQAAANikLpZBAAAA0NJkgkEAAACgYDBkQQAAAACJ8DpBAAAAYMVbc0EAAACm1hChQQAAAKA0omNBAAAAAGi1BkEAAAAAANwEQQAAAHARynpBAAAA4I62aEEAAADAXEdhQQAAAACQufZAAAAAgIcIVkEAAABA7F9TQQAAAAAsoFRBAAAAAIBRP0EAAAAAwg4gQQAAAECSRmJBAAAA0HadiEEAAABgYy5jQQAAAKCoOIZBAAAAAPZDc0EAAAAojjiBQQAAAAD0nx9BAAAAALw0MkEAAAAgM+VhQQAAAIAB311BAAAAoL3Cc0EAAACAVvV1QQAAAAAA7FxBAAAAaFTEhUEAAADAHc2PQQAAAABiITBBAAAAwBBhWEEAAAAAsGD5QAAAAADfQzRBAAAAQOtKZEEAAABAej2RQQAAAMDSO1NBAAAAkB6df0EAAABINMSFQQAAAEA7xl9BAAAAYNjnjUEAAADKVXiyQQAAAACnvklBAAAAQGd0ekEAAAAAWNgMQQAAABAKp3tBAAAAPO4QlUEAAAAA1gpPQQAAAOCfi2pBAAAAIDGnakE=\",\"dtype\":\"float64\",\"shape\":[178]},\"region\":[\"South Asia\",\"Europe & Central Asia\",\"Middle East & North Africa\",\"Europe & Central Asia\",\"Sub-Saharan Africa\",\"America\",\"America\",\"Europe & Central Asia\",\"East Asia & Pacific\",\"Europe & Central Asia\",\"Europe & Central Asia\",\"America\",\"Middle East & North Africa\",\"South Asia\",\"America\",\"Europe & Central Asia\",\"Europe & Central Asia\",\"America\",\"Sub-Saharan Africa\",\"South Asia\",\"America\",\"Europe & Central Asia\",\"Sub-Saharan Africa\",\"America\",\"East Asia & Pacific\",\"Europe & Central Asia\",\"Sub-Saharan Africa\",\"Sub-Saharan Africa\",\"East Asia & Pacific\",\"Sub-Saharan Africa\",\"America\",\"Sub-Saharan Africa\",\"Sub-Saharan Africa\",\"America\",\"East Asia & Pacific\",\"America\",\"Sub-Saharan Africa\",\"Sub-Saharan Africa\",\"Sub-Saharan Africa\",\"America\",\"Sub-Saharan Africa\",\"Europe & Central Asia\",\"America\",\"Europe & Central Asia\",\"Europe & Central Asia\",\"Middle East & North Africa\",\"America\",\"America\",\"Middle East & North Africa\",\"America\",\"Sub-Saharan Africa\",\"Sub-Saharan Africa\",\"Europe & Central Asia\",\"Sub-Saharan Africa\",\"East Asia & Pacific\",\"Europe & Central Asia\",\"Europe & Central Asia\",\"Sub-Saharan Africa\",\"Sub-Saharan Africa\",\"Europe & Central Asia\",\"Europe & Central Asia\",\"Sub-Saharan Africa\",\"Europe & Central Asia\",\"America\",\"America\",\"Sub-Saharan Africa\",\"Sub-Saharan Africa\",\"America\",\"America\",\"America\",\"Europe & Central Asia\",\"Europe & Central Asia\",\"South Asia\",\"East Asia & Pacific\",\"Middle East & North Africa\",\"Middle East & North Africa\",\"Europe & Central Asia\",\"Middle East & North Africa\",\"Europe & Central Asia\",\"America\",\"East Asia & Pacific\",\"Middle East & North Africa\",\"Europe & Central Asia\",\"Sub-Saharan Africa\",\"East Asia & Pacific\",\"Middle East & North Africa\",\"Europe & Central Asia\",\"Middle East & North Africa\",\"Sub-Saharan Africa\",\"Sub-Saharan Africa\",\"Middle East & North Africa\",\"Europe & Central Asia\",\"Europe & Central Asia\",\"Europe & Central Asia\",\"Sub-Saharan Africa\",\"Sub-Saharan Africa\",\"East Asia & Pacific\",\"South Asia\",\"Sub-Saharan Africa\",\"Europe & Central Asia\",\"East Asia & Pacific\",\"Sub-Saharan Africa\",\"Sub-Saharan Africa\",\"America\",\"East Asia & Pacific\",\"Europe & Central Asia\",\"East Asia & Pacific\",\"Europe & Central Asia\",\"Middle East & North Africa\",\"Sub-Saharan Africa\",\"East Asia & Pacific\",\"Sub-Saharan Africa\",\"South Asia\",\"Europe & Central Asia\",\"East Asia & Pacific\",\"America\",\"Sub-Saharan Africa\",\"Sub-Saharan Africa\",\"Europe & Central Asia\",\"Middle East & North Africa\",\"South Asia\",\"America\",\"East Asia & Pacific\",\"America\",\"America\",\"East Asia & Pacific\",\"Europe & Central Asia\",\"Europe & Central Asia\",\"Middle East & North Africa\",\"Europe & Central Asia\",\"Europe & Central Asia\",\"Sub-Saharan Africa\",\"East Asia & Pacific\",\"Sub-Saharan Africa\",\"Middle East & North Africa\",\"Sub-Saharan Africa\",\"Europe & Central Asia\",\"Sub-Saharan Africa\",\"Sub-Saharan Africa\",\"East Asia & Pacific\",\"Europe & Central Asia\",\"Europe & Central Asia\",\"East Asia & Pacific\",\"Sub-Saharan Africa\",\"Sub-Saharan Africa\",\"Sub-Saharan Africa\",\"Europe & Central Asia\",\"South Asia\",\"Sub-Saharan Africa\",\"America\",\"Sub-Saharan Africa\",\"Europe & Central Asia\",\"Europe & Central Asia\",\"Middle East & North Africa\",\"East Asia & Pacific\",\"Europe & Central Asia\",\"Sub-Saharan Africa\",\"East Asia & Pacific\",\"East Asia & Pacific\",\"Sub-Saharan Africa\",\"East Asia & Pacific\",\"America\",\"Middle East & North Africa\",\"Europe & Central Asia\",\"Europe & Central Asia\",\"Sub-Saharan Africa\",\"Europe & Central Asia\",\"Middle East & North Africa\",\"Europe & Central Asia\",\"America\",\"America\",\"Europe & Central Asia\",\"East Asia & Pacific\",\"America\",\"East Asia & Pacific\",\"Middle East & North Africa\",\"Sub-Saharan Africa\",\"Sub-Saharan Africa\"]},\"selected\":{\"id\":\"1477\",\"type\":\"Selection\"},\"selection_policy\":{\"id\":\"1476\",\"type\":\"UnionRenderers\"}},\"id\":\"1409\",\"type\":\"ColumnDataSource\"},{\"attributes\":{},\"id\":\"1477\",\"type\":\"Selection\"},{\"attributes\":{\"callback\":null,\"end\":100000,\"start\":100},\"id\":\"5879\",\"type\":\"Range1d\"},{\"attributes\":{\"plot\":{\"id\":\"5878\",\"subtype\":\"Figure\",\"type\":\"Plot\"},\"ticker\":{\"id\":\"5888\",\"type\":\"LogTicker\"}},\"id\":\"5891\",\"type\":\"Grid\"},{\"attributes\":{\"callback\":null,\"end\":100},\"id\":\"5881\",\"type\":\"Range1d\"},{\"attributes\":{\"source\":{\"id\":\"1409\",\"type\":\"ColumnDataSource\"}},\"id\":\"5903\",\"type\":\"CDSView\"},{\"attributes\":{\"plot\":null,\"text\":\"\"},\"id\":\"5905\",\"type\":\"Title\"},{\"attributes\":{},\"id\":\"5883\",\"type\":\"LogScale\"},{\"attributes\":{},\"id\":\"5885\",\"type\":\"LinearScale\"},{\"attributes\":{\"ticker\":null},\"id\":\"5907\",\"type\":\"LogTickFormatter\"},{\"attributes\":{},\"id\":\"5893\",\"type\":\"BasicTicker\"},{\"attributes\":{\"formatter\":{\"id\":\"5907\",\"type\":\"LogTickFormatter\"},\"plot\":{\"id\":\"5878\",\"subtype\":\"Figure\",\"type\":\"Plot\"},\"ticker\":{\"id\":\"5888\",\"type\":\"LogTicker\"}},\"id\":\"5887\",\"type\":\"LogAxis\"},{\"attributes\":{\"label\":{\"field\":\"region\"},\"renderers\":[{\"id\":\"5902\",\"type\":\"GlyphRenderer\"}]},\"id\":\"5911\",\"type\":\"LegendItem\"},{\"attributes\":{},\"id\":\"5909\",\"type\":\"BasicTickFormatter\"},{\"attributes\":{\"active_drag\":\"auto\",\"active_inspect\":\"auto\",\"active_multi\":null,\"active_scroll\":\"auto\",\"active_tap\":\"auto\",\"tools\":[{\"id\":\"5877\",\"type\":\"HoverTool\"}]},\"id\":\"5897\",\"type\":\"Toolbar\"},{\"attributes\":{\"num_minor_ticks\":10},\"id\":\"5888\",\"type\":\"LogTicker\"},{\"attributes\":{\"data_source\":{\"id\":\"1409\",\"type\":\"ColumnDataSource\"},\"glyph\":{\"id\":\"5900\",\"type\":\"Circle\"},\"hover_glyph\":null,\"muted_glyph\":null,\"nonselection_glyph\":{\"id\":\"5901\",\"type\":\"Circle\"},\"selection_glyph\":null,\"view\":{\"id\":\"5903\",\"type\":\"CDSView\"}},\"id\":\"5902\",\"type\":\"GlyphRenderer\"},{\"attributes\":{\"fill_alpha\":{\"value\":0.1},\"fill_color\":{\"value\":\"#1f77b4\"},\"line_alpha\":{\"value\":0.1},\"line_color\":{\"value\":\"#1f77b4\"},\"size\":{\"field\":\"population\",\"transform\":{\"id\":\"2744\",\"type\":\"LinearInterpolator\"},\"units\":\"screen\"},\"x\":{\"field\":\"income\"},\"y\":{\"field\":\"life\"}},\"id\":\"5901\",\"type\":\"Circle\"}],\"root_ids\":[\"5878\"]},\"title\":\"Bokeh Application\",\"version\":\"1.0.1\"}};\n",
       "  var render_items = [{\"docid\":\"cc957591-0f96-41ce-a418-3514d8418f53\",\"roots\":{\"5878\":\"1b5a58e1-ef14-481e-aab7-d43a1416f9a0\"}}];\n",
       "  root.Bokeh.embed.embed_items_notebook(docs_json, render_items);\n",
       "\n",
       "  }\n",
       "  if (root.Bokeh !== undefined) {\n",
       "    embed_document(root);\n",
       "  } else {\n",
       "    var attempts = 0;\n",
       "    var timer = setInterval(function(root) {\n",
       "      if (root.Bokeh !== undefined) {\n",
       "        embed_document(root);\n",
       "        clearInterval(timer);\n",
       "      }\n",
       "      attempts++;\n",
       "      if (attempts > 100) {\n",
       "        console.log(\"Bokeh: ERROR: Unable to run BokehJS code because BokehJS library is missing\");\n",
       "        clearInterval(timer);\n",
       "      }\n",
       "    }, 10, root)\n",
       "  }\n",
       "})(window);"
      ],
      "application/vnd.bokehjs_exec.v0+json": ""
     },
     "metadata": {
      "application/vnd.bokehjs_exec.v0+json": {
       "id": "5878"
      }
     },
     "output_type": "display_data"
    }
   ],
   "source": [
    "#Plot again, now using the color_mapper we just created\n",
    "hover = HoverTool(tooltips='@Country')\n",
    "p = figure(**PLOT_OPS,tools=[hover])\n",
    "p.circle(x='income',\n",
    "         y='life',\n",
    "         source=theCDS2,\n",
    "         size={'field':'population','transform':size_mapper},\n",
    "         color={'field':'region','transform':color_mapper},\n",
    "         alpha=0.6,\n",
    "         #Show a legend for the region column\n",
    "         legend='region'\n",
    "        )\n",
    "#Set some legend properties\n",
    "p.legend.border_line_color = 'red'\n",
    "#Puts the legend off to the right\n",
    "p.right = p.legend\n",
    "show(p)"
   ]
  },
  {
   "cell_type": "code",
   "execution_count": null,
   "metadata": {},
   "outputs": [],
   "source": []
  }
 ],
 "metadata": {
  "kernelspec": {
   "display_name": "Python 3",
   "language": "python",
   "name": "python3"
  },
  "language_info": {
   "codemirror_mode": {
    "name": "ipython",
    "version": 3
   },
   "file_extension": ".py",
   "mimetype": "text/x-python",
   "name": "python",
   "nbconvert_exporter": "python",
   "pygments_lexer": "ipython3",
   "version": "3.6.5"
  }
 },
 "nbformat": 4,
 "nbformat_minor": 2
}
